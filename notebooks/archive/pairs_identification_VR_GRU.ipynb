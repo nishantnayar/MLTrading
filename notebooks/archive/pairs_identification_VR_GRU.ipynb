{
 "cells": [
  {
   "cell_type": "markdown",
   "id": "9aed91d5-085c-49ed-82b1-2aaacca13308",
   "metadata": {},
   "source": [
    "# Basics"
   ]
  },
  {
   "cell_type": "markdown",
   "id": "6b1bb664-0032-46c3-b008-d949e72d32f9",
   "metadata": {},
   "source": [
    "## Approach"
   ]
  },
  {
   "cell_type": "markdown",
   "id": "74510d5b-c91d-4f8c-ab75-1d8824454c60",
   "metadata": {},
   "source": [
    "- Volatility-Regime Adaptation\n",
    "    - Implement regime-dependent β using GRU to adjust hedge ratios based on GARCH volatility bands (e.g., high-volatility β vs. low-volatility β).\n",
    "    - Validate with the double-sorting methodology from [1](https://papers.ssrn.com/sol3/papers.cfm?abstract_id=2774063), comparing returns across volatility regimes."
   ]
  },
  {
   "cell_type": "markdown",
   "id": "4755120e-13e1-46e3-8570-177049c27fde",
   "metadata": {},
   "source": [
    "## Imports"
   ]
  },
  {
   "cell_type": "code",
   "id": "initial_id",
   "metadata": {
    "ExecuteTime": {
     "end_time": "2025-05-04T00:58:39.807609Z",
     "start_time": "2025-05-04T00:58:36.882604Z"
    }
   },
   "source": [
    "import os\n",
    "import datetime\n",
    "import itertools\n",
    "import random\n",
    "\n",
    "random.seed(42)\n",
    "import warnings\n",
    "\n",
    "import backtrader as bt\n",
    "import matplotlib.pyplot as plt\n",
    "import matplotlib.patches as patches\n",
    "import numpy as np\n",
    "import pandas as pd\n",
    "import seaborn as sns\n",
    "import statsmodels.api as sm\n",
    "import tensorflow as tf\n",
    "from arch import arch_model\n",
    "from arch.__future__ import reindexing\n",
    "from matplotlib.ticker import FixedLocator, FixedFormatter\n",
    "from numpy import cumsum, log, polyfit, sqrt, std, subtract\n",
    "import optuna\n",
    "from optuna.trial import TrialState\n",
    "import logging\n",
    "optuna.logging.set_verbosity(optuna.logging.WARNING)\n",
    "from scipy.signal import savgol_filter\n",
    "from sklearn.cluster import KMeans\n",
    "from sklearn.metrics import (accuracy_score, classification_report, confusion_matrix,\n",
    "                             f1_score, mean_squared_error, precision_recall_curve,\n",
    "                             precision_score, recall_score, silhouette_score)\n",
    "from sklearn.model_selection import train_test_split\n",
    "from sklearn.neighbors import NearestNeighbors\n",
    "from sklearn.preprocessing import RobustScaler, StandardScaler\n",
    "from sklearn.utils.class_weight import compute_class_weight\n",
    "from tensorflow.keras.callbacks import EarlyStopping\n",
    "from tensorflow.keras.layers import GRU, Concatenate, Dense, Dropout, Embedding, Layer\n",
    "from tensorflow.keras.models import Sequential\n",
    "from tensorflow.keras.optimizers import Adam\n",
    "from tqdm import tqdm\n",
    "from tqdm.auto import tqdm\n",
    "from statsmodels.stats.diagnostic import acorr_ljungbox, het_arch\n",
    "from statsmodels.tsa.stattools import adfuller, coint, kpss, OLS\n",
    "\n",
    "from src.database.database_connectivity import DatabaseConnectivity\n",
    "from src.utilities.helper import pred_color_presentation\n",
    "\n",
    "warnings.filterwarnings(\"ignore\", category=FutureWarning)\n",
    "os.environ[\"OMP_NUM_THREADS\"] = \"1\"  # Set before importing sklearn\n",
    "os.environ[\"TF_CPP_MIN_LOG_LEVEL\"] = \"3\"  # Suppress TensorFlow logs\n",
    "# logging.set_verbosity(logging.WARNING)\n",
    "\n",
    "# create an instance of DBconnectivity\n",
    "db = DatabaseConnectivity()"
   ],
   "outputs": [
    {
     "name": "stdout",
     "output_type": "stream",
     "text": [
      "2025-05-03 19:58:39 : Connection to trading_database successful!\n"
     ]
    }
   ],
   "execution_count": 1
  },
  {
   "cell_type": "markdown",
   "id": "506d5056-a7a8-4b18-a1d6-6af0cb5ae623",
   "metadata": {},
   "source": [
    "## Setup"
   ]
  },
  {
   "cell_type": "code",
   "id": "2055acaafa3b2301",
   "metadata": {
    "ExecuteTime": {
     "end_time": "2025-05-04T00:58:39.823314Z",
     "start_time": "2025-05-04T00:58:39.807609Z"
    }
   },
   "source": [
    "# Visualization basics\n",
    "# %matplotlib inline\n",
    "\n",
    "fig_path = r'D:\\PythonProjects\\Trading\\src\\fig'  \n",
    "\n",
    "\n",
    "def pred_color_presentation(c):\n",
    "    custom_palette_presentation = {\n",
    "        'midnight-blue': '#191970',\n",
    "        'forest-green': '#228B22',\n",
    "        'muted-gold': '#B8860B',\n",
    "        'light-gray': '#D3D3D3',\n",
    "        'sea-green': '#2E8B57',\n",
    "        'teal-green': '#008080',\n",
    "        'highlight': '#C19A6B',\n",
    "        'red':'#a00000',\n",
    "        'dark-blue': '#082A54',\n",
    "        'dark-red': '#E02B35',\n",
    "        'blue': '#1a80bb',\n",
    "        'light-blue': '#8CC5E3',\n",
    "        'black': '#000000',\n",
    "        'black2': '#333333',\n",
    "        'black3':'#666666',\n",
    "        'black4':'#999999',\n",
    "        'black5':'#CCCCCC',\n",
    "        'color1':'#dfdfdf',\n",
    "        'color2':'#dfb834',\n",
    "        'color3':'#f1f6db',\n",
    "        'color4':'#649e92',\n",
    "        'color5':'#a13d61',\n",
    "    }\n",
    "    return custom_palette_presentation.get(c, \"Invalid color name\")\n",
    "\n",
    "def pred_color(c):\n",
    "    custom_palette_presentation = {\n",
    "        'blue':'#1A80BB',\n",
    "        'orange': '#EA801C',\n",
    "        'red':'#A00000',\n",
    "        'black1': '#000000',\n",
    "        'black2': '#333333',\n",
    "        'black3':'#666666',\n",
    "        'black4':'#999999',\n",
    "        'black5':'#CCCCCC',\n",
    "        \n",
    "    }\n",
    "    return custom_palette_presentation.get(c, \"Invalid color name\")\n",
    "\n",
    "# https://www.simplifiedsciencepublishing.com/resources/best-color-palettes-for-scientific-figures-and-data-visualizations"
   ],
   "outputs": [],
   "execution_count": 2
  },
  {
   "cell_type": "markdown",
   "id": "094ef7ef-8943-4898-99f2-83291679ff15",
   "metadata": {},
   "source": [
    "# Load and Prepare Data "
   ]
  },
  {
   "cell_type": "markdown",
   "id": "23dd248a-59ee-4ad6-bfaf-d55257ed4b0f",
   "metadata": {},
   "source": [
    "## Data Ingestion"
   ]
  },
  {
   "cell_type": "markdown",
   "id": "af597284-6bc7-4630-a559-b064fd18680a",
   "metadata": {},
   "source": [
    "### Sector"
   ]
  },
  {
   "cell_type": "code",
   "id": "4d7919b8-8703-4780-b473-ce14f5270b27",
   "metadata": {
    "ExecuteTime": {
     "end_time": "2025-05-04T00:58:47.192427Z",
     "start_time": "2025-05-04T00:58:39.823314Z"
    }
   },
   "source": [
    "query = f\"\"\"\n",
    "SELECT a.symbol, a.timestamp, a.close, y.longname, y.sector, y.industry\n",
    "FROM yahoo_finance_info_new y, yahoo_data_hour a\n",
    "WHERE y.symbol = a.symbol;\n",
    "\"\"\"\n",
    "\n",
    "entire_df = db.fetch_data(query)\n",
    "print(f\"The number of stocks selected for analysis are {len(entire_df['symbol'].unique())}\")"
   ],
   "outputs": [
    {
     "name": "stdout",
     "output_type": "stream",
     "text": [
      "The number of stocks selected for analysis are 1067\n"
     ]
    }
   ],
   "execution_count": 3
  },
  {
   "cell_type": "code",
   "id": "1b328790-5476-4580-b6c3-b06280d6e3f5",
   "metadata": {
    "ExecuteTime": {
     "end_time": "2025-05-04T00:58:47.816872Z",
     "start_time": "2025-05-04T00:58:47.192427Z"
    }
   },
   "source": [
    "# Get current date and time\n",
    "now = datetime.datetime.now()\n",
    "formatted_date_time = now.strftime(\"%d %b %Y, %I:%M%p\") \n",
    "\n",
    "# Prepare unique industry counts\n",
    "temp_df = entire_df[['symbol', 'sector']].drop_duplicates()\n",
    "sector_counts = temp_df['sector'].value_counts().sort_values(ascending=False)\n",
    "\n",
    "# Identify the industry with the highest count\n",
    "max_index = sector_counts.idxmax()\n",
    "\n",
    "# Define colors based on the highest count\n",
    "colors = [pred_color_presentation('color1') if sector != max_index else pred_color_presentation('color4') for sector in sector_counts.index]\n",
    "\n",
    "# Create a horizontal bar chart with highest at the top\n",
    "ax = sector_counts.plot(kind='barh', figsize=(7, 6), width=0.7, color=colors)\n",
    "\n",
    "# Reverse the order so the highest value appears at the top\n",
    "ax.invert_yaxis()\n",
    "\n",
    "# Keep y-labels but remove y-ticks\n",
    "ax.set_yticks(range(len(sector_counts)))\n",
    "\n",
    "# Make y-labels and bold the one for max industry\n",
    "yticklabels = []\n",
    "for sector in sector_counts.index:\n",
    "    if sector == max_index:\n",
    "        yticklabels.append(f\"$\\\\bf{{{sector}}}$\")\n",
    "    else:\n",
    "        yticklabels.append(sector)\n",
    "ax.set_yticklabels(yticklabels, fontsize=10)\n",
    "\n",
    "ax.tick_params(left=False)\n",
    "\n",
    "# Add margin space between labels and bars\n",
    "ax.margins(y=0.1)\n",
    "\n",
    "# Add horizontal lines to group pairs of three\n",
    "for i in range(3, len(sector_counts), 3):\n",
    "    ax.axhline(y=i - 0.5, color='black', linestyle='dashed', linewidth=1.2)\n",
    "\n",
    "# Customize the chart\n",
    "ax.set_xlabel('Number of Stocks')\n",
    "ax.set_ylabel('')\n",
    "ax.set_xticklabels([])  \n",
    "ax.xaxis.set_visible(False)  \n",
    "ax.grid(axis='x', linestyle='none')\n",
    "ax.grid(axis='y', linestyle='none')\n",
    "\n",
    "# Remove unnecessary spines\n",
    "for spine in ['right', 'top', 'bottom', 'left']:\n",
    "    ax.spines[spine].set_visible(False)\n",
    "\n",
    "# Get bar positions for count labels\n",
    "bar_containers = ax.containers  \n",
    "bar_y_positions = [rect.get_y() + rect.get_height() / 2 for rect in bar_containers[0]]\n",
    "\n",
    "# Add count labels with bold for the highest count\n",
    "for count, y_pos, industry in zip(sector_counts, bar_y_positions, sector_counts.index):\n",
    "    fontweight = 'bold' if sector == max_index else 'normal'\n",
    "    ax.text(\n",
    "        count + max(sector_counts) * 0.02,\n",
    "        y_pos,\n",
    "        str(count),\n",
    "        va='center',\n",
    "        ha='left',\n",
    "        fontsize=10,\n",
    "        fontweight=fontweight\n",
    "    )\n",
    "\n",
    "# Add a dotted border around the bar with the highest count\n",
    "for rect, sector in zip(bar_containers[0], sector_counts.index):\n",
    "    if sector == max_index:\n",
    "        x = rect.get_x()\n",
    "        y = rect.get_y()\n",
    "        width = rect.get_width()\n",
    "        height = rect.get_height()\n",
    "\n",
    "        dotted_rect = patches.Rectangle(\n",
    "            (x, y),\n",
    "            width,\n",
    "            height,\n",
    "            linewidth=2,\n",
    "            edgecolor='black',\n",
    "            facecolor='none',\n",
    "            linestyle='dotted'\n",
    "        )\n",
    "        ax.add_patch(dotted_rect)\n",
    "        break\n",
    "\n",
    "# Add annotation for the highest industry\n",
    "plt.annotate(\n",
    "    'Sector Distribution', \n",
    "    xy=(-0.3, 1.2), \n",
    "    xycoords='axes fraction', \n",
    "    fontsize=14, \n",
    "    fontweight='bold',\n",
    "    ha='left', \n",
    "    va='bottom',\n",
    "    color=pred_color_presentation('color5')\n",
    ")\n",
    "\n",
    "plt.annotate(\n",
    "    f'{sector_counts.index[0]} sector has the highest number of stocks, followed by {sector_counts.index[1]}.', \n",
    "    xy=(-0.3, 1.09), \n",
    "    xycoords='axes fraction', \n",
    "    fontsize=10, \n",
    "    ha='left', \n",
    "    va='bottom',\n",
    "    color='black'\n",
    ")\n",
    "\n",
    "# Add footnote with date and time\n",
    "plt.figtext(\n",
    "    0.1,  \n",
    "    0.01,  \n",
    "    f\"Figure created: {formatted_date_time} | Author:Nishant Nayar\",\n",
    "    horizontalalignment='left',\n",
    "    verticalalignment='bottom',\n",
    "    fontsize=8,\n",
    "    color='black'\n",
    ")\n",
    "\n",
    "# Save and show the plot\n",
    "fig_name = f'industry_distribution_{sector}.jpg'\n",
    "# plt.savefig(os.path.join(fig_path, fig_name), bbox_inches='tight')\n",
    "plt.show()"
   ],
   "outputs": [
    {
     "data": {
      "text/plain": [
       "<Figure size 700x600 with 1 Axes>"
      ],
      "image/png": "[encoded data removed]"
     },
     "metadata": {},
     "output_type": "display_data"
    }
   ],
   "execution_count": 4
  },
  {
   "cell_type": "markdown",
   "id": "3b8f769e-b9ae-41e2-afe2-f598bcfd5b95",
   "metadata": {},
   "source": [
    "### Technology"
   ]
  },
  {
   "cell_type": "code",
   "id": "62251c65-ce87-44bb-95e4-9350ccc91047",
   "metadata": {
    "ExecuteTime": {
     "end_time": "2025-05-04T00:58:49.248153Z",
     "start_time": "2025-05-04T00:58:47.816872Z"
    }
   },
   "source": [
    "sector = 'Technology'\n",
    "\n",
    "query = f\"\"\"\n",
    "SELECT a.symbol, a.timestamp, a.close, y.longname, y.sector, y.industry\n",
    "FROM yahoo_finance_info_new y, yahoo_data_hour a\n",
    "WHERE y.symbol = a.symbol\n",
    "AND y.sector = '{sector}';\n",
    "\"\"\"\n",
    "\n",
    "original_df = db.fetch_data(query)\n",
    "print(f\"The number of stocks selected for analysis are {len(original_df['symbol'].unique())}\")\n",
    "\n",
    "# format sector after running query to use in code\n",
    "sector = sector.lower().replace(' ', '_')"
   ],
   "outputs": [
    {
     "name": "stdout",
     "output_type": "stream",
     "text": [
      "The number of stocks selected for analysis are 238\n"
     ]
    }
   ],
   "execution_count": 5
  },
  {
   "cell_type": "markdown",
   "id": "5a534f45-e541-462d-a0f9-f7a869cea1b4",
   "metadata": {},
   "source": [
    "## Gaps"
   ]
  },
  {
   "cell_type": "code",
   "id": "42db2f96-381e-41af-a6ac-1085719ced53",
   "metadata": {
    "ExecuteTime": {
     "end_time": "2025-05-04T00:58:49.295455Z",
     "start_time": "2025-05-04T00:58:49.248153Z"
    }
   },
   "source": [
    "symbol_counts = pd.DataFrame(original_df['symbol'].value_counts())\n",
    "high = symbol_counts['count'].head(1).values\n",
    "low = symbol_counts['count'].tail(1).values\n",
    "if high[0] == low[0]:\n",
    "    print('The values match, no need to perform any cleaning activity.')\n",
    "else:\n",
    "    print('The values do not match')"
   ],
   "outputs": [
    {
     "name": "stdout",
     "output_type": "stream",
     "text": [
      "The values do not match\n"
     ]
    }
   ],
   "execution_count": 6
  },
  {
   "cell_type": "code",
   "id": "f5316ac5-10b8-436a-9d67-b44f7aac159e",
   "metadata": {
    "ExecuteTime": {
     "end_time": "2025-05-04T00:58:49.393861Z",
     "start_time": "2025-05-04T00:58:49.295455Z"
    }
   },
   "source": [
    "# Calculate 70% of the highest count\n",
    "high_percent = high[0] * 0.80\n",
    "\n",
    "# Filter symbols\n",
    "filtered_symbols = symbol_counts[symbol_counts['count']> 1800]\n",
    "\n",
    "# Get the symbols from filtered_symbols\n",
    "filtered_symbol_list = filtered_symbols.index\n",
    "# Filter result_df based on the selected symbols\n",
    "original_df = original_df[original_df['symbol'].isin(filtered_symbol_list)]"
   ],
   "outputs": [],
   "execution_count": 7
  },
  {
   "cell_type": "code",
   "id": "b2207763-1cf4-4f46-94e7-3f93a6071d51",
   "metadata": {
    "ExecuteTime": {
     "end_time": "2025-05-04T00:58:49.425815Z",
     "start_time": "2025-05-04T00:58:49.393861Z"
    }
   },
   "source": [
    "print(f\"The number of stocks selected for analysis are {len(original_df['symbol'].unique())}\")"
   ],
   "outputs": [
    {
     "name": "stdout",
     "output_type": "stream",
     "text": [
      "The number of stocks selected for analysis are 234\n"
     ]
    }
   ],
   "execution_count": 8
  },
  {
   "cell_type": "code",
   "id": "e3f32a43-6dc7-4099-b47a-416e2569b928",
   "metadata": {
    "ExecuteTime": {
     "end_time": "2025-05-04T00:58:50.523336Z",
     "start_time": "2025-05-04T00:58:49.425815Z"
    }
   },
   "source": [
    "# 1. Get the highest count\n",
    "highest_count = original_df['timestamp'].value_counts().max()\n",
    "\n",
    "# 2. Get the timestamps that have this highest count (handles ties)\n",
    "most_common_timestamps = original_df['timestamp'].value_counts()[original_df['timestamp'].value_counts() == highest_count].index.tolist()\n",
    "\n",
    "# 3. Filter the DataFrame\n",
    "original_df = original_df[original_df['timestamp'].isin(most_common_timestamps)]\n",
    "\n",
    "print(f\"The number of unique stocks remaining are {len(original_df['symbol'].unique())}\")"
   ],
   "outputs": [
    {
     "name": "stdout",
     "output_type": "stream",
     "text": [
      "The number of unique stocks remaining are 234\n"
     ]
    }
   ],
   "execution_count": 9
  },
  {
   "cell_type": "code",
   "id": "dda0debe-8b0a-4057-bbe8-7213f3985f56",
   "metadata": {
    "ExecuteTime": {
     "end_time": "2025-05-04T00:58:50.751329Z",
     "start_time": "2025-05-04T00:58:50.523336Z"
    }
   },
   "source": [
    "# Get current date and time\n",
    "now = datetime.datetime.now()\n",
    "formatted_date_time = now.strftime(\"%d %b %Y, %I:%M%p\") \n",
    "\n",
    "# Prepare unique industry counts\n",
    "temp_df = original_df[['symbol', 'industry']].drop_duplicates()\n",
    "industry_counts = temp_df['industry'].value_counts().sort_values(ascending=False)\n",
    "\n",
    "# Identify the industry with the highest count\n",
    "max_index = industry_counts.idxmax()\n",
    "\n",
    "# Define colors based on the highest count\n",
    "colors = [pred_color_presentation('color1') if industry != max_index else pred_color_presentation('color4') for industry in industry_counts.index]\n",
    "\n",
    "# Create a horizontal bar chart with highest at the top\n",
    "ax = industry_counts.plot(kind='barh', figsize=(7, 6), width=0.7, color=colors)\n",
    "\n",
    "# Reverse the order so the highest value appears at the top\n",
    "ax.invert_yaxis()\n",
    "\n",
    "# Keep y-labels but remove y-ticks\n",
    "ax.set_yticks(range(len(industry_counts)))\n",
    "\n",
    "# Make y-labels and bold the one for max industry\n",
    "yticklabels = []\n",
    "for industry in industry_counts.index:\n",
    "    if industry == max_index:\n",
    "        yticklabels.append(f\"$\\\\bf{{{industry}}}$\")\n",
    "    else:\n",
    "        yticklabels.append(industry)\n",
    "ax.set_yticklabels(yticklabels, fontsize=10)\n",
    "\n",
    "ax.tick_params(left=False)\n",
    "\n",
    "# Add margin space between labels and bars\n",
    "ax.margins(y=0.1)\n",
    "\n",
    "# Add horizontal lines to group pairs of three\n",
    "for i in range(3, len(industry_counts), 3):\n",
    "    ax.axhline(y=i - 0.5, color='black', linestyle='dashed', linewidth=1.2)\n",
    "\n",
    "# Customize the chart\n",
    "ax.set_xlabel('Number of Stocks')\n",
    "ax.set_ylabel('')\n",
    "ax.set_xticklabels([])  \n",
    "ax.xaxis.set_visible(False)  \n",
    "ax.grid(axis='x', linestyle='none')\n",
    "ax.grid(axis='y', linestyle='none')\n",
    "\n",
    "# Remove unnecessary spines\n",
    "for spine in ['right', 'top', 'bottom', 'left']:\n",
    "    ax.spines[spine].set_visible(False)\n",
    "\n",
    "# Get bar positions for count labels\n",
    "bar_containers = ax.containers  \n",
    "bar_y_positions = [rect.get_y() + rect.get_height() / 2 for rect in bar_containers[0]]\n",
    "\n",
    "# Add count labels with bold for the highest count\n",
    "for count, y_pos, industry in zip(industry_counts, bar_y_positions, industry_counts.index):\n",
    "    fontweight = 'bold' if industry == max_index else 'normal'\n",
    "    ax.text(\n",
    "        count + max(industry_counts) * 0.02,\n",
    "        y_pos,\n",
    "        str(count),\n",
    "        va='center',\n",
    "        ha='left',\n",
    "        fontsize=10,\n",
    "        fontweight=fontweight\n",
    "    )\n",
    "\n",
    "# Add a dotted border around the bar with the highest count\n",
    "for rect, industry in zip(bar_containers[0], industry_counts.index):\n",
    "    if industry == max_index:\n",
    "        x = rect.get_x()\n",
    "        y = rect.get_y()\n",
    "        width = rect.get_width()\n",
    "        height = rect.get_height()\n",
    "\n",
    "        dotted_rect = patches.Rectangle(\n",
    "            (x, y),\n",
    "            width,\n",
    "            height,\n",
    "            linewidth=2,\n",
    "            edgecolor='black',\n",
    "            facecolor='none',\n",
    "            linestyle='dotted'\n",
    "        )\n",
    "        ax.add_patch(dotted_rect)\n",
    "        break\n",
    "\n",
    "# Add annotation for the highest industry\n",
    "plt.annotate(\n",
    "    'Industry Distribution', \n",
    "    xy=(-0.5, 1.2), \n",
    "    xycoords='axes fraction', \n",
    "    fontsize=14, \n",
    "    fontweight='bold',\n",
    "    ha='left', \n",
    "    va='bottom',\n",
    "    color=pred_color_presentation('color5')\n",
    ")\n",
    "\n",
    "plt.annotate(\n",
    "    f'{industry_counts.index[0]} sector has the highest number of stocks, followed by {industry_counts.index[1]}.', \n",
    "    xy=(-0.5, 1.09), \n",
    "    xycoords='axes fraction', \n",
    "    fontsize=10, \n",
    "    ha='left', \n",
    "    va='bottom',\n",
    "    color='black'\n",
    ")\n",
    "\n",
    "# Add footnote with date and time\n",
    "plt.figtext(\n",
    "    -0.16,  \n",
    "    0.01,  \n",
    "    f\"Figure created: {formatted_date_time}\",\n",
    "    horizontalalignment='left',\n",
    "    verticalalignment='bottom',\n",
    "    fontsize=8,\n",
    "    color='black'\n",
    ")\n",
    "\n",
    "# Save and show the plot\n",
    "fig_name = f'industry_distribution_{sector}.jpg'\n",
    "# plt.savefig(os.path.join(fig_path, fig_name), bbox_inches='tight')\n",
    "plt.show()"
   ],
   "outputs": [
    {
     "data": {
      "text/plain": [
       "<Figure size 700x600 with 1 Axes>"
      ],
      "image/png": "[encoded data removed]"
     },
     "metadata": {},
     "output_type": "display_data"
    }
   ],
   "execution_count": 10
  }
 ],
 "metadata": {
  "kernelspec": {
   "display_name": "Python 3 (ipykernel)",
   "language": "python",
   "name": "python3"
  },
  "language_info": {
   "codemirror_mode": {
    "name": "ipython",
    "version": 3
   },
   "file_extension": ".py",
   "mimetype": "text/x-python",
   "name": "python",
   "nbconvert_exporter": "python",
   "pygments_lexer": "ipython3",
   "version": "3.9.18"
  }
 },
 "nbformat": 4,
 "nbformat_minor": 5
}
