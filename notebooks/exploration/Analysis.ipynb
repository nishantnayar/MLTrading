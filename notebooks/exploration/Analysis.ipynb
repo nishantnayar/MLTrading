{
 "cells": [
  {
   "metadata": {
    "ExecuteTime": {
     "end_time": "2025-08-02T14:46:27.891355Z",
     "start_time": "2025-08-02T14:46:27.874101Z"
    }
   },
   "cell_type": "code",
   "source": [
    "import sys\n",
    "from pathlib import Path\n",
    "import pandas as pd\n",
    "from datetime import datetime, timedelta\n",
    "import logging\n",
    "\n",
    "# COMPREHENSIVE LOGGING SUPPRESSION - Set this BEFORE any imports\n",
    "logging.disable(logging.INFO)  # This disables all INFO and below messages\n",
    "\n",
    "# Add the project root to Python path\n",
    "project_root = Path.cwd().parent  # Adjust this path to your project root\n",
    "sys.path.insert(0, str(project_root))\n",
    "\n",
    "from src.data.storage.database import get_db_manager\n",
    "from src.dashboard.services.data_service import get_data_service"
   ],
   "id": "173112cd5e9cff5a",
   "outputs": [],
   "execution_count": 9
  },
  {
   "metadata": {
    "ExecuteTime": {
     "end_time": "2025-08-02T14:50:45.647479Z",
     "start_time": "2025-08-02T14:50:45.641995Z"
    }
   },
   "cell_type": "code",
   "source": [
    "import datetime\n",
    "import matplotlib.pyplot as plt\n",
    "import matplotlib.patches as patches\n",
    "from matplotlib.ticker import FixedLocator, FixedFormatter\n",
    "import os"
   ],
   "id": "a8d590d22092f288",
   "outputs": [],
   "execution_count": 27
  },
  {
   "metadata": {},
   "cell_type": "markdown",
   "source": "# Load Data",
   "id": "d1082f26ddfd0169"
  },
  {
   "metadata": {
    "ExecuteTime": {
     "end_time": "2025-08-02T14:49:04.628389Z",
     "start_time": "2025-08-02T14:49:04.618272Z"
    }
   },
   "cell_type": "code",
   "source": [
    "def get_all_stock_data_and_info():\n",
    "    \"\"\"\n",
    "    Get all stock data and stock info in DataFrames.\n",
    "    \n",
    "    Returns:\n",
    "        tuple: (stock_data_df, stock_info_df, symbols_list)\n",
    "    \"\"\"\n",
    "    try:\n",
    "        # Initialize services\n",
    "        db_manager = get_db_manager()\n",
    "        data_service = get_data_service()\n",
    "        \n",
    "        # Get all available symbols\n",
    "        symbols = data_service.get_available_symbols()\n",
    "        print(f\"Found {len(symbols)} symbols with data\")\n",
    "        \n",
    "        # Get stock info for all symbols\n",
    "        stock_info_list = []\n",
    "        for symbol in symbols:\n",
    "            stock_info = db_manager.get_stock_info(symbol)\n",
    "            if stock_info:\n",
    "                stock_info_list.append(stock_info)\n",
    "        \n",
    "        # Create stock info DataFrame\n",
    "        stock_info_df = pd.DataFrame(stock_info_list)\n",
    "        if not stock_info_df.empty:\n",
    "            print(f\"Retrieved stock info for {len(stock_info_df)} symbols\")\n",
    "        \n",
    "        # Get market data for all symbols (last 30 days for efficiency)\n",
    "        all_market_data = []\n",
    "        for symbol in symbols:\n",
    "            try:\n",
    "                # Get last 30 days of data for each symbol\n",
    "                #df = data_service.get_market_data(symbol, days=30, hourly=True)\n",
    "                df = data_service.get_all_market_data(symbol, hourly=True)\n",
    "                if not df.empty:\n",
    "                    all_market_data.append(df)\n",
    "                    #print(f\"Retrieved {len(df)} records for {symbol}\")\n",
    "            except Exception as e:\n",
    "                print(f\"Error getting data for {symbol}: {e}\")\n",
    "        \n",
    "        # Combine all market data\n",
    "        if all_market_data:\n",
    "            stock_data_df = pd.concat(all_market_data, ignore_index=True)\n",
    "            print(f\"Combined market data: {len(stock_data_df)} total records\")\n",
    "        else:\n",
    "            stock_data_df = pd.DataFrame()\n",
    "            print(\"No market data retrieved\")\n",
    "        \n",
    "        return stock_data_df, stock_info_df, symbols\n",
    "        \n",
    "    except Exception as e:\n",
    "        print(f\"Error: {e}\")\n",
    "        return pd.DataFrame(), pd.DataFrame(), []\n"
   ],
   "id": "317f8759e4fd8db1",
   "outputs": [],
   "execution_count": 19
  },
  {
   "metadata": {
    "ExecuteTime": {
     "end_time": "2025-08-02T14:49:23.816004Z",
     "start_time": "2025-08-02T14:49:05.149183Z"
    }
   },
   "cell_type": "code",
   "source": [
    "# Usage example:\n",
    "print(\"Fetching all stock data and info...\")\n",
    "stock_data_df, stock_info_df, symbols = get_all_stock_data_and_info()"
   ],
   "id": "e428a17bdbf2e930",
   "outputs": [
    {
     "name": "stdout",
     "output_type": "stream",
     "text": [
      "Fetching all stock data and info...\n",
      "Found 1057 symbols with data\n",
      "Retrieved stock info for 1057 symbols\n",
      "Combined market data: 1833341 total records\n"
     ]
    }
   ],
   "execution_count": 20
  },
  {
   "metadata": {
    "ExecuteTime": {
     "end_time": "2025-08-02T14:49:23.942416Z",
     "start_time": "2025-08-02T14:49:23.817052Z"
    }
   },
   "cell_type": "code",
   "source": [
    "# Display results\n",
    "print(\"\\n\" + \"=\"*50)\n",
    "print(\"STOCK DATA SUMMARY:\")\n",
    "print(\"=\"*50)\n",
    "if not stock_data_df.empty:\n",
    "    print(f\"Market data shape: {stock_data_df.shape}\")\n",
    "    print(f\"Date range: {stock_data_df['timestamp'].min()} to {stock_data_df['timestamp'].max()}\")\n",
    "    print(f\"Symbols in data: {stock_data_df['symbol'].nunique()}\")\n",
    "    #print(\"\\nSample market data:\")\n",
    "    #print(stock_data_df.head())\n",
    "else:\n",
    "    print(\"No market data available\")\n",
    "\n",
    "print(\"\\n\" + \"=\"*50)\n",
    "print(\"STOCK INFO SUMMARY:\")\n",
    "print(\"=\"*50)\n",
    "if not stock_info_df.empty:\n",
    "    print(f\"Stock info shape: {stock_info_df.shape}\")\n",
    "    print(f\"Available sectors: {stock_info_df['sector'].nunique()}\")\n",
    "    print(f\"Available industries: {stock_info_df['industry'].nunique()}\")\n",
    "    #print(\"\\nSample stock info:\")\n",
    "    #print(stock_info_df.head())\n",
    "else:\n",
    "    print(\"No stock info available\")\n",
    "\n",
    "print(f\"\\nTotal symbols found: {len(symbols)}\")"
   ],
   "id": "878498e594a045e",
   "outputs": [
    {
     "name": "stdout",
     "output_type": "stream",
     "text": [
      "\n",
      "==================================================\n",
      "STOCK DATA SUMMARY:\n",
      "==================================================\n",
      "Market data shape: (1833341, 8)\n",
      "Date range: 2024-08-02 08:00:00 to 2025-08-01 14:00:00\n",
      "Symbols in data: 1057\n",
      "\n",
      "==================================================\n",
      "STOCK INFO SUMMARY:\n",
      "==================================================\n",
      "Stock info shape: (1057, 12)\n",
      "Available sectors: 11\n",
      "Available industries: 131\n",
      "\n",
      "Total symbols found: 1057\n"
     ]
    }
   ],
   "execution_count": 21
  },
  {
   "metadata": {},
   "cell_type": "markdown",
   "source": "# Analysis",
   "id": "b8bf3ffb2360ef0a"
  },
  {
   "metadata": {
    "ExecuteTime": {
     "end_time": "2025-08-02T14:49:41.052519Z",
     "start_time": "2025-08-02T14:49:41.044626Z"
    }
   },
   "cell_type": "code",
   "source": [
    "# Visualization basics\n",
    "%matplotlib inline\n",
    "\n",
    "fig_path = r'D:\\PythonProjects\\MLTrading\\notebooks\\fig'  \n",
    "\n",
    "\n",
    "def pred_color_presentation(c):\n",
    "    custom_palette_presentation = {\n",
    "        'midnight-blue': '#191970',\n",
    "        'forest-green': '#228B22',\n",
    "        'muted-gold': '#B8860B',\n",
    "        'light-gray': '#D3D3D3',\n",
    "        'sea-green': '#2E8B57',\n",
    "        'teal-green': '#008080',\n",
    "        'highlight': '#C19A6B',\n",
    "        'black': '#000000',\n",
    "        'color1':'#dfdfdf',\n",
    "        'color2':'#dfb834',\n",
    "        'color3':'#f1f6db',\n",
    "        'color4':'#649e92',\n",
    "        'color5':'#a13d61',\n",
    "    }\n",
    "    return custom_palette_presentation.get(c, \"Invalid color name\")"
   ],
   "id": "c8d1e06447123fcc",
   "outputs": [],
   "execution_count": 24
  },
  {
   "metadata": {
    "ExecuteTime": {
     "end_time": "2025-08-02T14:50:56.443952Z",
     "start_time": "2025-08-02T14:50:55.775404Z"
    }
   },
   "cell_type": "code",
   "source": [
    "# Get current date and time\n",
    "now = datetime.datetime.now()\n",
    "formatted_date_time = now.strftime(\"%d %b %Y, %I:%M%p\") \n",
    "\n",
    "# Prepare unique industry counts\n",
    "temp_df = stock_info_df[['symbol', 'sector']].drop_duplicates()\n",
    "sector_counts = temp_df['sector'].value_counts().sort_values(ascending=False)\n",
    "\n",
    "# Identify the industry with the highest count\n",
    "max_index = sector_counts.idxmax()\n",
    "\n",
    "# Define colors based on the highest count\n",
    "colors = [pred_color_presentation('color1') if sector != max_index else pred_color_presentation('color4') for sector in sector_counts.index]\n",
    "\n",
    "# Create a horizontal bar chart with highest at the top\n",
    "ax = sector_counts.plot(kind='barh', figsize=(7, 6), width=0.7, color=colors)\n",
    "\n",
    "# Reverse the order so the highest value appears at the top\n",
    "ax.invert_yaxis()\n",
    "\n",
    "# Keep y-labels but remove y-ticks\n",
    "ax.set_yticks(range(len(sector_counts)))\n",
    "\n",
    "# Make y-labels and bold the one for max industry\n",
    "yticklabels = []\n",
    "for sector in sector_counts.index:\n",
    "    if sector == max_index:\n",
    "        yticklabels.append(f\"$\\\\bf{{{sector}}}$\")\n",
    "    else:\n",
    "        yticklabels.append(sector)\n",
    "ax.set_yticklabels(yticklabels, fontsize=10)\n",
    "\n",
    "ax.tick_params(left=False)\n",
    "\n",
    "# Add margin space between labels and bars\n",
    "ax.margins(y=0.1)\n",
    "\n",
    "# Add horizontal lines to group pairs of three\n",
    "for i in range(3, len(sector_counts), 3):\n",
    "    ax.axhline(y=i - 0.5, color='black', linestyle='dashed', linewidth=1.2)\n",
    "\n",
    "# Customize the chart\n",
    "ax.set_xlabel('Number of Stocks')\n",
    "ax.set_ylabel('')\n",
    "ax.set_xticklabels([])  \n",
    "ax.xaxis.set_visible(False)  \n",
    "ax.grid(axis='x', linestyle='none')\n",
    "ax.grid(axis='y', linestyle='none')\n",
    "\n",
    "# Remove unnecessary spines\n",
    "for spine in ['right', 'top', 'bottom', 'left']:\n",
    "    ax.spines[spine].set_visible(False)\n",
    "\n",
    "# Get bar positions for count labels\n",
    "bar_containers = ax.containers  \n",
    "bar_y_positions = [rect.get_y() + rect.get_height() / 2 for rect in bar_containers[0]]\n",
    "\n",
    "# Add count labels with bold for the highest count\n",
    "for count, y_pos, industry in zip(sector_counts, bar_y_positions, sector_counts.index):\n",
    "    fontweight = 'bold' if sector == max_index else 'normal'\n",
    "    ax.text(\n",
    "        count + max(sector_counts) * 0.02,\n",
    "        y_pos,\n",
    "        str(count),\n",
    "        va='center',\n",
    "        ha='left',\n",
    "        fontsize=10,\n",
    "        fontweight=fontweight\n",
    "    )\n",
    "\n",
    "# Add a dotted border around the bar with the highest count\n",
    "for rect, sector in zip(bar_containers[0], sector_counts.index):\n",
    "    if sector == max_index:\n",
    "        x = rect.get_x()\n",
    "        y = rect.get_y()\n",
    "        width = rect.get_width()\n",
    "        height = rect.get_height()\n",
    "\n",
    "        dotted_rect = patches.Rectangle(\n",
    "            (x, y),\n",
    "            width,\n",
    "            height,\n",
    "            linewidth=2,\n",
    "            edgecolor='black',\n",
    "            facecolor='none',\n",
    "            linestyle='dotted'\n",
    "        )\n",
    "        ax.add_patch(dotted_rect)\n",
    "        break\n",
    "\n",
    "# Add annotation for the highest industry\n",
    "plt.annotate(\n",
    "    'Sector Distribution', \n",
    "    xy=(-0.3, 1.2), \n",
    "    xycoords='axes fraction', \n",
    "    fontsize=14, \n",
    "    fontweight='bold',\n",
    "    ha='left', \n",
    "    va='bottom',\n",
    "    color=pred_color_presentation('color5')\n",
    ")\n",
    "\n",
    "plt.annotate(\n",
    "    f'{sector_counts.index[0]} sector has the highest number of stocks, followed by {sector_counts.index[1]}.', \n",
    "    xy=(-0.3, 1.09), \n",
    "    xycoords='axes fraction', \n",
    "    fontsize=10, \n",
    "    ha='left', \n",
    "    va='bottom',\n",
    "    color='black'\n",
    ")\n",
    "\n",
    "# Add footnote with date and time\n",
    "plt.figtext(\n",
    "    0.1,  \n",
    "    0.01,  \n",
    "    f\"Figure created: {formatted_date_time}\",\n",
    "    horizontalalignment='left',\n",
    "    verticalalignment='bottom',\n",
    "    fontsize=8,\n",
    "    color='black'\n",
    ")\n",
    "\n",
    "# Save and show the plot\n",
    "fig_name = f'sector_distribution.jpg'\n",
    "plt.savefig(os.path.join(fig_path, fig_name), bbox_inches='tight')\n",
    "plt.show()"
   ],
   "id": "accd0f6abbee848c",
   "outputs": [
    {
     "data": {
      "text/plain": [
       "<Figure size 700x600 with 1 Axes>"
      ],
      "image/png": "[encoded data removed]"
     },
     "metadata": {},
     "output_type": "display_data"
    }
   ],
   "execution_count": 28
  },
  {
   "metadata": {},
   "cell_type": "code",
   "outputs": [],
   "execution_count": null,
   "source": "",
   "id": "426aab05bd7b9282"
  }
 ],
 "metadata": {
  "kernelspec": {
   "display_name": "Python 3",
   "language": "python",
   "name": "python3"
  },
  "language_info": {
   "codemirror_mode": {
    "name": "ipython",
    "version": 2
   },
   "file_extension": ".py",
   "mimetype": "text/x-python",
   "name": "python",
   "nbconvert_exporter": "python",
   "pygments_lexer": "ipython2",
   "version": "2.7.6"
  }
 },
 "nbformat": 4,
 "nbformat_minor": 5
}
