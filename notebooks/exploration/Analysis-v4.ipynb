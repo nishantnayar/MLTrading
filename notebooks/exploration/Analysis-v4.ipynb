{
 "cells": [
  {
   "cell_type": "markdown",
   "id": "f425b368-0b43-44e5-8a5d-b8aa59b3b0c1",
   "metadata": {},
   "source": [
    "# Imports"
   ]
  },
  {
   "cell_type": "code",
   "execution_count": 59,
   "id": "173112cd5e9cff5a",
   "metadata": {
    "jupyter": {
     "is_executing": true
    }
   },
   "outputs": [
    {
     "name": "stdout",
     "output_type": "stream",
     "text": [
      "All imports successful!\n",
      "PyTorch version: 2.7.0+cu128\n",
      "Device: GPU\n"
     ]
    }
   ],
   "source": [
    "import sys\n",
    "from pathlib import Path\n",
    "import pandas as pd\n",
    "from datetime import datetime, timedelta\n",
    "import logging\n",
    "\n",
    "# COMPREHENSIVE LOGGING SUPPRESSION - Set this BEFORE any imports\n",
    "logging.disable(logging.INFO)  # This disables all INFO and below messages\n",
    "\n",
    "# Add the project root to Python path\n",
    "project_root = Path.cwd().parent  # Adjust this path to your project root\n",
    "sys.path.insert(0, str(project_root))\n",
    "\n",
    "from src.data.storage.database import get_db_manager\n",
    "from src.dashboard.services.symbol_service import SymbolService\n",
    "from src.dashboard.services.market_data_service import MarketDataService\n",
    "\n",
    "import matplotlib.pyplot as plt\n",
    "import matplotlib.patches as patches\n",
    "from matplotlib.ticker import FixedLocator, FixedFormatter\n",
    "import os\n",
    "import pandas as pd\n",
    "import numpy as np\n",
    "import torch\n",
    "import torch.nn as nn\n",
    "import torch.nn.functional as F\n",
    "from sklearn.preprocessing import StandardScaler\n",
    "from sklearn.model_selection import train_test_split\n",
    "from sklearn.decomposition import PCA\n",
    "import seaborn as sns\n",
    "from typing import Tuple, Optional\n",
    "import warnings\n",
    "warnings.filterwarnings('ignore')\n",
    "\n",
    "# Set random seeds for reproducibility\n",
    "np.random.seed(42)\n",
    "torch.manual_seed(42)\n",
    "\n",
    "print(\"All imports successful!\")\n",
    "print(f\"PyTorch version: {torch.__version__}\")\n",
    "print(f\"Device: {'GPU' if torch.cuda.is_available() else 'CPU'}\")\n",
    "\n",
    "from scipy import stats\n",
    "import math"
   ]
  },
  {
   "cell_type": "markdown",
   "id": "d1082f26ddfd0169",
   "metadata": {},
   "source": [
    "# Load Data"
   ]
  },
  {
   "cell_type": "code",
   "execution_count": 60,
   "id": "dacf1adc-9dbe-467b-ba81-dad7a218ac54",
   "metadata": {
    "ExecuteTime": {
     "end_time": "2025-08-16T20:33:24.348786Z",
     "start_time": "2025-08-16T20:33:24.317698Z"
    }
   },
   "outputs": [],
   "source": [
    "import pandas as pd\n",
    "import sys\n",
    "from pathlib import Path\n",
    "\n",
    "# Add project to path\n",
    "project_root = Path.cwd()\n",
    "sys.path.insert(0, str(project_root))\n",
    "\n",
    "from src.data.storage.database import get_db_manager\n",
    "\n",
    "def get_all_stocks_simple():\n",
    "  \"\"\"\n",
    "  Simple function using direct database calls.\n",
    "  \"\"\"\n",
    "  try:\n",
    "      db = get_db_manager()\n",
    "\n",
    "      # Get all symbols\n",
    "      symbols = db.get_symbols_with_data()\n",
    "      print(f\"Found {len(symbols)} symbols\")\n",
    "\n",
    "      # Get stock info\n",
    "      stock_info_list = []\n",
    "      for symbol in symbols:\n",
    "          info = db.get_stock_info(symbol)\n",
    "          if info:\n",
    "              stock_info_list.append(info)\n",
    "\n",
    "      stock_info_df = pd.DataFrame(stock_info_list)\n",
    "\n",
    "      # Get market data for all symbols (last 30 days)\n",
    "      from datetime import datetime, timedelta\n",
    "      end_date = datetime.now()\n",
    "      start_date = end_date - timedelta(days=30)\n",
    "\n",
    "      all_data = []\n",
    "      for symbol in symbols:\n",
    "          try:\n",
    "              df = db.get_market_data(symbol, start_date, end_date)\n",
    "              if not df.empty:\n",
    "                  all_data.append(df)\n",
    "          except:\n",
    "              continue\n",
    "\n",
    "      stock_data_df = pd.concat(all_data, ignore_index=True) if all_data else pd.DataFrame()\n",
    "\n",
    "      return stock_data_df, stock_info_df, symbols\n",
    "\n",
    "  except Exception as e:\n",
    "      print(f\"Error: {e}\")\n",
    "      return pd.DataFrame(), pd.DataFrame(), []\n"
   ]
  },
  {
   "cell_type": "code",
   "execution_count": 61,
   "id": "1a6b6c5e-0125-4d5f-86c5-77dfb580a601",
   "metadata": {
    "ExecuteTime": {
     "end_time": "2025-08-15T02:31:52.864182Z",
     "start_time": "2025-08-15T02:31:38.616577Z"
    }
   },
   "outputs": [
    {
     "name": "stdout",
     "output_type": "stream",
     "text": [
      "Found 1057 symbols\n"
     ]
    }
   ],
   "source": [
    "# Run it\n",
    "stock_data_df, stock_info_df, symbols = get_all_stocks_simple()"
   ]
  },
  {
   "cell_type": "code",
   "execution_count": 62,
   "id": "6ffd6cd5b729b865",
   "metadata": {
    "ExecuteTime": {
     "end_time": "2025-08-15T02:31:52.896784Z",
     "start_time": "2025-08-15T02:31:52.888900Z"
    }
   },
   "outputs": [
    {
     "name": "stdout",
     "output_type": "stream",
     "text": [
      "Date range in retrieved data:\n",
      "Min: 2025-07-25 09:30:00\n",
      "Max: 2025-08-22 14:30:00\n",
      "Sample timestamps:\n",
      "0   2025-07-25 09:30:00\n",
      "1   2025-07-25 10:30:00\n",
      "2   2025-07-25 11:30:00\n",
      "3   2025-07-25 12:30:00\n",
      "4   2025-07-25 13:30:00\n",
      "Name: timestamp, dtype: datetime64[ns]\n"
     ]
    }
   ],
   "source": [
    "# Check what dates we actually got\n",
    "if not stock_data_df.empty:\n",
    "  print(\"Date range in retrieved data:\")\n",
    "  print(f\"Min: {stock_data_df['timestamp'].min()}\")\n",
    "  print(f\"Max: {stock_data_df['timestamp'].max()}\")\n",
    "  print(f\"Sample timestamps:\")\n",
    "  print(stock_data_df['timestamp'].head())\n",
    "\n"
   ]
  },
  {
   "cell_type": "code",
   "execution_count": 63,
   "id": "878498e594a045e",
   "metadata": {
    "ExecuteTime": {
     "end_time": "2025-08-12T14:53:08.617955Z",
     "start_time": "2025-08-12T14:53:08.523530Z"
    }
   },
   "outputs": [
    {
     "name": "stdout",
     "output_type": "stream",
     "text": [
      "\n",
      "==================================================\n",
      "STOCK DATA SUMMARY:\n",
      "==================================================\n",
      "Market data shape: (153344, 8)\n",
      "Date range: 2025-07-25 09:30:00 to 2025-08-22 14:30:00\n",
      "Symbols in data: 1052\n",
      "\n",
      "==================================================\n",
      "STOCK INFO SUMMARY:\n",
      "==================================================\n",
      "Stock info shape: (1057, 12)\n",
      "Available sectors: 11\n",
      "Available industries: 131\n",
      "\n",
      "Total symbols found: 1057\n"
     ]
    }
   ],
   "source": [
    "# Display results\n",
    "print(\"\\n\" + \"=\"*50)\n",
    "print(\"STOCK DATA SUMMARY:\")\n",
    "print(\"=\"*50)\n",
    "if not stock_data_df.empty:\n",
    "    print(f\"Market data shape: {stock_data_df.shape}\")\n",
    "    print(f\"Date range: {stock_data_df['timestamp'].min()} to {stock_data_df['timestamp'].max()}\")\n",
    "    print(f\"Symbols in data: {stock_data_df['symbol'].nunique()}\")\n",
    "    #print(\"\\nSample market data:\")\n",
    "    #print(stock_data_df.head())\n",
    "else:\n",
    "    print(\"No market data available\")\n",
    "\n",
    "print(\"\\n\" + \"=\"*50)\n",
    "print(\"STOCK INFO SUMMARY:\")\n",
    "print(\"=\"*50)\n",
    "if not stock_info_df.empty:\n",
    "    print(f\"Stock info shape: {stock_info_df.shape}\")\n",
    "    print(f\"Available sectors: {stock_info_df['sector'].nunique()}\")\n",
    "    print(f\"Available industries: {stock_info_df['industry'].nunique()}\")\n",
    "    #print(\"\\nSample stock info:\")\n",
    "    #print(stock_info_df.head())\n",
    "else:\n",
    "    print(\"No stock info available\")\n",
    "\n",
    "print(f\"\\nTotal symbols found: {len(symbols)}\")"
   ]
  },
  {
   "cell_type": "markdown",
   "id": "b8bf3ffb2360ef0a",
   "metadata": {},
   "source": [
    "# Analysis"
   ]
  },
  {
   "cell_type": "code",
   "execution_count": 64,
   "id": "c8d1e06447123fcc",
   "metadata": {
    "ExecuteTime": {
     "end_time": "2025-08-12T14:53:08.667885Z",
     "start_time": "2025-08-12T14:53:08.650734Z"
    }
   },
   "outputs": [],
   "source": [
    "# Visualization basics\n",
    "%matplotlib inline\n",
    "\n",
    "fig_path = r'D:\\PythonProjects\\MLTrading\\notebooks\\fig'  \n",
    "\n",
    "\n",
    "def pred_color_presentation(c):\n",
    "    custom_palette_presentation = {\n",
    "        'midnight-blue': '#191970',\n",
    "        'forest-green': '#228B22',\n",
    "        'muted-gold': '#B8860B',\n",
    "        'light-gray': '#D3D3D3',\n",
    "        'sea-green': '#2E8B57',\n",
    "        'teal-green': '#008080',\n",
    "        'highlight': '#C19A6B',\n",
    "        'black': '#000000',\n",
    "        'color1':'#dfdfdf',\n",
    "        'color2':'#dfb834',\n",
    "        'color3':'#f1f6db',\n",
    "        'color4':'#649e92',\n",
    "        'color5':'#a13d61',\n",
    "    }\n",
    "    return custom_palette_presentation.get(c, \"Invalid color name\")"
   ]
  },
  {
   "cell_type": "code",
   "execution_count": 65,
   "id": "accd0f6abbee848c",
   "metadata": {
    "ExecuteTime": {
     "end_time": "2025-08-12T14:53:09.033332Z",
     "start_time": "2025-08-12T14:53:08.699392Z"
    }
   },
   "outputs": [
    {
     "data": {
      "image/png": "[encoded data removed]",
      "text/plain": [
       "<Figure size 700x600 with 1 Axes>"
      ]
     },
     "metadata": {},
     "output_type": "display_data"
    }
   ],
   "source": [
    "import datetime\n",
    "# Get current date and time\n",
    "now = datetime.datetime.now()\n",
    "formatted_date_time = now.strftime(\"%d %b %Y, %I:%M%p\") \n",
    "\n",
    "# Prepare unique sector counts\n",
    "temp_df = stock_info_df[['symbol', 'sector']].drop_duplicates()\n",
    "sector_counts = temp_df['sector'].value_counts().sort_values(ascending=False)\n",
    "\n",
    "# Identify the sector with the highest count\n",
    "max_index = sector_counts.idxmax()\n",
    "\n",
    "# Define colors based on the highest count\n",
    "colors = [pred_color_presentation('color1') if sector != max_index else pred_color_presentation('color4') for sector in sector_counts.index]\n",
    "\n",
    "# Create a horizontal bar chart with highest at the top\n",
    "ax = sector_counts.plot(kind='barh', figsize=(7, 6), width=0.7, color=colors)\n",
    "\n",
    "# Reverse the order so the highest value appears at the top\n",
    "ax.invert_yaxis()\n",
    "\n",
    "# Keep y-labels but remove y-ticks\n",
    "ax.set_yticks(range(len(sector_counts)))\n",
    "\n",
    "# Make y-labels and bold the one for max industry\n",
    "yticklabels = []\n",
    "for sector in sector_counts.index:\n",
    "    if sector == max_index:\n",
    "        yticklabels.append(f\"$\\\\bf{{{sector}}}$\")\n",
    "    else:\n",
    "        yticklabels.append(sector)\n",
    "ax.set_yticklabels(yticklabels, fontsize=10)\n",
    "\n",
    "ax.tick_params(left=False)\n",
    "\n",
    "# Add margin space between labels and bars\n",
    "ax.margins(y=0.1)\n",
    "\n",
    "# Add horizontal lines to group pairs of three\n",
    "for i in range(3, len(sector_counts), 3):\n",
    "    ax.axhline(y=i - 0.5, color='black', linestyle='dashed', linewidth=1.2)\n",
    "\n",
    "# Customize the chart\n",
    "ax.set_xlabel('Number of Stocks')\n",
    "ax.set_ylabel('')\n",
    "ax.set_xticklabels([])  \n",
    "ax.xaxis.set_visible(False)  \n",
    "ax.grid(axis='x', linestyle='none')\n",
    "ax.grid(axis='y', linestyle='none')\n",
    "\n",
    "# Remove unnecessary spines\n",
    "for spine in ['right', 'top', 'bottom', 'left']:\n",
    "    ax.spines[spine].set_visible(False)\n",
    "\n",
    "# Get bar positions for count labels\n",
    "bar_containers = ax.containers  \n",
    "bar_y_positions = [rect.get_y() + rect.get_height() / 2 for rect in bar_containers[0]]\n",
    "\n",
    "# Add count labels with bold for the highest count\n",
    "for count, y_pos, sector in zip(sector_counts, bar_y_positions, sector_counts.index):\n",
    "    fontweight = 'bold' if sector == max_index else 'normal'\n",
    "    ax.text(\n",
    "        count + max(sector_counts) * 0.02,\n",
    "        y_pos,\n",
    "        str(count),\n",
    "        va='center',\n",
    "        ha='left',\n",
    "        fontsize=10,\n",
    "        fontweight=fontweight\n",
    "    )\n",
    "\n",
    "# Add a dotted border around the bar with the highest count\n",
    "for rect, sector in zip(bar_containers[0], sector_counts.index):\n",
    "    if sector == max_index:\n",
    "        x = rect.get_x()\n",
    "        y = rect.get_y()\n",
    "        width = rect.get_width()\n",
    "        height = rect.get_height()\n",
    "\n",
    "        dotted_rect = patches.Rectangle(\n",
    "            (x, y),\n",
    "            width,\n",
    "            height,\n",
    "            linewidth=2,\n",
    "            edgecolor='black',\n",
    "            facecolor='none',\n",
    "            linestyle='dotted'\n",
    "        )\n",
    "        ax.add_patch(dotted_rect)\n",
    "        break\n",
    "\n",
    "# Add annotation for the highest industry\n",
    "plt.annotate(\n",
    "    'Sector Distribution', \n",
    "    xy=(-0.3, 1.2), \n",
    "    xycoords='axes fraction', \n",
    "    fontsize=14, \n",
    "    fontweight='bold',\n",
    "    ha='left', \n",
    "    va='bottom',\n",
    "    color=pred_color_presentation('color5')\n",
    ")\n",
    "\n",
    "plt.annotate(\n",
    "    f'{sector_counts.index[0]} sector has the highest number of stocks, followed by {sector_counts.index[1]}.', \n",
    "    xy=(-0.3, 1.09), \n",
    "    xycoords='axes fraction', \n",
    "    fontsize=10, \n",
    "    ha='left', \n",
    "    va='bottom',\n",
    "    color='black'\n",
    ")\n",
    "\n",
    "# Add footnote with date and time\n",
    "plt.figtext(\n",
    "    0.1,  \n",
    "    0.01,  \n",
    "    f\"Figure created: {formatted_date_time}\",\n",
    "    horizontalalignment='left',\n",
    "    verticalalignment='bottom',\n",
    "    fontsize=8,\n",
    "    color='black'\n",
    ")\n",
    "\n",
    "# Save and show the plot\n",
    "fig_name = f'sector_distribution.jpg'\n",
    "plt.savefig(os.path.join(fig_path, fig_name), bbox_inches='tight')\n",
    "plt.show()"
   ]
  },
  {
   "cell_type": "code",
   "execution_count": 66,
   "id": "426aab05bd7b9282",
   "metadata": {
    "ExecuteTime": {
     "end_time": "2025-08-12T14:53:09.172774Z",
     "start_time": "2025-08-12T14:53:09.068422Z"
    }
   },
   "outputs": [],
   "source": [
    "selected_sector = 'Technology'\n",
    "selected_sector_symbols = stock_info_df['symbol'][stock_info_df['sector'] == selected_sector]\n",
    "#selected_sector_symbols =['AEE', 'AEP', 'AES', 'ATO']\n",
    "#selected_sector_symbols =['AEE', 'AEP']\n",
    "ohlc_df = stock_data_df[stock_data_df['symbol'].isin(selected_sector_symbols)]\n",
    "ohlc_df = ohlc_df.drop(columns=['source'])"
   ]
  },
  {
   "cell_type": "raw",
   "id": "56aef8ca-bbd3-4694-abb0-d5fa2c484938",
   "metadata": {},
   "source": [
    "selected_sector_symbols"
   ]
  },
  {
   "cell_type": "raw",
   "id": "651d9a92-aed4-40ec-9907-e526cba46dc7",
   "metadata": {
    "ExecuteTime": {
     "end_time": "2025-08-04T00:47:24.239940Z",
     "start_time": "2025-08-04T00:47:24.235695Z"
    }
   },
   "source": [
    "ohlc_df.columns"
   ]
  },
  {
   "cell_type": "markdown",
   "id": "25513cce596d2f17",
   "metadata": {},
   "source": [
    "# Explore the Data"
   ]
  },
  {
   "cell_type": "code",
   "execution_count": 67,
   "id": "a7b9e0dafb798330",
   "metadata": {
    "ExecuteTime": {
     "end_time": "2025-08-12T14:53:09.352228Z",
     "start_time": "2025-08-12T14:53:09.185071Z"
    }
   },
   "outputs": [
    {
     "name": "stdout",
     "output_type": "stream",
     "text": [
      "Basic statistics by symbol:\n",
      "         open                                                         \\\n",
      "        count        mean        std       min        25%        50%   \n",
      "symbol                                                                 \n",
      "AAPL    146.0  220.295006  10.285187  201.9801  211.88325  224.28925   \n",
      "ACIW    146.0   44.966145   2.249873   40.7200   43.43750   44.87250   \n",
      "ACLS    146.0   77.210246   4.573004   66.5750   73.95250   78.52000   \n",
      "ACN     146.0  255.406527  13.556909  237.1800  245.27875  252.52000   \n",
      "ADBE    146.0  352.384725  11.729812  333.1300  341.40000  352.08530   \n",
      "...       ...         ...        ...       ...        ...        ...   \n",
      "XRX     146.0    4.391425   0.678511    3.7200    3.97500    4.15750   \n",
      "YOU     146.0   32.087062   1.923174   28.7050   30.01875   32.31000   \n",
      "ZBRA    146.0  323.317025  12.498189  301.9900  313.37750  322.27000   \n",
      "ZM      146.0   73.044882   2.273887   69.7300   71.82625   72.31100   \n",
      "ZS      146.0  279.159799   7.134993  267.2300  273.56750  276.86125   \n",
      "\n",
      "                               high              ...       close           \\\n",
      "               75%       max  count        mean  ...         75%      max   \n",
      "symbol                                           ...                        \n",
      "AAPL    229.777525  234.0550  146.0  221.081849  ...  229.763750  233.585   \n",
      "ACIW     46.957500   49.5801  146.0   45.158619  ...   46.977500   49.610   \n",
      "ACLS     80.416875   85.3900  146.0   77.777978  ...   80.512500   85.390   \n",
      "ACN     260.980000  284.0800  146.0  256.338833  ...  260.578750  284.030   \n",
      "ADBE    359.898750  375.8300  146.0  353.744921  ...  360.032375  375.940   \n",
      "...            ...       ...    ...         ...  ...         ...      ...   \n",
      "XRX       4.268750    6.0800  146.0    4.435183  ...    4.265000    6.080   \n",
      "YOU      33.630000   36.1300  146.0   32.296995  ...   33.627500   36.370   \n",
      "ZBRA    334.427500  350.5476  146.0  324.951599  ...  334.571250  350.580   \n",
      "ZM       74.402500   82.4200  146.0   73.326190  ...   74.282500   82.470   \n",
      "ZS      286.445000  291.1000  146.0  280.320049  ...  286.170000  290.980   \n",
      "\n",
      "       volume                                                                \\\n",
      "        count          mean           std        min         25%        50%   \n",
      "symbol                                                                        \n",
      "AAPL    146.0  6.901440e+06  4.880961e+06  2392173.0  3724163.75  5141576.5   \n",
      "ACIW    146.0  1.074361e+05  6.571731e+04    30218.0    61824.25    83995.5   \n",
      "ACLS    146.0  6.806953e+04  6.028245e+04    15927.0    33179.00    50069.5   \n",
      "ACN     146.0  5.637826e+05  3.282480e+05   160524.0   341186.25   468985.5   \n",
      "ADBE    146.0  4.504522e+05  2.270683e+05   110886.0   294246.25   397718.5   \n",
      "...       ...           ...           ...        ...         ...        ...   \n",
      "XRX     146.0  5.811125e+05  5.082070e+05   108530.0   284855.00   424642.5   \n",
      "YOU     146.0  2.079155e+05  2.061296e+05    54261.0   108553.25   162841.5   \n",
      "ZBRA    146.0  8.379977e+04  7.264994e+04    14679.0    37482.25    62053.5   \n",
      "ZM      146.0  4.005087e+05  5.718740e+05   106610.0   194726.00   255045.5   \n",
      "ZS      146.0  1.659970e+05  1.159284e+05    47163.0    90246.25   122867.5   \n",
      "\n",
      "                                \n",
      "               75%         max  \n",
      "symbol                          \n",
      "AAPL    8374338.50  30765656.0  \n",
      "ACIW     129918.25    473830.0  \n",
      "ACLS      88762.75    538382.0  \n",
      "ACN      702154.00   2704660.0  \n",
      "ADBE     564547.75   1754876.0  \n",
      "...            ...         ...  \n",
      "XRX      701350.75   3522246.0  \n",
      "YOU      236991.50   1969774.0  \n",
      "ZBRA     113244.75    548147.0  \n",
      "ZM       365704.75   6064110.0  \n",
      "ZS       208302.00    759946.0  \n",
      "\n",
      "[228 rows x 40 columns]\n"
     ]
    }
   ],
   "source": [
    "print(\"Basic statistics by symbol:\")\n",
    "print(ohlc_df.groupby('symbol')[['open', 'high', 'low', 'close', 'volume']].describe())"
   ]
  },
  {
   "cell_type": "code",
   "execution_count": 68,
   "id": "f01d2d82fafeb9b7",
   "metadata": {
    "ExecuteTime": {
     "end_time": "2025-08-12T14:53:09.366494Z",
     "start_time": "2025-08-12T14:53:09.363241Z"
    }
   },
   "outputs": [],
   "source": [
    "selected_sector_symbols_9 = selected_sector_symbols[:9]"
   ]
  },
  {
   "cell_type": "code",
   "execution_count": 69,
   "id": "17372600-5885-4a62-8d32-cb32d7d41e47",
   "metadata": {
    "ExecuteTime": {
     "end_time": "2025-08-12T14:53:09.412711Z",
     "start_time": "2025-08-12T14:53:09.409628Z"
    }
   },
   "outputs": [],
   "source": [
    "num_symbols = len(selected_sector_symbols_9)\n",
    "# Determine grid size (e.g., 3 columns)\n",
    "cols = 3\n",
    "rows = math.ceil(num_symbols / cols)"
   ]
  },
  {
   "cell_type": "code",
   "execution_count": 70,
   "id": "29c1216c-a62c-4940-b318-b4ddd204a014",
   "metadata": {
    "ExecuteTime": {
     "end_time": "2025-08-12T14:53:09.438241Z",
     "start_time": "2025-08-12T14:53:09.430762Z"
    }
   },
   "outputs": [],
   "source": [
    "ohlc_9_df= ohlc_df[ohlc_df['symbol'].isin(selected_sector_symbols_9)]"
   ]
  },
  {
   "cell_type": "code",
   "execution_count": 71,
   "id": "dc16b39323f0adc1",
   "metadata": {
    "ExecuteTime": {
     "end_time": "2025-08-12T14:53:10.508588Z",
     "start_time": "2025-08-12T14:53:09.454505Z"
    }
   },
   "outputs": [
    {
     "data": {
      "image/png": "[encoded data removed]",
      "text/plain": [
       "<Figure size 1500x1200 with 9 Axes>"
      ]
     },
     "metadata": {},
     "output_type": "display_data"
    }
   ],
   "source": [
    "# Plot price series for all symbols\n",
    "#fig, axes = plt.subplots(4, figsize=(15, 10))\n",
    "fig, axes = plt.subplots(rows, cols, figsize=(5 * cols, 4 * rows), squeeze=False)\n",
    "axes = axes.flatten()\n",
    "\n",
    "for i, symbol in enumerate(ohlc_9_df['symbol'].unique()):\n",
    "    symbol_data = ohlc_9_df[ohlc_9_df['symbol'] == symbol].copy()\n",
    "    symbol_data = symbol_data.sort_values('timestamp')\n",
    "    \n",
    "    axes[i].plot(symbol_data['timestamp'], symbol_data['close'], label=f'{symbol} Close Price')\n",
    "    axes[i].set_title(f'{symbol} Price Series')\n",
    "    axes[i].set_xlabel('Date')\n",
    "    axes[i].set_ylabel('Price')\n",
    "    axes[i].grid(True, alpha=0.3)\n",
    "    axes[i].tick_params(axis='x', rotation=45)\n",
    "\n",
    "plt.tight_layout()\n",
    "plt.show()"
   ]
  },
  {
   "cell_type": "markdown",
   "id": "17a312223d252870",
   "metadata": {},
   "source": [
    "# Feature Engineering"
   ]
  },
  {
   "cell_type": "markdown",
   "id": "dcb7ef13-ba95-46fc-96a4-4f0f5531b579",
   "metadata": {},
   "source": [
    "## Configuration and Parameters"
   ]
  },
  {
   "cell_type": "code",
   "execution_count": 72,
   "id": "86bd1179-e7cb-41ba-b855-ab0a49dd258b",
   "metadata": {
    "ExecuteTime": {
     "end_time": "2025-08-12T14:53:10.545350Z",
     "start_time": "2025-08-12T14:53:10.540957Z"
    }
   },
   "outputs": [
    {
     "name": "stdout",
     "output_type": "stream",
     "text": [
      "Parameters configured:\n",
      "Short window: 24 hours\n",
      "Medium window: 120 hours\n",
      "Long window: 480 hours\n"
     ]
    }
   ],
   "source": [
    "# Window sizes for hourly data\n",
    "SHORT_WINDOW = 24        # 1 day\n",
    "MED_WINDOW = 120         # 5 days  \n",
    "LONG_WINDOW = 480        # 20 days\n",
    "VOL_WINDOWS = [12, 24, 120]  # 12h, 1d, 5d\n",
    "\n",
    "RSI_WINDOWS = {\n",
    "    'rsi_1d': 24,        # 1 day\n",
    "    'rsi_3d': 72,        # 3 days\n",
    "    'rsi_1w': 168,       # 1 week\n",
    "    'rsi_2w': 336        # 2 weeks\n",
    "}\n",
    "\n",
    "LAG_PERIODS = [1, 2, 4, 8, 24]  # 1h, 2h, 4h, 8h, 1day\n",
    "ROLLING_WINDOWS = [6, 12, 24]   # 6h, 12h, 24h windows\n",
    "\n",
    "print(\"Parameters configured:\")\n",
    "print(f\"Short window: {SHORT_WINDOW} hours\")\n",
    "print(f\"Medium window: {MED_WINDOW} hours\")\n",
    "print(f\"Long window: {LONG_WINDOW} hours\")"
   ]
  },
  {
   "cell_type": "markdown",
   "id": "5d4ce1cd-f7d0-4eca-bd55-44475d3899c0",
   "metadata": {},
   "source": [
    "## Basic Price Features"
   ]
  },
  {
   "cell_type": "code",
   "execution_count": 73,
   "id": "67452ad2-6ddc-4e3b-a19e-00a9f4f7861e",
   "metadata": {
    "ExecuteTime": {
     "end_time": "2025-08-12T14:53:10.622367Z",
     "start_time": "2025-08-12T14:53:10.619003Z"
    }
   },
   "outputs": [],
   "source": [
    "def add_basic_price_features(group):\n",
    "    \"\"\"Add basic price-derived features\"\"\"\n",
    "    #print(f\"Processing basic features for {group['symbol'].iloc[0]}...\")\n",
    "    \n",
    "    # Basic price features\n",
    "    group['returns'] = group['close'].pct_change()\n",
    "    group['log_returns'] = np.log(group['close'] / group['close'].shift(1))\n",
    "    group['high_low_pct'] = (group['high'] - group['low']) / group['close']\n",
    "    group['open_close_pct'] = (group['close'] - group['open']) / group['open']\n",
    "    \n",
    "    # Price momentum features\n",
    "    group['price_acceleration'] = group['returns'].diff()  # Second derivative of price\n",
    "    group['returns_sign'] = np.sign(group['returns'])  # Direction indicator\n",
    "    \n",
    "    return group"
   ]
  },
  {
   "cell_type": "code",
   "execution_count": 74,
   "id": "75b76683-09bc-45ea-957d-430f50a1d8d9",
   "metadata": {
    "ExecuteTime": {
     "end_time": "2025-08-12T14:53:10.664989Z",
     "start_time": "2025-08-12T14:53:10.648899Z"
    }
   },
   "outputs": [
    {
     "name": "stdout",
     "output_type": "stream",
     "text": [
      "Basic price features added: ['returns', 'log_returns', 'high_low_pct', 'open_close_pct', 'price_acceleration', 'returns_sign']\n"
     ]
    }
   ],
   "source": [
    "# Test with a sample\n",
    "sample_df = ohlc_df[ohlc_df['symbol'] == ohlc_df['symbol'].unique()[0]].copy()\n",
    "sample_df = add_basic_price_features(sample_df)\n",
    "print(\"Basic price features added:\", sample_df.columns.tolist()[-6:])"
   ]
  },
  {
   "cell_type": "markdown",
   "id": "92665922-c1bb-42c0-8135-d5b16c522687",
   "metadata": {},
   "source": [
    "## Enhanced Volatility Features"
   ]
  },
  {
   "cell_type": "code",
   "execution_count": 75,
   "id": "ca8cf237-c776-4bf6-81ba-cba7aa6ee9c8",
   "metadata": {
    "ExecuteTime": {
     "end_time": "2025-08-12T14:53:10.712696Z",
     "start_time": "2025-08-12T14:53:10.707530Z"
    }
   },
   "outputs": [],
   "source": [
    "def add_volatility_features(group):\n",
    "    \"\"\"Add multiple volatility estimators\"\"\"\n",
    "    #print(f\"Adding volatility features for {group['symbol'].iloc[0]}...\")\n",
    "    \n",
    "    # Basic volatility features\n",
    "    group['returns_squared'] = group['returns'] ** 2\n",
    "    group['realized_vol_short'] = group['returns'].rolling(VOL_WINDOWS[0]).std()\n",
    "    group['realized_vol_med'] = group['returns'].rolling(VOL_WINDOWS[1]).std()\n",
    "    group['realized_vol_long'] = group['returns'].rolling(VOL_WINDOWS[2]).std()\n",
    "    \n",
    "    # Garman-Klass volatility estimator (more efficient for OHLC data)\n",
    "    gk_vol = (np.log(group['high']/group['low'])**2 - \n",
    "              (2*np.log(2)-1)*np.log(group['close']/group['open'])**2)\n",
    "    group['gk_volatility'] = np.sqrt(gk_vol.rolling(24).mean())  # 1-day window\n",
    "    \n",
    "    # Volatility of volatility (important for regime detection)\n",
    "    group['vol_of_vol'] = group['realized_vol_short'].rolling(24).std()\n",
    "    \n",
    "    return group"
   ]
  },
  {
   "cell_type": "code",
   "execution_count": 76,
   "id": "3a3fb88b-fc3c-413b-a97d-b8e51c0aef2b",
   "metadata": {
    "ExecuteTime": {
     "end_time": "2025-08-12T14:53:10.739889Z",
     "start_time": "2025-08-12T14:53:10.732454Z"
    }
   },
   "outputs": [
    {
     "name": "stdout",
     "output_type": "stream",
     "text": [
      "Volatility features added\n"
     ]
    }
   ],
   "source": [
    "# Test volatility features\n",
    "sample_df = add_volatility_features(sample_df)\n",
    "print(\"Volatility features added\")"
   ]
  },
  {
   "cell_type": "markdown",
   "id": "3d3e6c78-81c7-432a-91bd-e9565de1be69",
   "metadata": {},
   "source": [
    "## Moving Average Features"
   ]
  },
  {
   "cell_type": "code",
   "execution_count": 77,
   "id": "b4c71c1c-071b-42f1-9f01-d3d65489ad4e",
   "metadata": {
    "ExecuteTime": {
     "end_time": "2025-08-12T14:53:10.793545Z",
     "start_time": "2025-08-12T14:53:10.790178Z"
    }
   },
   "outputs": [],
   "source": [
    "def add_moving_average_features(group):\n",
    "    \"\"\"Add moving averages and related ratios\"\"\"\n",
    "    #print(f\"Adding moving average features for {group['symbol'].iloc[0]}...\")\n",
    "    \n",
    "    # Moving averages\n",
    "    group['price_ma_short'] = group['close'].rolling(SHORT_WINDOW).mean()\n",
    "    group['price_ma_med'] = group['close'].rolling(MED_WINDOW).mean()\n",
    "    group['price_ma_long'] = group['close'].rolling(LONG_WINDOW).mean()\n",
    "    \n",
    "    # Price to moving average ratios\n",
    "    group['price_to_ma_short'] = group['close'] / group['price_ma_short']\n",
    "    group['price_to_ma_med'] = group['close'] / group['price_ma_med']\n",
    "    group['price_to_ma_long'] = group['close'] / group['price_ma_long']\n",
    "    \n",
    "    # Moving average convergence/divergence ratios\n",
    "    group['ma_short_to_med'] = group['price_ma_short'] / group['price_ma_med']\n",
    "    group['ma_med_to_long'] = group['price_ma_med'] / group['price_ma_long']\n",
    "    \n",
    "    return group"
   ]
  },
  {
   "cell_type": "code",
   "execution_count": 78,
   "id": "e126c18a-006f-4969-9500-84d15a6f9f83",
   "metadata": {
    "ExecuteTime": {
     "end_time": "2025-08-12T14:53:10.819643Z",
     "start_time": "2025-08-12T14:53:10.813590Z"
    }
   },
   "outputs": [
    {
     "name": "stdout",
     "output_type": "stream",
     "text": [
      "Moving average features added\n"
     ]
    }
   ],
   "source": [
    "# Test moving average features\n",
    "sample_df = add_moving_average_features(sample_df)\n",
    "print(\"Moving average features added\")"
   ]
  },
  {
   "cell_type": "markdown",
   "id": "25f235a4-d04f-43b1-a75a-dc8e85a167b7",
   "metadata": {},
   "source": [
    "## Volume Features"
   ]
  },
  {
   "cell_type": "code",
   "execution_count": 79,
   "id": "1b996d43-51ce-4a0f-9a60-54c3f30ee73f",
   "metadata": {
    "ExecuteTime": {
     "end_time": "2025-08-12T14:53:10.873352Z",
     "start_time": "2025-08-12T14:53:10.867853Z"
    }
   },
   "outputs": [],
   "source": [
    "def add_volume_features(group):\n",
    "    \"\"\"Add volume-based features\"\"\"\n",
    "    #print(f\"Adding volume features for {group['symbol'].iloc[0]}...\")\n",
    "    \n",
    "    # Basic volume features\n",
    "    group['volume_ma'] = group['volume'].rolling(MED_WINDOW).mean()\n",
    "    group['volume_ratio'] = group['volume'] / group['volume_ma']\n",
    "    group['log_volume'] = np.log(group['volume'] + 1)\n",
    "    \n",
    "    # Volume-Price Trend (VPT) indicator\n",
    "    group['vpt'] = (group['volume'] * group['returns']).cumsum()\n",
    "    group['vpt_ma'] = group['vpt'].rolling(SHORT_WINDOW).mean()\n",
    "    group['vpt_normalized'] = group['vpt'] / group['vpt_ma']\n",
    "    \n",
    "    # Money Flow Index components\n",
    "    typical_price = (group['high'] + group['low'] + group['close']) / 3\n",
    "    money_flow = typical_price * group['volume']\n",
    "    positive_flow = money_flow.where(typical_price > typical_price.shift(1), 0)\n",
    "    negative_flow = money_flow.where(typical_price < typical_price.shift(1), 0)\n",
    "    \n",
    "    money_ratio = (positive_flow.rolling(14).sum() / \n",
    "                  (negative_flow.rolling(14).sum() + 1e-10))\n",
    "    group['mfi'] = 100 - (100 / (1 + money_ratio))\n",
    "    \n",
    "    return group"
   ]
  },
  {
   "cell_type": "code",
   "execution_count": 80,
   "id": "4d2541fa-4ae2-48a0-8921-7d8d9eb0e11a",
   "metadata": {
    "ExecuteTime": {
     "end_time": "2025-08-12T14:53:10.898660Z",
     "start_time": "2025-08-12T14:53:10.891580Z"
    }
   },
   "outputs": [
    {
     "name": "stdout",
     "output_type": "stream",
     "text": [
      "Volume features added\n"
     ]
    }
   ],
   "source": [
    "# Test volume features\n",
    "sample_df = add_volume_features(sample_df)\n",
    "print(\"Volume features added\")"
   ]
  },
  {
   "cell_type": "markdown",
   "id": "aa38a627-861d-4580-9fd7-069b0fc2af06",
   "metadata": {},
   "source": [
    "## RSI Features"
   ]
  },
  {
   "cell_type": "code",
   "execution_count": 81,
   "id": "a5001555-eb63-46b0-a591-0b00e33610a4",
   "metadata": {
    "ExecuteTime": {
     "end_time": "2025-08-12T14:53:10.948935Z",
     "start_time": "2025-08-12T14:53:10.944413Z"
    }
   },
   "outputs": [],
   "source": [
    "def add_rsi_features(group):\n",
    "    \"\"\"Add multiple RSI timeframes\"\"\"\n",
    "    #print(f\"Adding RSI features for {group['symbol'].iloc[0]}...\")\n",
    "    \n",
    "    # Multiple RSI timeframes\n",
    "    for rsi_name, window in RSI_WINDOWS.items():\n",
    "        delta = group['close'].diff()\n",
    "        gain = (delta.where(delta > 0, 0)).rolling(window).mean()\n",
    "        loss = (-delta.where(delta < 0, 0)).rolling(window).mean()\n",
    "        rs = gain / (loss + 1e-10)\n",
    "        group[rsi_name] = 100 - (100 / (1 + rs))\n",
    "    \n",
    "    # Exponential Moving Average RSI\n",
    "    delta = group['close'].diff()\n",
    "    gain = delta.where(delta > 0, 0)\n",
    "    loss = -delta.where(delta < 0, 0)\n",
    "    \n",
    "    alpha = 2 / (14 + 1)\n",
    "    avg_gain = gain.ewm(alpha=alpha, adjust=False).mean()\n",
    "    avg_loss = loss.ewm(alpha=alpha, adjust=False).mean()\n",
    "    rs_ema = avg_gain / (avg_loss + 1e-10)\n",
    "    group['rsi_ema'] = 100 - (100 / (1 + rs_ema))\n",
    "    \n",
    "    return group"
   ]
  },
  {
   "cell_type": "code",
   "execution_count": 82,
   "id": "24989d87-5de4-4487-aa72-669d13edca18",
   "metadata": {
    "ExecuteTime": {
     "end_time": "2025-08-12T14:53:10.978990Z",
     "start_time": "2025-08-12T14:53:10.969554Z"
    }
   },
   "outputs": [
    {
     "name": "stdout",
     "output_type": "stream",
     "text": [
      "RSI features added\n"
     ]
    }
   ],
   "source": [
    "# Test RSI features\n",
    "sample_df = add_rsi_features(sample_df)\n",
    "print(\"RSI features added\")"
   ]
  },
  {
   "cell_type": "markdown",
   "id": "f93fb905-4552-4e8b-a8a4-88bff7a249a2",
   "metadata": {},
   "source": [
    "## Time-Based Features"
   ]
  },
  {
   "cell_type": "code",
   "execution_count": 83,
   "id": "96f87875-2916-4fb4-bafb-4b297a07e28b",
   "metadata": {
    "ExecuteTime": {
     "end_time": "2025-08-12T14:53:11.021399Z",
     "start_time": "2025-08-12T14:53:11.014790Z"
    }
   },
   "outputs": [],
   "source": [
    "def add_time_features(group):\n",
    "    \"\"\"Add time-based features for hourly data\"\"\"\n",
    "    #print(f\"Adding time features for {group['symbol'].iloc[0]}...\")\n",
    "    \n",
    "    # Basic time features\n",
    "    group['hour'] = group['timestamp'].dt.hour\n",
    "    group['day_of_week'] = group['timestamp'].dt.dayofweek\n",
    "    group['date'] = group['timestamp'].dt.date\n",
    "    \n",
    "    # Cyclical encoding for time features (better for neural networks)\n",
    "    group['hour_sin'] = np.sin(2 * np.pi * group['hour'] / 24)\n",
    "    group['hour_cos'] = np.cos(2 * np.pi * group['hour'] / 24)\n",
    "    group['dow_sin'] = np.sin(2 * np.pi * group['day_of_week'] / 7)\n",
    "    group['dow_cos'] = np.cos(2 * np.pi * group['day_of_week'] / 7)\n",
    "    \n",
    "    # Market session features\n",
    "    group['is_market_open'] = ((group['hour'] >= 9) & (group['hour'] <= 16)).astype(int)\n",
    "    group['is_morning'] = ((group['hour'] >= 9) & (group['hour'] <= 12)).astype(int)\n",
    "    group['is_afternoon'] = ((group['hour'] >= 13) & (group['hour'] <= 16)).astype(int)\n",
    "    group['hours_since_open'] = np.clip(group['hour'] - 9, 0, 7)\n",
    "    group['hours_to_close'] = np.clip(16 - group['hour'], 0, 7)\n",
    "    \n",
    "    return group"
   ]
  },
  {
   "cell_type": "code",
   "execution_count": 84,
   "id": "a38f6a0d-d0c1-472a-a03c-e0ed4d09d198",
   "metadata": {
    "ExecuteTime": {
     "end_time": "2025-08-12T14:53:11.069526Z",
     "start_time": "2025-08-12T14:53:11.059526Z"
    }
   },
   "outputs": [
    {
     "name": "stdout",
     "output_type": "stream",
     "text": [
      "Time features added\n"
     ]
    }
   ],
   "source": [
    "# Test time features\n",
    "sample_df = add_time_features(sample_df)\n",
    "print(\"Time features added\")"
   ]
  },
  {
   "cell_type": "markdown",
   "id": "ed897cdb-9806-4b77-8461-c33009d72364",
   "metadata": {},
   "source": [
    "## Intraday Features"
   ]
  },
  {
   "cell_type": "code",
   "execution_count": 85,
   "id": "5921b68c-1b70-47bd-90ac-d04a890850b9",
   "metadata": {
    "ExecuteTime": {
     "end_time": "2025-08-12T14:53:11.111566Z",
     "start_time": "2025-08-12T14:53:11.105986Z"
    }
   },
   "outputs": [],
   "source": [
    "def add_intraday_features(group):\n",
    "    \"\"\"Add intraday reference points with enhanced error handling\"\"\"\n",
    "    #print(f\"Adding intraday features for {group['symbol'].iloc[0]}...\")\n",
    "    \n",
    "    try:\n",
    "        daily_opens = group.groupby('date')['open'].transform('first')\n",
    "        group['returns_from_daily_open'] = ((group['close'] - daily_opens) / \n",
    "                                           daily_opens).fillna(0)\n",
    "        \n",
    "        group['intraday_high'] = group.groupby('date')['high'].transform('max')\n",
    "        group['intraday_low'] = group.groupby('date')['low'].transform('min')\n",
    "        \n",
    "        intraday_range = group['intraday_high'] - group['intraday_low']\n",
    "        group['intraday_range_pct'] = (intraday_range / daily_opens).fillna(0)\n",
    "        \n",
    "        range_denominator = intraday_range.replace(0, np.nan)\n",
    "        group['position_in_range'] = ((group['close'] - group['intraday_low']) / \n",
    "                                     range_denominator).fillna(0.5)\n",
    "        \n",
    "        prev_day_close = (group.groupby('date')['close']\n",
    "                         .transform('last')\n",
    "                         .shift(group.groupby('date').cumcount().max() + 1))\n",
    "        group['overnight_gap'] = ((daily_opens - prev_day_close) / \n",
    "                                prev_day_close).fillna(0)\n",
    "        \n",
    "        group['dist_from_intraday_high'] = ((group['close'] - group['intraday_high']) / \n",
    "                                           group['intraday_high']).fillna(0)\n",
    "        group['dist_from_intraday_low'] = ((group['close'] - group['intraday_low']) / \n",
    "                                          group['intraday_low']).fillna(0)\n",
    "        \n",
    "    except Exception as e:\n",
    "        print(f\"Warning: Error in intraday features for {group['symbol'].iloc[0]}: {e}\")\n",
    "        # Create dummy features if calculation fails\n",
    "        for col in ['returns_from_daily_open', 'intraday_range_pct', 'position_in_range', \n",
    "                   'overnight_gap', 'dist_from_intraday_high', 'dist_from_intraday_low']:\n",
    "            group[col] = 0 if 'gap' in col or 'range' in col or 'dist' in col else 0.5\n",
    "    \n",
    "    return group"
   ]
  },
  {
   "cell_type": "code",
   "execution_count": 86,
   "id": "f11fc9c0-afeb-483f-b3c3-ce4535f73dfe",
   "metadata": {
    "ExecuteTime": {
     "end_time": "2025-08-12T14:53:11.147224Z",
     "start_time": "2025-08-12T14:53:11.137716Z"
    }
   },
   "outputs": [
    {
     "name": "stdout",
     "output_type": "stream",
     "text": [
      "Intraday features added\n"
     ]
    }
   ],
   "source": [
    "# Test intraday features\n",
    "sample_df = add_intraday_features(sample_df)\n",
    "print(\"Intraday features added\")"
   ]
  },
  {
   "cell_type": "markdown",
   "id": "5688d93e-1300-43d4-aed8-7af7e8912910",
   "metadata": {},
   "source": [
    "## Lagged Features"
   ]
  },
  {
   "cell_type": "code",
   "execution_count": 87,
   "id": "8260ec0b-c9b4-41e2-bf3c-a1979ad84684",
   "metadata": {
    "ExecuteTime": {
     "end_time": "2025-08-12T14:53:11.186472Z",
     "start_time": "2025-08-12T14:53:11.182222Z"
    }
   },
   "outputs": [],
   "source": [
    "def add_lagged_features(group):\n",
    "    \"\"\"Add lagged features for sequence modeling\"\"\"\n",
    "    #print(f\"Adding lagged features for {group['symbol'].iloc[0]}...\")\n",
    "    \n",
    "    # Enhanced lagged features\n",
    "    for lag in LAG_PERIODS:\n",
    "        group[f'returns_lag_{lag}'] = group['returns'].shift(lag)\n",
    "        group[f'vol_lag_{lag}'] = group['realized_vol_short'].shift(lag)\n",
    "        group[f'volume_ratio_lag_{lag}'] = group['volume_ratio'].shift(lag)\n",
    "    \n",
    "    return group"
   ]
  },
  {
   "cell_type": "code",
   "execution_count": 88,
   "id": "a52bb0e1-9820-47cd-9cb9-e2403f617ac0",
   "metadata": {
    "ExecuteTime": {
     "end_time": "2025-08-12T14:53:11.215248Z",
     "start_time": "2025-08-12T14:53:11.209480Z"
    }
   },
   "outputs": [
    {
     "name": "stdout",
     "output_type": "stream",
     "text": [
      "Lagged features added\n"
     ]
    }
   ],
   "source": [
    "# Test lagged features\n",
    "sample_df = add_lagged_features(sample_df)\n",
    "print(\"Lagged features added\")"
   ]
  },
  {
   "cell_type": "markdown",
   "id": "565c743e-1e37-4439-9f04-a591c1934e4a",
   "metadata": {},
   "source": [
    "## Rolling Statistics"
   ]
  },
  {
   "cell_type": "code",
   "execution_count": 89,
   "id": "8a84c054-0f2a-427c-bd0c-1e62567b090d",
   "metadata": {
    "ExecuteTime": {
     "end_time": "2025-08-12T14:53:11.257309Z",
     "start_time": "2025-08-12T14:53:11.253106Z"
    }
   },
   "outputs": [],
   "source": [
    "def add_rolling_statistics(group):\n",
    "    \"\"\"Add rolling statistics for sequence modeling\"\"\"\n",
    "    #print(f\"Adding rolling statistics for {group['symbol'].iloc[0]}...\")\n",
    "    \n",
    "    # Rolling statistics for different windows\n",
    "    for window in ROLLING_WINDOWS:\n",
    "        group[f'returns_mean_{window}h'] = group['returns'].rolling(window).mean()\n",
    "        group[f'returns_std_{window}h'] = group['returns'].rolling(window).std()\n",
    "        group[f'returns_skew_{window}h'] = group['returns'].rolling(window).skew()\n",
    "        group[f'returns_kurt_{window}h'] = group['returns'].rolling(window).kurt()\n",
    "        \n",
    "        # Price momentum over different windows\n",
    "        group[f'price_momentum_{window}h'] = (group['close'] / group['close'].shift(window) - 1)\n",
    "    \n",
    "    return group"
   ]
  },
  {
   "cell_type": "code",
   "execution_count": 90,
   "id": "284f577b-6827-4c18-bcfa-395f9714818b",
   "metadata": {
    "ExecuteTime": {
     "end_time": "2025-08-12T14:53:11.297351Z",
     "start_time": "2025-08-12T14:53:11.289292Z"
    }
   },
   "outputs": [
    {
     "name": "stdout",
     "output_type": "stream",
     "text": [
      "Rolling statistics added\n"
     ]
    }
   ],
   "source": [
    "# Test rolling statistics\n",
    "sample_df = add_rolling_statistics(sample_df)\n",
    "print(\"Rolling statistics added\")"
   ]
  },
  {
   "cell_type": "markdown",
   "id": "5425c46d-b58c-4bc7-9b8a-99ff425065a3",
   "metadata": {},
   "source": [
    "## Technical Indicators"
   ]
  },
  {
   "cell_type": "code",
   "execution_count": 91,
   "id": "0f5eb7eb-20c8-4685-98e8-3113da82207f",
   "metadata": {
    "ExecuteTime": {
     "end_time": "2025-08-12T14:53:11.339176Z",
     "start_time": "2025-08-12T14:53:11.333943Z"
    }
   },
   "outputs": [],
   "source": [
    "def add_technical_indicators(group):\n",
    "    \"\"\"Add technical indicators\"\"\"\n",
    "    #print(f\"Adding technical indicators for {group['symbol'].iloc[0]}...\")\n",
    "    \n",
    "    # Bollinger Bands\n",
    "    bb_window = SHORT_WINDOW\n",
    "    bb_std = group['close'].rolling(bb_window).std()\n",
    "    bb_mean = group['close'].rolling(bb_window).mean()\n",
    "    group['bb_upper'] = bb_mean + (2 * bb_std)\n",
    "    group['bb_lower'] = bb_mean - (2 * bb_std)\n",
    "    group['bb_position'] = ((group['close'] - group['bb_lower']) / \n",
    "                           (group['bb_upper'] - group['bb_lower'] + 1e-10)).fillna(0.5)\n",
    "    \n",
    "    # Bollinger Band squeeze indicator\n",
    "    group['bb_squeeze'] = (group['bb_upper'] - group['bb_lower']) / group['close']\n",
    "    \n",
    "    # MACD\n",
    "    exp1 = group['close'].ewm(span=12).mean()\n",
    "    exp2 = group['close'].ewm(span=26).mean()\n",
    "    group['macd'] = exp1 - exp2\n",
    "    group['macd_signal'] = group['macd'].ewm(span=9).mean()\n",
    "    group['macd_histogram'] = group['macd'] - group['macd_signal']\n",
    "    \n",
    "    # Normalized MACD (scale-invariant)\n",
    "    group['macd_normalized'] = group['macd'] / group['close']\n",
    "    \n",
    "    return group"
   ]
  },
  {
   "cell_type": "code",
   "execution_count": 92,
   "id": "d3efd878-f6e6-4415-aebe-6ffe49957dee",
   "metadata": {
    "ExecuteTime": {
     "end_time": "2025-08-12T14:53:11.367508Z",
     "start_time": "2025-08-12T14:53:11.361588Z"
    }
   },
   "outputs": [
    {
     "name": "stdout",
     "output_type": "stream",
     "text": [
      "Technical indicators added\n"
     ]
    }
   ],
   "source": [
    "# Test technical indicators\n",
    "sample_df = add_technical_indicators(sample_df)\n",
    "print(\"Technical indicators added\")"
   ]
  },
  {
   "cell_type": "markdown",
   "id": "f4462c6d-8749-47a8-b82a-03278b3008d8",
   "metadata": {},
   "source": [
    "## Advanced Technical Indicators"
   ]
  },
  {
   "cell_type": "code",
   "execution_count": 93,
   "id": "ebf52723-886a-4011-b3e0-835e55c838ec",
   "metadata": {
    "ExecuteTime": {
     "end_time": "2025-08-12T14:53:11.412257Z",
     "start_time": "2025-08-12T14:53:11.407531Z"
    }
   },
   "outputs": [],
   "source": [
    "def add_advanced_technical_indicators(group):\n",
    "    \"\"\"Add advanced technical indicators\"\"\"\n",
    "    #print(f\"Adding advanced technical indicators for {group['symbol'].iloc[0]}...\")\n",
    "    \n",
    "    # Average True Range (ATR) for volatility normalization\n",
    "    high_low = group['high'] - group['low']\n",
    "    high_close = np.abs(group['high'] - group['close'].shift(1))\n",
    "    low_close = np.abs(group['low'] - group['close'].shift(1))\n",
    "    true_range = np.maximum(high_low, np.maximum(high_close, low_close))\n",
    "    group['atr'] = true_range.rolling(14).mean()\n",
    "    group['atr_normalized'] = group['atr'] / group['close']\n",
    "    \n",
    "    # Williams %R\n",
    "    highest_high = group['high'].rolling(14).max()\n",
    "    lowest_low = group['low'].rolling(14).min()\n",
    "    group['williams_r'] = -100 * ((highest_high - group['close']) / \n",
    "                                 (highest_high - lowest_low + 1e-10))\n",
    "    \n",
    "    return group"
   ]
  },
  {
   "cell_type": "code",
   "execution_count": 94,
   "id": "8e025688-0b32-4237-9791-cf504d11a6ba",
   "metadata": {
    "ExecuteTime": {
     "end_time": "2025-08-12T14:53:11.447032Z",
     "start_time": "2025-08-12T14:53:11.441626Z"
    }
   },
   "outputs": [
    {
     "name": "stdout",
     "output_type": "stream",
     "text": [
      "Advanced technical indicators added\n"
     ]
    }
   ],
   "source": [
    "# Test advanced technical indicators\n",
    "sample_df = add_advanced_technical_indicators(sample_df)\n",
    "print(\"Advanced technical indicators added\")"
   ]
  },
  {
   "cell_type": "markdown",
   "id": "79bcd012-f659-4951-88de-a9cf7a259283",
   "metadata": {},
   "source": [
    "## Main Feature Engineering Function"
   ]
  },
  {
   "cell_type": "code",
   "execution_count": 95,
   "id": "7c99a2ec-2e96-4f00-801d-f9c1b4524ffe",
   "metadata": {
    "ExecuteTime": {
     "end_time": "2025-08-12T14:53:11.497901Z",
     "start_time": "2025-08-12T14:53:11.493792Z"
    }
   },
   "outputs": [],
   "source": [
    "def engineer_features_for_symbol(group):\n",
    "    \"\"\"Apply all feature engineering steps to a single symbol\"\"\"\n",
    "    group = group.sort_values('timestamp').copy()\n",
    "    \n",
    "    # Apply all feature engineering steps\n",
    "    group = add_basic_price_features(group)\n",
    "    group = add_volatility_features(group)\n",
    "    group = add_moving_average_features(group)\n",
    "    group = add_volume_features(group)\n",
    "    group = add_rsi_features(group)\n",
    "    group = add_time_features(group)\n",
    "    group = add_intraday_features(group)\n",
    "    group = add_lagged_features(group)\n",
    "    group = add_rolling_statistics(group)\n",
    "    group = add_technical_indicators(group)\n",
    "    group = add_advanced_technical_indicators(group)\n",
    "    \n",
    "    return group"
   ]
  },
  {
   "cell_type": "markdown",
   "id": "8db1bb2c-9163-43cd-ac89-15a9dac68e38",
   "metadata": {},
   "source": [
    "## Apply Feature Engineering to All Symbols"
   ]
  },
  {
   "cell_type": "code",
   "execution_count": 96,
   "id": "b9cb4999-abf6-47bf-b0d2-d884b322fc9b",
   "metadata": {
    "ExecuteTime": {
     "end_time": "2025-08-12T14:53:11.530153Z",
     "start_time": "2025-08-12T14:53:11.526027Z"
    }
   },
   "outputs": [],
   "source": [
    "def engineer_features(df):\n",
    "    \"\"\"Create technical indicators and features from hourly OHLC data optimized for GRU embeddings\"\"\"\n",
    "    \n",
    "    print(\"Engineering features for hourly data...\")\n",
    "    \n",
    "    # Apply feature engineering to each symbol\n",
    "    results = []\n",
    "    for symbol in df['symbol'].unique():\n",
    "        symbol_data = df[df['symbol'] == symbol].copy()\n",
    "        engineered_data = engineer_features_for_symbol(symbol_data)\n",
    "        results.append(engineered_data)\n",
    "    \n",
    "    # Combine all results\n",
    "    features_df = pd.concat(results, ignore_index=True)\n",
    "    \n",
    "    print(f\"Feature engineering complete! Generated {len(features_df.columns)} features\")\n",
    "    print(f\"Features: {features_df.columns.tolist()}\")\n",
    "    \n",
    "    return features_df"
   ]
  },
  {
   "cell_type": "code",
   "execution_count": 97,
   "id": "4b81d403-e3d0-4858-9df7-3c7d9938d820",
   "metadata": {
    "ExecuteTime": {
     "end_time": "2025-08-12T14:53:11.542060Z",
     "start_time": "2025-08-12T14:53:11.538093Z"
    }
   },
   "outputs": [],
   "source": [
    "from tqdm import tqdm\n",
    "\n",
    "def engineer_features(df):\n",
    "    \"\"\"Create technical indicators and features from hourly OHLC data optimized for GRU embeddings\"\"\"\n",
    "    \n",
    "    print(\"Engineering features for hourly data...\")\n",
    "    \n",
    "    # Apply feature engineering to each symbol with a progress bar\n",
    "    results = []\n",
    "    for symbol in tqdm(df['symbol'].unique(), desc=\"Processing symbols\", unit=\"symbol\"):\n",
    "        symbol_data = df[df['symbol'] == symbol].copy()\n",
    "        engineered_data = engineer_features_for_symbol(symbol_data)\n",
    "        results.append(engineered_data)\n",
    "    \n",
    "    # Combine all results\n",
    "    features_df = pd.concat(results, ignore_index=True)\n",
    "    \n",
    "    print(f\"Feature engineering complete! Generated {len(features_df.columns)} features\")\n",
    "    print(f\"Features: {features_df.columns.tolist()}\")\n",
    "    \n",
    "    return features_df\n"
   ]
  },
  {
   "cell_type": "code",
   "execution_count": 98,
   "id": "f894dfb3-fae2-4e1e-8fc9-3fe7c80e3f8a",
   "metadata": {
    "ExecuteTime": {
     "end_time": "2025-08-12T14:53:12.867812Z",
     "start_time": "2025-08-12T14:53:11.568364Z"
    }
   },
   "outputs": [
    {
     "name": "stdout",
     "output_type": "stream",
     "text": [
      "Engineering features for hourly data...\n"
     ]
    },
    {
     "name": "stderr",
     "output_type": "stream",
     "text": [
      "Processing symbols: 100%|██████████| 228/228 [00:07<00:00, 29.15symbol/s]\n"
     ]
    },
    {
     "name": "stdout",
     "output_type": "stream",
     "text": [
      "Feature engineering complete! Generated 100 features\n",
      "Features: ['symbol', 'timestamp', 'open', 'high', 'low', 'close', 'volume', 'returns', 'log_returns', 'high_low_pct', 'open_close_pct', 'price_acceleration', 'returns_sign', 'returns_squared', 'realized_vol_short', 'realized_vol_med', 'realized_vol_long', 'gk_volatility', 'vol_of_vol', 'price_ma_short', 'price_ma_med', 'price_ma_long', 'price_to_ma_short', 'price_to_ma_med', 'price_to_ma_long', 'ma_short_to_med', 'ma_med_to_long', 'volume_ma', 'volume_ratio', 'log_volume', 'vpt', 'vpt_ma', 'vpt_normalized', 'mfi', 'rsi_1d', 'rsi_3d', 'rsi_1w', 'rsi_2w', 'rsi_ema', 'hour', 'day_of_week', 'date', 'hour_sin', 'hour_cos', 'dow_sin', 'dow_cos', 'is_market_open', 'is_morning', 'is_afternoon', 'hours_since_open', 'hours_to_close', 'returns_from_daily_open', 'intraday_high', 'intraday_low', 'intraday_range_pct', 'position_in_range', 'overnight_gap', 'dist_from_intraday_high', 'dist_from_intraday_low', 'returns_lag_1', 'vol_lag_1', 'volume_ratio_lag_1', 'returns_lag_2', 'vol_lag_2', 'volume_ratio_lag_2', 'returns_lag_4', 'vol_lag_4', 'volume_ratio_lag_4', 'returns_lag_8', 'vol_lag_8', 'volume_ratio_lag_8', 'returns_lag_24', 'vol_lag_24', 'volume_ratio_lag_24', 'returns_mean_6h', 'returns_std_6h', 'returns_skew_6h', 'returns_kurt_6h', 'price_momentum_6h', 'returns_mean_12h', 'returns_std_12h', 'returns_skew_12h', 'returns_kurt_12h', 'price_momentum_12h', 'returns_mean_24h', 'returns_std_24h', 'returns_skew_24h', 'returns_kurt_24h', 'price_momentum_24h', 'bb_upper', 'bb_lower', 'bb_position', 'bb_squeeze', 'macd', 'macd_signal', 'macd_histogram', 'macd_normalized', 'atr', 'atr_normalized', 'williams_r']\n"
     ]
    }
   ],
   "source": [
    "# Apply to your data\n",
    "features_df = engineer_features(ohlc_df)"
   ]
  },
  {
   "cell_type": "code",
   "execution_count": 99,
   "id": "c53b1323-1d7f-4b45-bb1f-78086cee4b4a",
   "metadata": {},
   "outputs": [
    {
     "data": {
      "text/html": [
       "<div>\n",
       "<style scoped>\n",
       "    .dataframe tbody tr th:only-of-type {\n",
       "        vertical-align: middle;\n",
       "    }\n",
       "\n",
       "    .dataframe tbody tr th {\n",
       "        vertical-align: top;\n",
       "    }\n",
       "\n",
       "    .dataframe thead th {\n",
       "        text-align: right;\n",
       "    }\n",
       "</style>\n",
       "<table border=\"1\" class=\"dataframe\">\n",
       "  <thead>\n",
       "    <tr style=\"text-align: right;\">\n",
       "      <th></th>\n",
       "      <th>symbol</th>\n",
       "      <th>timestamp</th>\n",
       "      <th>open</th>\n",
       "      <th>high</th>\n",
       "      <th>low</th>\n",
       "      <th>close</th>\n",
       "      <th>volume</th>\n",
       "      <th>returns</th>\n",
       "      <th>log_returns</th>\n",
       "      <th>high_low_pct</th>\n",
       "      <th>...</th>\n",
       "      <th>bb_lower</th>\n",
       "      <th>bb_position</th>\n",
       "      <th>bb_squeeze</th>\n",
       "      <th>macd</th>\n",
       "      <th>macd_signal</th>\n",
       "      <th>macd_histogram</th>\n",
       "      <th>macd_normalized</th>\n",
       "      <th>atr</th>\n",
       "      <th>atr_normalized</th>\n",
       "      <th>williams_r</th>\n",
       "    </tr>\n",
       "  </thead>\n",
       "  <tbody>\n",
       "  </tbody>\n",
       "</table>\n",
       "<p>0 rows × 100 columns</p>\n",
       "</div>"
      ],
      "text/plain": [
       "Empty DataFrame\n",
       "Columns: [symbol, timestamp, open, high, low, close, volume, returns, log_returns, high_low_pct, open_close_pct, price_acceleration, returns_sign, returns_squared, realized_vol_short, realized_vol_med, realized_vol_long, gk_volatility, vol_of_vol, price_ma_short, price_ma_med, price_ma_long, price_to_ma_short, price_to_ma_med, price_to_ma_long, ma_short_to_med, ma_med_to_long, volume_ma, volume_ratio, log_volume, vpt, vpt_ma, vpt_normalized, mfi, rsi_1d, rsi_3d, rsi_1w, rsi_2w, rsi_ema, hour, day_of_week, date, hour_sin, hour_cos, dow_sin, dow_cos, is_market_open, is_morning, is_afternoon, hours_since_open, hours_to_close, returns_from_daily_open, intraday_high, intraday_low, intraday_range_pct, position_in_range, overnight_gap, dist_from_intraday_high, dist_from_intraday_low, returns_lag_1, vol_lag_1, volume_ratio_lag_1, returns_lag_2, vol_lag_2, volume_ratio_lag_2, returns_lag_4, vol_lag_4, volume_ratio_lag_4, returns_lag_8, vol_lag_8, volume_ratio_lag_8, returns_lag_24, vol_lag_24, volume_ratio_lag_24, returns_mean_6h, returns_std_6h, returns_skew_6h, returns_kurt_6h, price_momentum_6h, returns_mean_12h, returns_std_12h, returns_skew_12h, returns_kurt_12h, price_momentum_12h, returns_mean_24h, returns_std_24h, returns_skew_24h, returns_kurt_24h, price_momentum_24h, bb_upper, bb_lower, bb_position, bb_squeeze, macd, macd_signal, macd_histogram, macd_normalized, atr, atr_normalized, williams_r]\n",
       "Index: []\n",
       "\n",
       "[0 rows x 100 columns]"
      ]
     },
     "execution_count": 99,
     "metadata": {},
     "output_type": "execute_result"
    }
   ],
   "source": [
    "features_df[features_df['symbol'] == 'AAL']"
   ]
  },
  {
   "cell_type": "markdown",
   "id": "1b1ff92d-dfad-4934-9c06-c9024b24f6ff",
   "metadata": {},
   "source": [
    "## Quality Check"
   ]
  },
  {
   "cell_type": "code",
   "execution_count": 100,
   "id": "2b4ac8a2-c0de-44e9-b765-0a8501e71f02",
   "metadata": {
    "ExecuteTime": {
     "end_time": "2025-08-12T14:53:12.910913Z",
     "start_time": "2025-08-12T14:53:12.904585Z"
    }
   },
   "outputs": [],
   "source": [
    "def check_feature_quality(df):\n",
    "    \"\"\"Check the quality of engineered features\"\"\"\n",
    "    print(\"Feature Quality Report:\")\n",
    "    print(\"=\" * 50)\n",
    "    \n",
    "    # Check for NaN values\n",
    "    nan_counts = df.isnull().sum()\n",
    "    nan_features = nan_counts[nan_counts > 0]\n",
    "    \n",
    "    if len(nan_features) > 0:\n",
    "        print(f\"Features with NaN values:\")\n",
    "        for feature, count in nan_features.items():\n",
    "            print(f\"  {feature}: {count} NaN values ({count/len(df)*100:.1f}%)\")\n",
    "    else:\n",
    "        print(\"✓ No NaN values found in any feature\")\n",
    "    \n",
    "    # Check for infinite values\n",
    "    inf_features = []\n",
    "    for col in df.select_dtypes(include=[np.number]).columns:\n",
    "        if np.isinf(df[col]).any():\n",
    "            inf_count = np.isinf(df[col]).sum()\n",
    "            inf_features.append((col, inf_count))\n",
    "    \n",
    "    if inf_features:\n",
    "        print(f\"\\nFeatures with infinite values:\")\n",
    "        for feature, count in inf_features:\n",
    "            print(f\"  {feature}: {count} infinite values\")\n",
    "    else:\n",
    "        print(\"✓ No infinite values found\")\n",
    "    \n",
    "    # Feature statistics\n",
    "    numeric_cols = df.select_dtypes(include=[np.number]).columns\n",
    "    print(f\"\\nFeature Statistics:\")\n",
    "    print(f\"  Total features: {len(df.columns)}\")\n",
    "    print(f\"  Numeric features: {len(numeric_cols)}\")\n",
    "    print(f\"  Data points: {len(df)}\")\n",
    "    print(f\"  Symbols: {df['symbol'].nunique()}\")\n",
    "    \n",
    "    return df"
   ]
  },
  {
   "cell_type": "code",
   "execution_count": 101,
   "id": "2409ed2e-98a0-4514-bc27-8a7f3f606627",
   "metadata": {
    "ExecuteTime": {
     "end_time": "2025-08-12T14:53:13.063611Z",
     "start_time": "2025-08-12T14:53:12.936007Z"
    }
   },
   "outputs": [
    {
     "name": "stdout",
     "output_type": "stream",
     "text": [
      "Feature Quality Report:\n",
      "==================================================\n",
      "Features with NaN values:\n",
      "  returns: 228 NaN values (0.7%)\n",
      "  log_returns: 228 NaN values (0.7%)\n",
      "  price_acceleration: 456 NaN values (1.4%)\n",
      "  returns_sign: 228 NaN values (0.7%)\n",
      "  returns_squared: 228 NaN values (0.7%)\n",
      "  realized_vol_short: 2736 NaN values (8.2%)\n",
      "  realized_vol_med: 5472 NaN values (16.4%)\n",
      "  realized_vol_long: 27360 NaN values (82.2%)\n",
      "  gk_volatility: 5244 NaN values (15.8%)\n",
      "  vol_of_vol: 7980 NaN values (24.0%)\n",
      "  price_ma_short: 5244 NaN values (15.8%)\n",
      "  price_ma_med: 27132 NaN values (81.5%)\n",
      "  price_ma_long: 33288 NaN values (100.0%)\n",
      "  price_to_ma_short: 5244 NaN values (15.8%)\n",
      "  price_to_ma_med: 27132 NaN values (81.5%)\n",
      "  price_to_ma_long: 33288 NaN values (100.0%)\n",
      "  ma_short_to_med: 27132 NaN values (81.5%)\n",
      "  ma_med_to_long: 33288 NaN values (100.0%)\n",
      "  volume_ma: 27132 NaN values (81.5%)\n",
      "  volume_ratio: 27132 NaN values (81.5%)\n",
      "  vpt: 228 NaN values (0.7%)\n",
      "  vpt_ma: 5472 NaN values (16.4%)\n",
      "  vpt_normalized: 5472 NaN values (16.4%)\n",
      "  mfi: 2964 NaN values (8.9%)\n",
      "  rsi_1d: 5244 NaN values (15.8%)\n",
      "  rsi_3d: 16188 NaN values (48.6%)\n",
      "  rsi_1w: 33288 NaN values (100.0%)\n",
      "  rsi_2w: 33288 NaN values (100.0%)\n",
      "  returns_lag_1: 456 NaN values (1.4%)\n",
      "  vol_lag_1: 2964 NaN values (8.9%)\n",
      "  volume_ratio_lag_1: 27360 NaN values (82.2%)\n",
      "  returns_lag_2: 684 NaN values (2.1%)\n",
      "  vol_lag_2: 3192 NaN values (9.6%)\n",
      "  volume_ratio_lag_2: 27588 NaN values (82.9%)\n",
      "  returns_lag_4: 1140 NaN values (3.4%)\n",
      "  vol_lag_4: 3648 NaN values (11.0%)\n",
      "  volume_ratio_lag_4: 28044 NaN values (84.2%)\n",
      "  returns_lag_8: 2052 NaN values (6.2%)\n",
      "  vol_lag_8: 4560 NaN values (13.7%)\n",
      "  volume_ratio_lag_8: 28956 NaN values (87.0%)\n",
      "  returns_lag_24: 5700 NaN values (17.1%)\n",
      "  vol_lag_24: 8208 NaN values (24.7%)\n",
      "  volume_ratio_lag_24: 32604 NaN values (97.9%)\n",
      "  returns_mean_6h: 1368 NaN values (4.1%)\n",
      "  returns_std_6h: 1368 NaN values (4.1%)\n",
      "  returns_skew_6h: 1368 NaN values (4.1%)\n",
      "  returns_kurt_6h: 1368 NaN values (4.1%)\n",
      "  price_momentum_6h: 1368 NaN values (4.1%)\n",
      "  returns_mean_12h: 2736 NaN values (8.2%)\n",
      "  returns_std_12h: 2736 NaN values (8.2%)\n",
      "  returns_skew_12h: 2736 NaN values (8.2%)\n",
      "  returns_kurt_12h: 2736 NaN values (8.2%)\n",
      "  price_momentum_12h: 2736 NaN values (8.2%)\n",
      "  returns_mean_24h: 5472 NaN values (16.4%)\n",
      "  returns_std_24h: 5472 NaN values (16.4%)\n",
      "  returns_skew_24h: 5472 NaN values (16.4%)\n",
      "  returns_kurt_24h: 5472 NaN values (16.4%)\n",
      "  price_momentum_24h: 5472 NaN values (16.4%)\n",
      "  bb_upper: 5244 NaN values (15.8%)\n",
      "  bb_lower: 5244 NaN values (15.8%)\n",
      "  bb_squeeze: 5244 NaN values (15.8%)\n",
      "  atr: 3192 NaN values (9.6%)\n",
      "  atr_normalized: 3192 NaN values (9.6%)\n",
      "  williams_r: 2964 NaN values (8.9%)\n",
      "✓ No infinite values found\n",
      "\n",
      "Feature Statistics:\n",
      "  Total features: 100\n",
      "  Numeric features: 97\n",
      "  Data points: 33288\n",
      "  Symbols: 228\n"
     ]
    }
   ],
   "source": [
    "# Check feature quality\n",
    "features_df = check_feature_quality(features_df)"
   ]
  },
  {
   "cell_type": "code",
   "execution_count": 102,
   "id": "3ad78a30-8429-4046-af37-0cd2f882d7a6",
   "metadata": {
    "ExecuteTime": {
     "end_time": "2025-08-12T14:53:13.140078Z",
     "start_time": "2025-08-12T14:53:13.102471Z"
    }
   },
   "outputs": [
    {
     "name": "stdout",
     "output_type": "stream",
     "text": [
      "NaN counts by feature:\n",
      "ma_med_to_long         33288\n",
      "price_ma_long          33288\n",
      "price_to_ma_long       33288\n",
      "rsi_1w                 33288\n",
      "rsi_2w                 33288\n",
      "volume_ratio_lag_24    32604\n",
      "volume_ratio_lag_8     28956\n",
      "volume_ratio_lag_4     28044\n",
      "volume_ratio_lag_2     27588\n",
      "volume_ratio_lag_1     27360\n",
      "dtype: int64\n",
      "First completely valid row: 0\n"
     ]
    },
    {
     "data": {
      "text/plain": [
       "ma_med_to_long      33288\n",
       "price_ma_long       33288\n",
       "price_to_ma_long    33288\n",
       "rsi_1w              33288\n",
       "rsi_2w              33288\n",
       "                    ...  \n",
       "bb_position             0\n",
       "macd_histogram          0\n",
       "macd_signal             0\n",
       "macd                    0\n",
       "macd_normalized         0\n",
       "Length: 100, dtype: int64"
      ]
     },
     "execution_count": 102,
     "metadata": {},
     "output_type": "execute_result"
    }
   ],
   "source": [
    "# Check NaN patterns first\n",
    "def analyze_nan_patterns(df):\n",
    "    \"\"\"Understand where and why NaNs occur\"\"\"\n",
    "    nan_summary = df.isnull().sum().sort_values(ascending=False)\n",
    "    print(\"NaN counts by feature:\")\n",
    "    print(nan_summary[nan_summary > 0].head(10))\n",
    "    \n",
    "    # Check if NaNs are mostly at the beginning (expected)\n",
    "    first_valid_idx = df.first_valid_index()\n",
    "    print(f\"First completely valid row: {first_valid_idx}\")\n",
    "    \n",
    "    return nan_summary\n",
    "\n",
    "# Use this instead of dropna()\n",
    "analyze_nan_patterns(features_df)"
   ]
  },
  {
   "cell_type": "markdown",
   "id": "f48226ec-124b-453b-8aab-ee0e9dd675a1",
   "metadata": {},
   "source": [
    "# Visualize Some Key Features"
   ]
  },
  {
   "cell_type": "code",
   "execution_count": 52,
   "id": "4d461c9d-dd59-439e-bc8d-de6be27a15b1",
   "metadata": {
    "ExecuteTime": {
     "end_time": "2025-08-12T14:53:13.191559Z",
     "start_time": "2025-08-12T14:53:13.178620Z"
    }
   },
   "outputs": [],
   "source": [
    "# Plot some key features for one symbol\n",
    "\n",
    "if selected_sector == 'Utilities':\n",
    "    sample_symbol = 'AEE'\n",
    "elif selected_sector == 'Technology':\n",
    "    sample_symbol = 'AAPL'\n",
    "else :\n",
    "   sample_symbol = 'ABBV'\n",
    "\n",
    "\n",
    "\n",
    "sample_data = features_df[features_df['symbol'] == sample_symbol].copy()\n",
    "sample_data = sample_data.sort_values('timestamp')\n",
    "# sample_data.head(5)"
   ]
  },
  {
   "cell_type": "code",
   "execution_count": null,
   "id": "b2939878-1c5a-4d20-8d2a-7f1903d97dd3",
   "metadata": {
    "ExecuteTime": {
     "end_time": "2025-08-12T14:53:14.163102Z",
     "start_time": "2025-08-12T14:53:13.228024Z"
    }
   },
   "outputs": [],
   "source": [
    "fig, axes = plt.subplots(3, 2, figsize=(17, 15))\n",
    "#fig, axes = plt.subplots(rows, cols, figsize=(5 * cols, 4 * rows), squeeze=False)\n",
    "\n",
    "# Price and returns\n",
    "axes[0,0].plot(sample_data['timestamp'], sample_data['close'])\n",
    "axes[0,0].set_title(f'{sample_symbol} Close Price')\n",
    "axes[0,0].tick_params(axis='x', rotation=45)\n",
    "\n",
    "axes[0,1].plot(sample_data['timestamp'], sample_data['returns'])\n",
    "axes[0,1].set_title(f'{sample_symbol} Returns')\n",
    "axes[0,1].tick_params(axis='x', rotation=45)\n",
    "\n",
    "# Volatility\n",
    "axes[1,0].plot(sample_data['timestamp'], sample_data['realized_vol_short'], label='5-day')\n",
    "axes[1,0].plot(sample_data['timestamp'], sample_data['realized_vol_med'], label='20-day')\n",
    "axes[1,0].set_title(f'{sample_symbol} Realized Volatility')\n",
    "axes[1,0].legend()\n",
    "axes[1,0].tick_params(axis='x', rotation=45)\n",
    "\n",
    "# RSI\n",
    "axes[1,1].plot(sample_data['timestamp'], sample_data['rsi_ema'])\n",
    "axes[1,1].axhline(y=70, color='r', linestyle='--', alpha=0.7)\n",
    "axes[1,1].axhline(y=30, color='r', linestyle='--', alpha=0.7)\n",
    "axes[1,1].set_title(f'{sample_symbol} RSI')\n",
    "axes[1,1].tick_params(axis='x', rotation=45)\n",
    "\n",
    "# Volume\n",
    "axes[2,0].plot(sample_data['timestamp'], sample_data['volume'])\n",
    "axes[2,0].set_title(f'{sample_symbol} Volume')\n",
    "axes[2,0].tick_params(axis='x', rotation=45)\n",
    "\n",
    "# Price ratios\n",
    "axes[2,1].plot(sample_data['timestamp'], sample_data['price_to_ma_short'], label='Price/MA5')\n",
    "axes[2,1].plot(sample_data['timestamp'], sample_data['price_to_ma_long'], label='Price/MA20')\n",
    "axes[2,1].set_title(f'{sample_symbol} Price Ratios')\n",
    "axes[2,1].legend()\n",
    "axes[2,1].tick_params(axis='x', rotation=45)\n",
    "\n",
    "plt.tight_layout()\n",
    "plt.show()"
   ]
  },
  {
   "cell_type": "markdown",
   "id": "237b088c-f9d2-4559-9e99-d8111f3eb324",
   "metadata": {},
   "source": [
    "# Create Sequences for Training"
   ]
  },
  {
   "cell_type": "markdown",
   "id": "ed43d757-b3ad-4361-a0f5-39a300c8b488",
   "metadata": {},
   "source": [
    "## Configurations and Parameters"
   ]
  },
  {
   "cell_type": "code",
   "execution_count": null,
   "id": "2b8bbced-c430-44aa-9d89-a14db6dab02f",
   "metadata": {
    "ExecuteTime": {
     "end_time": "2025-08-12T14:53:14.252159Z",
     "start_time": "2025-08-12T14:53:14.246661Z"
    }
   },
   "outputs": [],
   "source": [
    "# Sequence creation parameters\n",
    "SEQUENCE_LENGTH = 48        # 48 hours = 2 days of hourly data\n",
    "TARGET_HORIZON = 1          # Reserve space for future prediction (not used for embeddings)\n",
    "MIN_VALID_RATIO = 0.65      # Lowered from 0.95 due to long rolling windows (20-day MA, 2w RSI)\n",
    "\n",
    "print(\"Sequence Parameters:\")\n",
    "print(f\"Sequence Length: {SEQUENCE_LENGTH} hours\")\n",
    "print(f\"Minimum Valid Data Ratio: {MIN_VALID_RATIO*100}%\")\n",
    "print(f\"Target Horizon: {TARGET_HORIZON} hour(s)\")  # Added for completeness"
   ]
  },
  {
   "cell_type": "markdown",
   "id": "595727a3-ee6e-43d9-be78-a6c60ba57cf6",
   "metadata": {},
   "source": [
    "## Data Preparation Function"
   ]
  },
  {
   "cell_type": "code",
   "execution_count": null,
   "id": "0f23dbce-7f83-411e-8061-e50a5982581b",
   "metadata": {
    "ExecuteTime": {
     "end_time": "2025-08-12T14:53:14.352488Z",
     "start_time": "2025-08-12T14:53:14.348418Z"
    }
   },
   "outputs": [],
   "source": [
    "def prepare_features_for_sequences(features_df):\n",
    "    \"\"\"Prepare feature data and get column information\"\"\"\n",
    "    \n",
    "    # Get feature columns (exclude non-numeric columns)\n",
    "    feature_cols = features_df.select_dtypes(include=[np.number]).columns.tolist()\n",
    "    \n",
    "    # Remove columns we don't want in sequences\n",
    "    exclude_cols = ['date']  # 'date' is often object type anyway, but good to be explicit\n",
    "    feature_cols = [col for col in feature_cols if col not in exclude_cols]\n",
    "    \n",
    "    print(f\"Feature Preparation:\")\n",
    "    print(f\"Total columns in dataframe: {len(features_df.columns)}\")\n",
    "    print(f\"Numeric feature columns: {len(feature_cols)}\")\n",
    "    print(f\"Excluded columns: {exclude_cols}\")  # Show what was excluded\n",
    "    \n",
    "    # Get symbol information  \n",
    "    unique_symbols = features_df['symbol'].unique()\n",
    "    print(f\"Unique symbols: {len(unique_symbols)}\")\n",
    "    print(f\"Date range: {features_df['timestamp'].min()} to {features_df['timestamp'].max()}\")  # Added data range\n",
    "    \n",
    "    return feature_cols, unique_symbols"
   ]
  },
  {
   "cell_type": "code",
   "execution_count": null,
   "id": "5fb1c515-6f97-454b-9bde-c07f0e4bdd88",
   "metadata": {
    "ExecuteTime": {
     "end_time": "2025-08-12T14:53:14.470153Z",
     "start_time": "2025-08-12T14:53:14.415621Z"
    }
   },
   "outputs": [],
   "source": [
    "# Prepare features\n",
    "feature_columns, symbols_list = prepare_features_for_sequences(features_df)\n",
    "print(f\"\\n✅ Ready to process {len(symbols_list)} symbols with {len(feature_columns)} features\")\n",
    "\n",
    "# Quick sanity check\n",
    "if len(feature_columns) == 0:\n",
    "    print(\"❌ ERROR: No feature columns found!\")\n",
    "elif len(symbols_list) == 0:\n",
    "    print(\"❌ ERROR: No symbols found!\")\n",
    "else:\n",
    "    print(f\"📊 Expected sequences per symbol: ~{len(features_df) // len(symbols_list) - SEQUENCE_LENGTH}\")"
   ]
  },
  {
   "cell_type": "markdown",
   "id": "4b914d9b-9b52-4431-85e4-3975a4157bf5",
   "metadata": {},
   "source": [
    "## Data Quality Check Function"
   ]
  },
  {
   "cell_type": "code",
   "execution_count": null,
   "id": "12656710-599f-4ea6-bbf5-654407942564",
   "metadata": {
    "ExecuteTime": {
     "end_time": "2025-08-12T14:53:14.512002Z",
     "start_time": "2025-08-12T14:53:14.508340Z"
    }
   },
   "outputs": [],
   "source": [
    "def check_sequence_quality(sequence_data, min_valid_ratio=MIN_VALID_RATIO):\n",
    "    \"\"\"Check if a sequence meets quality requirements\"\"\"\n",
    "    \n",
    "    # Handle empty data\n",
    "    if sequence_data.empty:\n",
    "        return False, 0.0\n",
    "    \n",
    "    total_values = sequence_data.size\n",
    "    valid_values = sequence_data.count().sum()  # Count non-NaN values\n",
    "    valid_ratio = valid_values / total_values if total_values > 0 else 0.0\n",
    "    \n",
    "    return valid_ratio >= min_valid_ratio, valid_ratio"
   ]
  },
  {
   "cell_type": "code",
   "execution_count": null,
   "id": "cfb51a4b-5e3a-418e-bf5b-52366f9ab4bb",
   "metadata": {
    "ExecuteTime": {
     "end_time": "2025-08-12T14:53:14.565773Z",
     "start_time": "2025-08-12T14:53:14.548871Z"
    }
   },
   "outputs": [],
   "source": [
    "# Test the quality check function\n",
    "sample_symbol = features_df['symbol'].iloc[0]\n",
    "sample_data = features_df[features_df['symbol'] == sample_symbol].head(SEQUENCE_LENGTH)\n",
    "\n",
    "print(f\"Testing with symbol: {sample_symbol}\")\n",
    "print(f\"Sample data shape: {sample_data[feature_columns].shape}\")\n",
    "\n",
    "is_valid, ratio = check_sequence_quality(sample_data[feature_columns])\n",
    "print(f\"Sample quality check - Valid: {is_valid}, Ratio: {ratio:.3f}\")\n",
    "\n",
    "# Additional diagnostics\n",
    "if not is_valid:\n",
    "    print(f\"❌ Quality check failed: {ratio:.1%} < {MIN_VALID_RATIO:.1%}\")\n",
    "    print(f\"Need {(MIN_VALID_RATIO - ratio) * sample_data[feature_columns].size:.0f} more valid values\")\n",
    "else:\n",
    "    print(f\"✅ Quality check passed: {ratio:.1%} >= {MIN_VALID_RATIO:.1%}\")"
   ]
  },
  {
   "cell_type": "markdown",
   "id": "787cca62-4302-4bd8-bc32-af9bee6f1507",
   "metadata": {},
   "source": [
    "## NaN Handling Function"
   ]
  },
  {
   "cell_type": "code",
   "execution_count": null,
   "id": "fd77edde-e821-42a4-b62a-fa87a5bac664",
   "metadata": {
    "ExecuteTime": {
     "end_time": "2025-08-12T14:53:14.652426Z",
     "start_time": "2025-08-12T14:53:14.647380Z"
    }
   },
   "outputs": [],
   "source": [
    "def clean_sequence_data(sequence_data):\n",
    "    \"\"\"Clean sequence data by handling NaN values with multiple strategies\"\"\"\n",
    "    \n",
    "    # Handle empty data\n",
    "    if sequence_data.empty:\n",
    "        return sequence_data.copy(), True\n",
    "    \n",
    "    sequence_clean = sequence_data.copy()\n",
    "    initial_nans = sequence_clean.isnull().sum().sum()\n",
    "    \n",
    "    # Strategy 1: Forward fill then backward fill\n",
    "    sequence_clean = sequence_clean.ffill().bfill()\n",
    "    nans_after_fill = sequence_clean.isnull().sum().sum()\n",
    "    \n",
    "    # Strategy 2: If still NaNs, fill with column means\n",
    "    if nans_after_fill > 0:\n",
    "        column_means = sequence_clean.mean()\n",
    "        # Only fill columns that have valid means (avoid NaN means)\n",
    "        for col in sequence_clean.columns:\n",
    "            if sequence_clean[col].isnull().any() and not pd.isna(column_means[col]):\n",
    "                sequence_clean[col].fillna(column_means[col], inplace=True)\n",
    "    \n",
    "    nans_after_mean = sequence_clean.isnull().sum().sum()\n",
    "    \n",
    "    # Strategy 3: If still NaNs (shouldn't happen), fill with 0\n",
    "    if nans_after_mean > 0:\n",
    "        sequence_clean = sequence_clean.fillna(0)\n",
    "        # Uncomment for debugging: print(f\"Warning: {nans_after_mean} NaNs filled with 0 as last resort\")\n",
    "    \n",
    "    # Final check\n",
    "    remaining_nans = sequence_clean.isnull().sum().sum()\n",
    "    \n",
    "    return sequence_clean, remaining_nans == 0"
   ]
  },
  {
   "cell_type": "code",
   "execution_count": null,
   "id": "6dce3221-4276-401b-a58a-53d6f0b1b017",
   "metadata": {
    "ExecuteTime": {
     "end_time": "2025-08-12T14:53:14.711239Z",
     "start_time": "2025-08-12T14:53:14.687402Z"
    }
   },
   "outputs": [],
   "source": [
    "# Enhanced test with more diagnostics\n",
    "print(f\"Original sample NaNs: {sample_data[feature_columns].isnull().sum().sum()}\")\n",
    "\n",
    "if sample_data[feature_columns].isnull().any().any():\n",
    "    cleaned_sample, is_clean = clean_sequence_data(sample_data[feature_columns])\n",
    "    print(f\"After cleaning - NaNs: {cleaned_sample.isnull().sum().sum()}\")\n",
    "    print(f\"Cleaning successful: {is_clean}\")\n",
    "    \n",
    "    # Show which strategies were needed\n",
    "    if is_clean:\n",
    "        print(\"✅ All NaNs successfully handled\")\n",
    "    else:\n",
    "        print(f\"❌ {cleaned_sample.isnull().sum().sum()} NaNs remain\")\n",
    "        \n",
    "else:\n",
    "    print(\"✅ Sample data was already clean - no NaNs found\")\n",
    "\n",
    "# Verify data integrity\n",
    "print(f\"Sample shape maintained: {sample_data[feature_columns].shape} -> {cleaned_sample.shape if 'cleaned_sample' in locals() else 'N/A'}\")"
   ]
  },
  {
   "cell_type": "code",
   "execution_count": null,
   "id": "f1a5903b-eecf-4f1e-9583-9010465eb47a",
   "metadata": {
    "ExecuteTime": {
     "end_time": "2025-08-12T14:53:14.760305Z",
     "start_time": "2025-08-12T14:53:14.747970Z"
    }
   },
   "outputs": [],
   "source": [
    "cleaned_sample.head(5)"
   ]
  },
  {
   "cell_type": "markdown",
   "id": "8d676e36-4d0b-4626-ad4e-e4d95bb5ce8c",
   "metadata": {},
   "source": [
    "## Symbol Processing"
   ]
  },
  {
   "cell_type": "code",
   "execution_count": null,
   "id": "e2bec136-47b2-40e2-a72a-652919cb169d",
   "metadata": {
    "ExecuteTime": {
     "end_time": "2025-08-12T14:53:14.832628Z",
     "start_time": "2025-08-12T14:53:14.826516Z"
    }
   },
   "outputs": [],
   "source": [
    "def create_sequences_streamlined(features_df, feature_cols, sequence_length=SEQUENCE_LENGTH, \n",
    "                               stride=1, min_valid_ratio=MIN_VALID_RATIO):\n",
    "    \"\"\"Streamlined sequence creation using your tested functions\"\"\"\n",
    "    \n",
    "    print(f\"Creating sequences with length {sequence_length}\")\n",
    "    print(f\"Using minimum valid ratio: {min_valid_ratio}\")\n",
    "    \n",
    "    sequences = []\n",
    "    symbols_list = []\n",
    "    timestamps_list = []\n",
    "    total_skipped = 0\n",
    "    \n",
    "    for symbol in tqdm(features_df['symbol'].unique(), desc=\"Processing symbols\"):\n",
    "        symbol_data = features_df[features_df['symbol'] == symbol].sort_values('timestamp')\n",
    "        \n",
    "        # Skip if insufficient data\n",
    "        if len(symbol_data) < sequence_length:\n",
    "            continue\n",
    "            \n",
    "        # Create sequences with stride\n",
    "        for start_idx in range(0, len(symbol_data) - sequence_length + 1, stride):\n",
    "            window = symbol_data[feature_cols].iloc[start_idx:start_idx + sequence_length]\n",
    "            \n",
    "            # Use your tested quality check function\n",
    "            is_valid, valid_ratio = check_sequence_quality(window, min_valid_ratio)\n",
    "            \n",
    "            if not is_valid:\n",
    "                total_skipped += 1\n",
    "                continue\n",
    "                \n",
    "            # Use your tested cleaning function\n",
    "            window_clean, is_clean = clean_sequence_data(window)\n",
    "            \n",
    "            if not is_clean:\n",
    "                total_skipped += 1\n",
    "                continue\n",
    "            \n",
    "            # Add valid sequence\n",
    "            sequences.append(window_clean.values)\n",
    "            symbols_list.append(symbol)\n",
    "            timestamps_list.append(symbol_data['timestamp'].iloc[start_idx + sequence_length - 1])\n",
    "    \n",
    "    sequences_array = np.array(sequences, dtype=np.float32)\n",
    "    print(f\"✅ Created {len(sequences_array)} sequences of shape {sequences_array.shape}\")\n",
    "    print(f\"⚠️  Skipped {total_skipped} sequences due to quality issues\")\n",
    "    \n",
    "    return sequences_array, symbols_list, timestamps_list"
   ]
  },
  {
   "cell_type": "code",
   "execution_count": null,
   "id": "c67a16fd-0622-4330-b09a-fbae3f5db586",
   "metadata": {
    "ExecuteTime": {
     "end_time": "2025-08-12T15:08:47.785681Z",
     "start_time": "2025-08-12T14:53:14.932419Z"
    }
   },
   "outputs": [],
   "source": [
    "# Use it with your existing tested parameters\n",
    "sequences, sequence_symbols, sequence_timestamps = create_sequences_streamlined(\n",
    "    features_df, \n",
    "    feature_cols=feature_columns,  # Use your prepared feature columns\n",
    "    sequence_length=SEQUENCE_LENGTH,\n",
    "    min_valid_ratio=MIN_VALID_RATIO\n",
    ")"
   ]
  },
  {
   "cell_type": "markdown",
   "id": "7ee5fca9-9e93-4904-8a55-05ea29f2db85",
   "metadata": {},
   "source": [
    "## Feature Normalization"
   ]
  },
  {
   "cell_type": "code",
   "execution_count": null,
   "id": "2e1c5269-50c7-4600-91c3-be79aeab20b5",
   "metadata": {
    "ExecuteTime": {
     "end_time": "2025-08-12T15:08:47.868405Z",
     "start_time": "2025-08-12T15:08:47.863185Z"
    }
   },
   "outputs": [],
   "source": [
    "def detect_outliers(sequences, feature_columns, method='iqr', factor=3.0):\n",
    "    \"\"\"\n",
    "    Simple outlier detection that returns results as DataFrame\n",
    "    \n",
    "    Parameters:\n",
    "    -----------\n",
    "    sequences : np.array (n_sequences, sequence_length, n_features)\n",
    "    feature_columns : list of feature names\n",
    "    method : 'iqr' or 'zscore'\n",
    "    factor : multiplier for detection threshold\n",
    "    \n",
    "    Returns:\n",
    "    --------\n",
    "    outlier_stats : pd.DataFrame with outlier statistics\n",
    "    \"\"\"\n",
    "    stats_list = []\n",
    "    \n",
    "    for feat_idx, feature_name in enumerate(feature_columns):\n",
    "        # Get all values for this feature\n",
    "        feature_data = sequences[:, :, feat_idx].flatten()\n",
    "        feature_data = feature_data[np.isfinite(feature_data)]\n",
    "        \n",
    "        if method == 'iqr':\n",
    "            Q1, Q3 = np.percentile(feature_data, [25, 75])\n",
    "            IQR = Q3 - Q1\n",
    "            lower_bound = Q1 - factor * IQR\n",
    "            upper_bound = Q3 + factor * IQR\n",
    "        else:  # zscore\n",
    "            mean_val = np.mean(feature_data)\n",
    "            std_val = np.std(feature_data)\n",
    "            lower_bound = mean_val - factor * std_val\n",
    "            upper_bound = mean_val + factor * std_val\n",
    "        \n",
    "        # Count outliers\n",
    "        outliers = (feature_data < lower_bound) | (feature_data > upper_bound)\n",
    "        outlier_count = np.sum(outliers)\n",
    "        outlier_percentage = (outlier_count / len(feature_data)) * 100\n",
    "        \n",
    "        stats_list.append({\n",
    "            'feature': feature_name,\n",
    "            'outlier_count': outlier_count,\n",
    "            'outlier_percentage': round(outlier_percentage, 2),\n",
    "            'lower_bound': round(lower_bound, 4),\n",
    "            'upper_bound': round(upper_bound, 4),\n",
    "            'original_min': round(np.min(feature_data), 4),\n",
    "            'original_max': round(np.max(feature_data), 4),\n",
    "            'method': method\n",
    "        })\n",
    "    \n",
    "    return pd.DataFrame(stats_list)"
   ]
  },
  {
   "cell_type": "code",
   "execution_count": null,
   "id": "617c1cf4-2ad1-4659-adba-d64b74671ea8",
   "metadata": {
    "ExecuteTime": {
     "end_time": "2025-08-12T15:08:47.881612Z",
     "start_time": "2025-08-12T15:08:47.876924Z"
    }
   },
   "outputs": [],
   "source": [
    "def clip_outliers(sequences, feature_columns, method='iqr', factor=3.0):\n",
    "    \"\"\"\n",
    "    Remove outliers by clipping to bounds\n",
    "    \n",
    "    Returns:\n",
    "    --------\n",
    "    sequences_clean : np.array with outliers clipped\n",
    "    outlier_stats : pd.DataFrame with statistics\n",
    "    \"\"\"\n",
    "    sequences_clean = sequences.copy()\n",
    "    outlier_stats = detect_outliers(sequences, feature_columns, method, factor)\n",
    "    \n",
    "    for idx, row in outlier_stats.iterrows():\n",
    "        feat_idx = feature_columns.index(row['feature'])\n",
    "        sequences_clean[:, :, feat_idx] = np.clip(\n",
    "            sequences_clean[:, :, feat_idx], \n",
    "            row['lower_bound'], \n",
    "            row['upper_bound']\n",
    "        )\n",
    "    \n",
    "    return sequences_clean, outlier_stats"
   ]
  },
  {
   "cell_type": "code",
   "execution_count": null,
   "id": "0b3b2af1-99e1-413b-81a2-e5bae41b9065",
   "metadata": {
    "ExecuteTime": {
     "end_time": "2025-08-12T15:08:47.895826Z",
     "start_time": "2025-08-12T15:08:47.891182Z"
    }
   },
   "outputs": [],
   "source": [
    "def normalize_data(sequences, feature_columns, method='robust'):\n",
    "    \"\"\"\n",
    "    Simple global normalization\n",
    "    \n",
    "    Parameters:\n",
    "    -----------\n",
    "    method : 'robust', 'standard', or 'minmax'\n",
    "    \n",
    "    Returns:\n",
    "    --------\n",
    "    normalized_sequences : np.array\n",
    "    norm_params : pd.DataFrame with normalization parameters\n",
    "    \"\"\"\n",
    "    normalized_sequences = sequences.copy()\n",
    "    params_list = []\n",
    "    \n",
    "    for feat_idx, feature_name in enumerate(feature_columns):\n",
    "        feature_data = sequences[:, :, feat_idx].flatten()\n",
    "        feature_data = feature_data[np.isfinite(feature_data)]\n",
    "        \n",
    "        if method == 'robust':\n",
    "            center = np.median(feature_data)\n",
    "            scale = np.percentile(feature_data, 75) - np.percentile(feature_data, 25)\n",
    "        elif method == 'standard':\n",
    "            center = np.mean(feature_data)\n",
    "            scale = np.std(feature_data)\n",
    "        else:  # minmax\n",
    "            center = np.min(feature_data)\n",
    "            scale = np.max(feature_data) - np.min(feature_data)\n",
    "        \n",
    "        # Avoid division by zero\n",
    "        if scale < 1e-10:\n",
    "            scale = 1.0\n",
    "        \n",
    "        # Apply normalization\n",
    "        if method == 'minmax':\n",
    "            normalized_sequences[:, :, feat_idx] = (sequences[:, :, feat_idx] - center) / scale\n",
    "        else:\n",
    "            normalized_sequences[:, :, feat_idx] = (sequences[:, :, feat_idx] - center) / scale\n",
    "        \n",
    "        params_list.append({\n",
    "            'feature': feature_name,\n",
    "            'center': round(center, 6),\n",
    "            'scale': round(scale, 6),\n",
    "            'method': method\n",
    "        })\n",
    "    \n",
    "    norm_params = pd.DataFrame(params_list)\n",
    "    return normalized_sequences, norm_params"
   ]
  },
  {
   "cell_type": "code",
   "execution_count": null,
   "id": "d40a6894-3122-4588-b61f-6e25807fa234",
   "metadata": {
    "ExecuteTime": {
     "end_time": "2025-08-12T15:08:47.908882Z",
     "start_time": "2025-08-12T15:08:47.903592Z"
    }
   },
   "outputs": [],
   "source": [
    "def validate_normalization(original, normalized, feature_columns):\n",
    "    \"\"\"\n",
    "    Validate normalization results\n",
    "    \n",
    "    Returns:\n",
    "    --------\n",
    "    validation_stats : pd.DataFrame with validation metrics\n",
    "    \"\"\"\n",
    "    stats_list = []\n",
    "    \n",
    "    # Overall stats\n",
    "    overall_stats = {\n",
    "        'feature': 'OVERALL',\n",
    "        'nan_count': int(np.isnan(normalized).sum()),\n",
    "        'inf_count': int(np.isinf(normalized).sum()),\n",
    "        'mean_before': round(np.nanmean(original), 4),\n",
    "        'std_before': round(np.nanstd(original), 4),\n",
    "        'mean_after': round(np.nanmean(normalized), 4),\n",
    "        'std_after': round(np.nanstd(normalized), 4),\n",
    "        'min_after': round(np.nanmin(normalized), 4),\n",
    "        'max_after': round(np.nanmax(normalized), 4)\n",
    "    }\n",
    "    stats_list.append(overall_stats)\n",
    "    \n",
    "    # Per-feature stats\n",
    "    for i, feature in enumerate(feature_columns):\n",
    "        orig_data = original[:, :, i].flatten()\n",
    "        norm_data = normalized[:, :, i].flatten()\n",
    "        \n",
    "        feature_stats = {\n",
    "            'feature': feature,\n",
    "            'nan_count': int(np.isnan(norm_data).sum()),\n",
    "            'inf_count': int(np.isinf(norm_data).sum()),\n",
    "            'mean_before': round(np.nanmean(orig_data), 4),\n",
    "            'std_before': round(np.nanstd(orig_data), 4),\n",
    "            'mean_after': round(np.nanmean(norm_data), 4),\n",
    "            'std_after': round(np.nanstd(norm_data), 4),\n",
    "            'min_after': round(np.nanmin(norm_data), 4),\n",
    "            'max_after': round(np.nanmax(norm_data), 4)\n",
    "        }\n",
    "        stats_list.append(feature_stats)\n",
    "    \n",
    "    return pd.DataFrame(stats_list)"
   ]
  },
  {
   "cell_type": "code",
   "execution_count": null,
   "id": "7397f248-aed4-4622-8d93-4b28c4c9ec93",
   "metadata": {
    "ExecuteTime": {
     "end_time": "2025-08-12T15:08:47.919786Z",
     "start_time": "2025-08-12T15:08:47.914918Z"
    }
   },
   "outputs": [],
   "source": [
    "def plot_before_after(original, normalized, feature_columns, n_features=4):\n",
    "    \"\"\"\n",
    "    Simple before/after comparison plots\n",
    "    \"\"\"\n",
    "    n_features = min(n_features, len(feature_columns))\n",
    "    fig, axes = plt.subplots(2, n_features, figsize=(4*n_features, 8))\n",
    "    \n",
    "    if n_features == 1:\n",
    "        axes = axes.reshape(-1, 1)\n",
    "    \n",
    "    for i in range(n_features):\n",
    "        feature = feature_columns[i]\n",
    "        \n",
    "        # Original data\n",
    "        orig_data = original[:, :, i].flatten()\n",
    "        orig_data = orig_data[np.isfinite(orig_data)]\n",
    "        \n",
    "        # Normalized data\n",
    "        norm_data = normalized[:, :, i].flatten()\n",
    "        norm_data = norm_data[np.isfinite(norm_data)]\n",
    "        \n",
    "        # Plot histograms\n",
    "        axes[0, i].hist(orig_data, bins=50, alpha=0.7, color='red', density=True)\n",
    "        axes[0, i].set_title(f'Before: {feature}')\n",
    "        axes[0, i].set_ylabel('Density')\n",
    "        \n",
    "        axes[1, i].hist(norm_data, bins=50, alpha=0.7, color='green', density=True)\n",
    "        axes[1, i].set_title(f'After: {feature}')\n",
    "        axes[1, i].set_ylabel('Density')\n",
    "    \n",
    "    plt.tight_layout()\n",
    "    plt.show()"
   ]
  },
  {
   "cell_type": "code",
   "execution_count": null,
   "id": "cd63102d-a644-47e6-98cc-3bbafeb9fdb9",
   "metadata": {
    "ExecuteTime": {
     "end_time": "2025-08-12T15:09:40.576958Z",
     "start_time": "2025-08-12T15:08:47.928673Z"
    }
   },
   "outputs": [],
   "source": [
    "# Step by step approach:\n",
    "outlier_stats = detect_outliers(sequences, feature_columns)\n",
    "sequences_clean, _ = clip_outliers(sequences, feature_columns)\n",
    "normalized_sequences, norm_params = normalize_data(sequences_clean, feature_columns)\n",
    "validation = validate_normalization(sequences, normalized_sequences, feature_columns)"
   ]
  },
  {
   "cell_type": "markdown",
   "id": "391ec607-5240-4786-991e-db86c107b576",
   "metadata": {},
   "source": [
    "### View results as DataFrames"
   ]
  },
  {
   "cell_type": "code",
   "execution_count": null,
   "id": "a3fa6f9c-c764-4a98-bf97-2f1d05c83607",
   "metadata": {
    "ExecuteTime": {
     "end_time": "2025-08-12T15:09:40.655830Z",
     "start_time": "2025-08-12T15:09:40.644696Z"
    }
   },
   "outputs": [],
   "source": [
    "outlier_stats.head(5)"
   ]
  },
  {
   "cell_type": "code",
   "execution_count": null,
   "id": "625263dc-54c1-4650-b9d3-f0778a4558c3",
   "metadata": {
    "ExecuteTime": {
     "end_time": "2025-08-12T15:09:40.781932Z",
     "start_time": "2025-08-12T15:09:40.774210Z"
    }
   },
   "outputs": [],
   "source": [
    "norm_params.head(5)"
   ]
  },
  {
   "cell_type": "code",
   "execution_count": null,
   "id": "d9805033-2440-4d16-9c19-feaf9bb83b83",
   "metadata": {
    "ExecuteTime": {
     "end_time": "2025-08-12T15:09:41.009358Z",
     "start_time": "2025-08-12T15:09:40.997176Z"
    }
   },
   "outputs": [],
   "source": [
    "validation.head(5)"
   ]
  },
  {
   "cell_type": "code",
   "execution_count": null,
   "id": "7b0d6497-fcab-4d33-85e4-bd39d8760bda",
   "metadata": {
    "ExecuteTime": {
     "end_time": "2025-08-12T15:09:43.438331Z",
     "start_time": "2025-08-12T15:09:41.504604Z"
    }
   },
   "outputs": [],
   "source": [
    "# Plot comparison\n",
    "plot_before_after(sequences, normalized_sequences, feature_columns)"
   ]
  },
  {
   "cell_type": "code",
   "execution_count": null,
   "id": "a309e70d-4a23-4de4-89b9-4202903a740e",
   "metadata": {
    "ExecuteTime": {
     "end_time": "2025-08-12T15:09:43.553801Z",
     "start_time": "2025-08-12T15:09:43.549450Z"
    }
   },
   "outputs": [],
   "source": [
    "# Quick device info\n",
    "print(f\"Tensor device: {normalized_sequences.device}\")"
   ]
  },
  {
   "cell_type": "code",
   "execution_count": null,
   "id": "ed7e9c8e-d4e0-4cd3-896c-3e36e9945565",
   "metadata": {},
   "outputs": [],
   "source": [
    "normalized_sequences[:1]"
   ]
  },
  {
   "cell_type": "markdown",
   "id": "425bfeb2-dbbf-4a59-b824-0ce4bd25401d",
   "metadata": {},
   "source": [
    "## Visualization"
   ]
  },
  {
   "cell_type": "raw",
   "id": "c09ee533-e583-4e60-9e94-a539cd82bbf0",
   "metadata": {},
   "source": [
    "import matplotlib.pyplot as plt\n",
    "import seaborn as sns\n",
    "import pandas as pd\n",
    "import numpy as np\n",
    "from matplotlib.patches import Rectangle\n",
    "import warnings\n",
    "warnings.filterwarnings('ignore')\n",
    "\n",
    "# Set plotting style\n",
    "plt.style.use('default')\n",
    "sns.set_palette(\"husl\")"
   ]
  },
  {
   "cell_type": "code",
   "execution_count": null,
   "id": "50c367b9-b7ba-4e32-957c-74fcc9fa57c3",
   "metadata": {
    "ExecuteTime": {
     "end_time": "2025-08-12T15:09:43.660275Z",
     "start_time": "2025-08-12T15:09:43.653447Z"
    }
   },
   "outputs": [],
   "source": [
    "def analyze_sequences_comprehensive(sequences, feature_columns, sequence_symbols, sequence_timestamps):\n",
    "    \"\"\"\n",
    "    Comprehensive analysis of your sequences\n",
    "    \"\"\"\n",
    "    print(\"🔍 SEQUENCE ANALYSIS REPORT\")\n",
    "    print(\"=\" * 50)\n",
    "    \n",
    "    # Basic stats\n",
    "    n_sequences, seq_length, n_features = sequences.shape\n",
    "    print(f\"📊 Dataset Overview:\")\n",
    "    print(f\"   • Total sequences: {n_sequences:,}\")\n",
    "    print(f\"   • Sequence length: {seq_length} hours\")\n",
    "    print(f\"   • Number of features: {n_features}\")\n",
    "    print(f\"   • Total data points: {n_sequences * seq_length * n_features:,}\")\n",
    "    \n",
    "    # Symbol distribution\n",
    "    symbol_counts = pd.Series(sequence_symbols).value_counts()\n",
    "    print(f\"\\n📈 Symbol Distribution:\")\n",
    "    print(f\"   • Unique symbols: {len(symbol_counts)}\")\n",
    "    print(f\"   • Sequences per symbol: {symbol_counts.mean():.1f} ± {symbol_counts.std():.1f}\")\n",
    "    print(f\"   • Min/Max sequences: {symbol_counts.min()}/{symbol_counts.max()}\")\n",
    "    \n",
    "    # Data quality\n",
    "    total_values = sequences.size\n",
    "    finite_values = np.isfinite(sequences).sum()\n",
    "    print(f\"\\n✅ Data Quality:\")\n",
    "    print(f\"   • Finite values: {finite_values:,}/{total_values:,} ({finite_values/total_values*100:.2f}%)\")\n",
    "    print(f\"   • NaN values: {np.isnan(sequences).sum():,}\")\n",
    "    print(f\"   • Infinite values: {np.isinf(sequences).sum():,}\")\n",
    "    \n",
    "    # Feature statistics\n",
    "    #print(f\"\\n📋 Feature Statistics:\")\n",
    "    #for i, feature in enumerate(feature_columns):\n",
    "    #    feature_data = sequences[:, :, i]\n",
    "    #    print(f\"   • {feature}:\")\n",
    "    #    print(f\"     - Range: [{np.nanmin(feature_data):.4f}, {np.nanmax(feature_data):.4f}]\")\n",
    "    #    print(f\"     - Mean: {np.nanmean(feature_data):.4f} ± {np.nanstd(feature_data):.4f}\")\n",
    "    \n",
    "    return symbol_counts"
   ]
  },
  {
   "cell_type": "code",
   "execution_count": null,
   "id": "094a3d54-626d-4198-af63-43bcc64ed098",
   "metadata": {
    "ExecuteTime": {
     "end_time": "2025-08-12T15:09:43.731591Z",
     "start_time": "2025-08-12T15:09:43.721271Z"
    }
   },
   "outputs": [],
   "source": [
    "def plot_sequence_overview(sequences, feature_columns, sequence_symbols):\n",
    "    \"\"\"\n",
    "    Create overview plots of your sequences\n",
    "    \"\"\"\n",
    "    fig, axes = plt.subplots(2, 2, figsize=(15, 12))\n",
    "    fig.suptitle('📊 Sequence Dataset Overview', fontsize=16, fontweight='bold', y=0.98)\n",
    "    \n",
    "    # 1. Sequence length distribution (if varies)\n",
    "    ax1 = axes[0, 0]\n",
    "    seq_lengths = [sequences.shape[1]] * sequences.shape[0]  # All same length in your case\n",
    "    ax1.bar(['Sequence Length'], [sequences.shape[1]], color='skyblue', alpha=0.7)\n",
    "    ax1.set_title('Sequence Length Distribution', fontweight='bold')\n",
    "    ax1.set_ylabel('Hours')\n",
    "    ax1.text(0, sequences.shape[1]/2, f'{sequences.shape[1]}h\\n(2 days)', \n",
    "             ha='center', va='center', fontweight='bold', fontsize=12)\n",
    "    \n",
    "    # 2. Symbol frequency\n",
    "    ax2 = axes[0, 1]\n",
    "    symbol_counts = pd.Series(sequence_symbols).value_counts()\n",
    "    top_10_symbols = symbol_counts.head(10)\n",
    "    ax2.bar(range(len(top_10_symbols)), top_10_symbols.values, color='lightgreen', alpha=0.7)\n",
    "    ax2.set_title('Top 10 Symbols by Sequence Count', fontweight='bold')\n",
    "    ax2.set_xlabel('Symbols')\n",
    "    ax2.set_ylabel('Number of Sequences')\n",
    "    ax2.set_xticks(range(len(top_10_symbols)))\n",
    "    ax2.set_xticklabels(top_10_symbols.index, rotation=45)\n",
    "    \n",
    "    # 3. Feature value distributions\n",
    "    ax3 = axes[1, 0]\n",
    "    feature_means = []\n",
    "    feature_stds = []\n",
    "    for i in range(len(feature_columns)):\n",
    "        feature_data = sequences[:, :, i].flatten()\n",
    "        feature_means.append(np.nanmean(feature_data))\n",
    "        feature_stds.append(np.nanstd(feature_data))\n",
    "    \n",
    "    x_pos = np.arange(len(feature_columns))\n",
    "    ax3.bar(x_pos, feature_means, yerr=feature_stds, capsize=3, color='orange', alpha=0.7)\n",
    "    ax3.set_title('Feature Means ± Std Dev', fontweight='bold')\n",
    "    ax3.set_xlabel('Features')\n",
    "    ax3.set_ylabel('Values')\n",
    "    ax3.set_xticks(x_pos)\n",
    "    ax3.set_xticklabels([f'F{i+1}' for i in range(len(feature_columns))], rotation=45)\n",
    "    \n",
    "    # 4. Data completeness heatmap\n",
    "    ax4 = axes[1, 1]\n",
    "    # Calculate completeness per feature per sequence (sample)\n",
    "    sample_sequences = min(20, sequences.shape[0])\n",
    "    completeness = np.zeros((sample_sequences, len(feature_columns)))\n",
    "    for i in range(sample_sequences):\n",
    "        for j in range(len(feature_columns)):\n",
    "            completeness[i, j] = np.isfinite(sequences[i, :, j]).mean()\n",
    "    \n",
    "    im = ax4.imshow(completeness, cmap='RdYlGn', aspect='auto', vmin=0, vmax=1)\n",
    "    ax4.set_title(f'Data Completeness\\n(Sample of {sample_sequences} sequences)', fontweight='bold')\n",
    "    ax4.set_xlabel('Features')\n",
    "    ax4.set_ylabel('Sequences')\n",
    "    ax4.set_xticks(range(len(feature_columns)))\n",
    "    ax4.set_xticklabels([f'F{i+1}' for i in range(len(feature_columns))])\n",
    "    \n",
    "    # Add colorbar\n",
    "    plt.colorbar(im, ax=ax4, fraction=0.046, pad=0.04)\n",
    "    \n",
    "    plt.tight_layout()\n",
    "    plt.show()"
   ]
  },
  {
   "cell_type": "code",
   "execution_count": null,
   "id": "beaf4aa5-47d4-4dbe-bc7a-ce255839226c",
   "metadata": {
    "ExecuteTime": {
     "end_time": "2025-08-12T15:09:43.759298Z",
     "start_time": "2025-08-12T15:09:43.752721Z"
    }
   },
   "outputs": [],
   "source": [
    "def plot_sample_sequences(sequences, feature_columns, n_samples=4):\n",
    "    \"\"\"\n",
    "    Plot sample sequences to understand the data patterns\n",
    "    \"\"\"\n",
    "    fig, axes = plt.subplots(n_samples, 1, figsize=(15, 3*n_samples))\n",
    "    if n_samples == 1:\n",
    "        axes = [axes]\n",
    "    \n",
    "    fig.suptitle('🔍 Sample Sequence Patterns', fontsize=16, fontweight='bold', y=0.98)\n",
    "    \n",
    "    # Select random sequences\n",
    "    sample_indices = np.random.choice(sequences.shape[0], n_samples, replace=False)\n",
    "    \n",
    "    for i, seq_idx in enumerate(sample_indices):\n",
    "        ax = axes[i]\n",
    "        sequence_data = sequences[seq_idx]  # Shape: (48, n_features)\n",
    "        \n",
    "        # Plot each feature\n",
    "        for feat_idx in range(min(5, len(feature_columns))):  # Limit to 5 features for readability\n",
    "            ax.plot(sequence_data[:, feat_idx], \n",
    "                   label=f'{feature_columns[feat_idx][:15]}...', \n",
    "                   linewidth=1.5, alpha=0.8)\n",
    "        \n",
    "        ax.set_title(f'Sequence #{seq_idx} - 48 Hour Window', fontweight='bold')\n",
    "        ax.set_xlabel('Hours')\n",
    "        ax.set_ylabel('Normalized Values')\n",
    "        ax.legend(bbox_to_anchor=(1.05, 1), loc='upper left')\n",
    "        ax.grid(True, alpha=0.3)\n",
    "        ax.axhline(y=0, color='black', linestyle='--', alpha=0.5)\n",
    "    \n",
    "    plt.tight_layout()\n",
    "    plt.show()"
   ]
  },
  {
   "cell_type": "code",
   "execution_count": null,
   "id": "e668abf7-4da4-4041-b068-e8a4eb5fef53",
   "metadata": {
    "ExecuteTime": {
     "end_time": "2025-08-12T15:09:43.794586Z",
     "start_time": "2025-08-12T15:09:43.786801Z"
    }
   },
   "outputs": [],
   "source": [
    "def plot_feature_correlations(sequences, feature_columns):\n",
    "    \"\"\"\n",
    "    Analyze correlations between features\n",
    "    \"\"\"\n",
    "    # Flatten sequences to get all data points\n",
    "    n_sequences, seq_length, n_features = sequences.shape\n",
    "    flattened_data = sequences.reshape(-1, n_features)\n",
    "    \n",
    "    # Create correlation matrix\n",
    "    corr_df = pd.DataFrame(flattened_data, columns=feature_columns)\n",
    "    correlation_matrix = corr_df.corr()\n",
    "    \n",
    "    # Plot heatmap\n",
    "    plt.figure(figsize=(12, 10))\n",
    "    mask = np.triu(np.ones_like(correlation_matrix, dtype=bool))\n",
    "    sns.heatmap(correlation_matrix, \n",
    "                mask=mask, \n",
    "                annot=True, \n",
    "                cmap='RdBu_r', \n",
    "                center=0,\n",
    "                square=True,\n",
    "                fmt='.2f',\n",
    "                cbar_kws={\"shrink\": .8})\n",
    "    \n",
    "    plt.title('🔗 Feature Correlation Matrix', fontsize=16, fontweight='bold', pad=20)\n",
    "    plt.xticks(rotation=45, ha='right')\n",
    "    plt.yticks(rotation=0)\n",
    "    plt.tight_layout()\n",
    "    plt.show()\n",
    "    \n",
    "    # Print highly correlated pairs\n",
    "    print(\"🔗 Highly Correlated Feature Pairs (|r| > 0.7):\")\n",
    "    print(\"-\" * 50)\n",
    "    high_corr_pairs = []\n",
    "    for i in range(len(feature_columns)):\n",
    "        for j in range(i+1, len(feature_columns)):\n",
    "            corr_val = correlation_matrix.iloc[i, j]\n",
    "            if abs(corr_val) > 0.7:\n",
    "                high_corr_pairs.append((feature_columns[i], feature_columns[j], corr_val))\n",
    "    \n",
    "    if high_corr_pairs:\n",
    "        for feat1, feat2, corr in sorted(high_corr_pairs, key=lambda x: abs(x[2]), reverse=True):\n",
    "            print(f\"   • {feat1} ↔ {feat2}: {corr:.3f}\")\n",
    "    else:\n",
    "        print(\"   • No highly correlated pairs found\")"
   ]
  },
  {
   "cell_type": "code",
   "execution_count": null,
   "id": "864d2306-eab1-4718-8c49-eee9c20cc03c",
   "metadata": {
    "ExecuteTime": {
     "end_time": "2025-08-12T15:09:43.831647Z",
     "start_time": "2025-08-12T15:09:43.822240Z"
    }
   },
   "outputs": [],
   "source": [
    "def plot_normalization_effects(original_sequences, normalized_sequences, feature_columns):\n",
    "    \"\"\"\n",
    "    Compare before and after normalization\n",
    "    \"\"\"\n",
    "    n_features = len(feature_columns)\n",
    "    fig, axes = plt.subplots(2, min(4, n_features), figsize=(16, 8))\n",
    "    if n_features == 1:\n",
    "        axes = axes.reshape(2, 1)\n",
    "    \n",
    "    fig.suptitle('🎯 Normalization Effects (Before vs After)', fontsize=16, fontweight='bold', y=0.98)\n",
    "    \n",
    "    for i in range(min(4, n_features)):\n",
    "        # Before normalization\n",
    "        original_data = original_sequences[:, :, i].flatten()\n",
    "        axes[0, i].hist(original_data, bins=50, alpha=0.7, color='red', density=True)\n",
    "        axes[0, i].set_title(f'Before: {feature_columns[i][:15]}...', fontweight='bold')\n",
    "        axes[0, i].set_ylabel('Density')\n",
    "        axes[0, i].text(0.02, 0.98, f'μ={np.nanmean(original_data):.2f}\\nσ={np.nanstd(original_data):.2f}', \n",
    "                       transform=axes[0, i].transAxes, va='top', fontsize=10,\n",
    "                       bbox=dict(boxstyle=\"round,pad=0.3\", facecolor=\"white\", alpha=0.8))\n",
    "        \n",
    "        # After normalization\n",
    "        normalized_data = normalized_sequences[:, :, i].flatten()\n",
    "        axes[1, i].hist(normalized_data, bins=50, alpha=0.7, color='green', density=True)\n",
    "        axes[1, i].set_title(f'After: {feature_columns[i][:15]}...', fontweight='bold')\n",
    "        axes[1, i].set_xlabel('Value')\n",
    "        axes[1, i].set_ylabel('Density')\n",
    "        axes[1, i].text(0.02, 0.98, f'μ={np.nanmean(normalized_data):.2f}\\nσ={np.nanstd(normalized_data):.2f}', \n",
    "                       transform=axes[1, i].transAxes, va='top', fontsize=10,\n",
    "                       bbox=dict(boxstyle=\"round,pad=0.3\", facecolor=\"white\", alpha=0.8))\n",
    "    \n",
    "    plt.tight_layout()\n",
    "    plt.show()"
   ]
  },
  {
   "cell_type": "raw",
   "id": "906ad69a-ed94-4b43-aaf5-9aba42a5e6a4",
   "metadata": {},
   "source": [
    "def generate_sequence_report(sequences, feature_columns, sequence_symbols, sequence_timestamps):\n",
    "    \"\"\"\n",
    "    Generate a comprehensive report\n",
    "    \"\"\"\n",
    "    print(\"\\n\" + \"=\"*60)\n",
    "    print(\"📈 SEQUENCE DATASET ANALYSIS COMPLETE\")\n",
    "    print(\"=\"*60)\n",
    "    \n",
    "    # Run all analyses\n",
    "    print(\"\\n1️⃣ Running comprehensive analysis...\")\n",
    "    symbol_counts = analyze_sequences_comprehensive(sequences, feature_columns, sequence_symbols, sequence_timestamps)\n",
    "    \n",
    "    print(\"\\n2️⃣ Generating overview plots...\")\n",
    "    plot_sequence_overview(sequences, feature_columns, sequence_symbols)\n",
    "    \n",
    "    print(\"\\n3️⃣ Plotting sample sequences...\")\n",
    "    plot_sample_sequences(sequences, feature_columns)\n",
    "    \n",
    "    print(\"\\n4️⃣ Analyzing feature correlations...\")\n",
    "    plot_feature_correlations(sequences, feature_columns)\n",
    "    \n",
    "    # Summary recommendations\n",
    "    print(\"\\n🎯 RECOMMENDATIONS FOR GRU TRAINING:\")\n",
    "    print(\"-\" * 40)\n",
    "    print(f\"✅ Dataset size: {sequences.shape[0]:,} sequences is good for training\")\n",
    "    print(f\"✅ Sequence length: {sequences.shape[1]} hours captures short-term patterns\")\n",
    "    print(f\"✅ Feature count: {sequences.shape[2]} features - consider dimensionality\")\n",
    "    print(f\"💡 Consider batch size: {min(32, sequences.shape[0]//10)} - {min(128, sequences.shape[0]//5)}\")\n",
    "    print(f\"💡 Train/Val split suggestion: 80/20 = {int(sequences.shape[0]*0.8)}/{int(sequences.shape[0]*0.2)}\")\n",
    "    \n",
    "    if sequences.shape[2] > 20:\n",
    "        print(\"⚠️  Consider feature selection or PCA - many features may cause overfitting\")\n",
    "    \n",
    "    return symbol_counts"
   ]
  },
  {
   "cell_type": "raw",
   "id": "441b0782-c557-4843-8554-6868a0cdeca8",
   "metadata": {},
   "source": [
    "# Usage example - uncomment and run after your normalization step:\n",
    "\n",
    "# After you have your normalized sequences, run this:\n",
    "symbol_counts = generate_sequence_report(\n",
    "    sequences=normalized_sequences,  # or just 'sequences' for original\n",
    "    feature_columns=feature_columns,\n",
    "    sequence_symbols=sequence_symbols,\n",
    "    sequence_timestamps=sequence_timestamps\n",
    ")"
   ]
  },
  {
   "cell_type": "code",
   "execution_count": null,
   "id": "0626f9f9-91bf-4ab1-a169-a4b4fdb0dde8",
   "metadata": {
    "ExecuteTime": {
     "end_time": "2025-08-12T15:09:45.067326Z",
     "start_time": "2025-08-12T15:09:43.854696Z"
    }
   },
   "outputs": [],
   "source": [
    "print(\"\\n\" + \"=\"*60)\n",
    "print(\"📈 SEQUENCE DATASET ANALYSIS COMPLETE\")\n",
    "print(\"=\"*60)\n",
    "# Run all analyses\n",
    "print(\"\\n1️⃣ Running comprehensive analysis...\")\n",
    "symbol_counts = analyze_sequences_comprehensive(normalized_sequences, feature_columns, sequence_symbols, sequence_timestamps)"
   ]
  },
  {
   "cell_type": "code",
   "execution_count": null,
   "id": "b5f39a61-625e-446e-8f0b-84c59413deaa",
   "metadata": {
    "ExecuteTime": {
     "end_time": "2025-08-12T15:09:51.802992Z",
     "start_time": "2025-08-12T15:09:45.137163Z"
    }
   },
   "outputs": [],
   "source": [
    "print(\"\\n2️⃣ Generating overview plots...\")\n",
    "plot_sequence_overview(normalized_sequences, feature_columns, sequence_symbols)"
   ]
  },
  {
   "cell_type": "code",
   "execution_count": null,
   "id": "ba3faa68-849c-4a28-a7a9-b63dd6a53de1",
   "metadata": {
    "ExecuteTime": {
     "end_time": "2025-08-12T15:09:52.456761Z",
     "start_time": "2025-08-12T15:09:51.878976Z"
    }
   },
   "outputs": [],
   "source": [
    "print(\"\\n3️⃣ Plotting sample sequences...\")\n",
    "plot_sample_sequences(sequences, feature_columns)"
   ]
  },
  {
   "cell_type": "raw",
   "id": "6455b31b-2d08-4162-82e3-18673fabb712",
   "metadata": {
    "ExecuteTime": {
     "end_time": "2025-08-12T15:16:12.332870Z",
     "start_time": "2025-08-12T15:09:52.474694Z"
    }
   },
   "source": [
    "print(\"\\n4️⃣ Analyzing feature correlations...\")\n",
    "plot_feature_correlations(normalized_sequences, feature_columns)"
   ]
  },
  {
   "cell_type": "code",
   "execution_count": null,
   "id": "f76d4efd-7b91-4df0-b6e6-1214ef5402ac",
   "metadata": {
    "ExecuteTime": {
     "end_time": "2025-08-12T15:16:14.538702Z",
     "start_time": "2025-08-12T15:16:12.495995Z"
    }
   },
   "outputs": [],
   "source": [
    "# If you want to compare normalization effects:\n",
    "plot_normalization_effects(sequences, normalized_sequences, feature_columns)"
   ]
  },
  {
   "cell_type": "code",
   "execution_count": null,
   "id": "93a2d2a7-a410-439c-beda-5e1ec9355d47",
   "metadata": {
    "ExecuteTime": {
     "end_time": "2025-08-12T15:16:14.625743Z",
     "start_time": "2025-08-12T15:16:14.612862Z"
    }
   },
   "outputs": [],
   "source": [
    "# Summary recommendations\n",
    "print(\"\\n🎯 RECOMMENDATIONS FOR GRU TRAINING:\")\n",
    "print(\"-\" * 40)\n",
    "print(f\"✅ Dataset size: {normalized_sequences.shape[0]:,} sequences is good for training\")\n",
    "print(f\"✅ Sequence length: {normalized_sequences.shape[1]} hours captures short-term patterns\")\n",
    "print(f\"✅ Feature count: {normalized_sequences.shape[2]} features - consider dimensionality\")\n",
    "print(f\"💡 Consider batch size: {min(32, normalized_sequences.shape[0]//10)} - {min(128, normalized_sequences.shape[0]//5)}\")\n",
    "print(f\"💡 Train/Val split suggestion: 80/20 = {int(normalized_sequences.shape[0]*0.8)}/{int(normalized_sequences.shape[0]*0.2)}\")\n",
    "\n",
    "if normalized_sequences.shape[2] > 20:\n",
    "    print(\"⚠️  Consider feature selection or PCA - many features may cause overfitting\")"
   ]
  },
  {
   "cell_type": "markdown",
   "id": "61752073-71a5-4dce-a338-e3a145caa899",
   "metadata": {},
   "source": [
    "## Save"
   ]
  },
  {
   "cell_type": "code",
   "execution_count": null,
   "id": "2e5d1e82-d7fa-428c-9522-8e7b51e9289d",
   "metadata": {
    "ExecuteTime": {
     "end_time": "2025-08-12T15:16:14.695674Z",
     "start_time": "2025-08-12T15:16:14.688580Z"
    }
   },
   "outputs": [],
   "source": [
    "def save_sequences(sequences, symbols, timestamps,  selected_sector, filename_prefix='gru_sequences'):\n",
    "    \"\"\"Save sequences and metadata\"\"\"\n",
    "    \n",
    "    if not validate_normalization:\n",
    "        print(\"Validation failed, not saving sequences\")\n",
    "        return\n",
    "    \n",
    "    # Save sequences as numpy array\n",
    "    np.save(f'{filename_prefix}_{selected_sector}_data.npy', sequences)\n",
    "    \n",
    "    # Save metadata as DataFrame\n",
    "    metadata = pd.DataFrame({\n",
    "        'symbol': symbols,\n",
    "        'timestamp': timestamps\n",
    "    })\n",
    "    metadata.to_csv(f'{filename_prefix}_{selected_sector}_metadata.csv', index=False)\n",
    "    \n",
    "    # Save configuration\n",
    "    config = {\n",
    "        'sequence_length': SEQUENCE_LENGTH,\n",
    "        'target_horizon': TARGET_HORIZON,\n",
    "        'min_valid_ratio': MIN_VALID_RATIO,\n",
    "        'n_features': len(feature_columns),\n",
    "        'n_sequences': len(sequences),\n",
    "        'n_symbols': len(set(symbols))\n",
    "    }\n",
    "    \n",
    "    config_df = pd.DataFrame([config])\n",
    "    config_df.to_csv(f'{filename_prefix}_{selected_sector}_config.csv', index=False)\n",
    "    \n",
    "    print(f\"Sequences saved:\")\n",
    "    print(f\"  Data: {filename_prefix}_{selected_sector}_data.npy\")\n",
    "    print(f\"  Metadata: {filename_prefix}_{selected_sector}_metadata.csv\") \n",
    "    print(f\"  Config: {filename_prefix}_{selected_sector}_config.csv\")"
   ]
  },
  {
   "cell_type": "code",
   "execution_count": null,
   "id": "e9c52310-0e8b-41ae-a74a-0c777798e796",
   "metadata": {
    "ExecuteTime": {
     "end_time": "2025-08-12T15:16:16.143229Z",
     "start_time": "2025-08-12T15:16:14.742439Z"
    }
   },
   "outputs": [],
   "source": [
    "# Optionally save results\n",
    "save_sequences(normalized_sequences, sequence_symbols, sequence_timestamps, selected_sector)\n",
    "print(\"Sequence creation complete! Ready for GRU model training.\")"
   ]
  },
  {
   "cell_type": "markdown",
   "id": "a5c21bcd-e57c-4623-a198-b3128405ba77",
   "metadata": {},
   "source": [
    "## Data Split"
   ]
  },
  {
   "cell_type": "code",
   "execution_count": null,
   "id": "f7c0737e-a91f-43b8-9a82-d94f900e0a00",
   "metadata": {
    "ExecuteTime": {
     "end_time": "2025-08-12T15:16:16.213127Z",
     "start_time": "2025-08-12T15:16:16.202481Z"
    }
   },
   "outputs": [],
   "source": [
    "def create_chronological_splits_updated(sequences, dates, symbols, \n",
    "                                      train_months=8, val_months=2):\n",
    "    \"\"\"\n",
    "    Updated splitting for your 2024-2025 data range\n",
    "    Auto-calculates split points based on your data span\n",
    "    \"\"\"\n",
    "    start_date = dates.min()\n",
    "    end_date = dates.max()\n",
    "    total_days = (end_date - start_date).days\n",
    "    \n",
    "    print(f\"Data spans {total_days} days from {start_date.date()} to {end_date.date()}\")\n",
    "    \n",
    "    # Calculate split points based on proportions\n",
    "    train_ratio = train_months / (train_months + val_months + 2)  # 8/12 = 67%\n",
    "    val_ratio = val_months / (train_months + val_months + 2)      # 2/12 = 17%\n",
    "    # test gets remaining 16%\n",
    "    \n",
    "    # Calculate actual split dates\n",
    "    train_end = start_date + pd.Timedelta(days=int(total_days * train_ratio))\n",
    "    val_end = start_date + pd.Timedelta(days=int(total_days * (train_ratio + val_ratio)))\n",
    "    \n",
    "    print(f\"Split points:\")\n",
    "    print(f\"  Train: {start_date.date()} to {train_end.date()}\")\n",
    "    print(f\"  Val:   {train_end.date()} to {val_end.date()}\")  \n",
    "    print(f\"  Test:  {val_end.date()} to {end_date.date()}\")\n",
    "    \n",
    "    # Create masks\n",
    "    train_mask = dates <= train_end\n",
    "    val_mask = (dates > train_end) & (dates <= val_end)\n",
    "    test_mask = dates > val_end\n",
    "    \n",
    "    splits = {\n",
    "        'train': {\n",
    "            'sequences': sequences[train_mask],\n",
    "            'symbols': np.array(symbols)[train_mask],\n",
    "            'dates': dates[train_mask]\n",
    "        },\n",
    "        'val': {\n",
    "            'sequences': sequences[val_mask], \n",
    "            'symbols': np.array(symbols)[val_mask],\n",
    "            'dates': dates[val_mask]\n",
    "        },\n",
    "        'test': {\n",
    "            'sequences': sequences[test_mask],\n",
    "            'symbols': np.array(symbols)[test_mask], \n",
    "            'dates': dates[test_mask]\n",
    "        }\n",
    "    }\n",
    "    \n",
    "    # Validate splits\n",
    "    for split_name, split_data in splits.items():\n",
    "        count = len(split_data['sequences'])\n",
    "        percentage = (count / len(sequences)) * 100\n",
    "        print(f\"{split_name.upper()}: {count} sequences ({percentage:.1f}%)\")\n",
    "        if count > 0:\n",
    "            print(f\"  Date range: {split_data['dates'].min().date()} to {split_data['dates'].max().date()}\")\n",
    "    \n",
    "    return splits"
   ]
  },
  {
   "cell_type": "code",
   "execution_count": null,
   "id": "3bafa342-04a8-42ff-b34e-65994653a720",
   "metadata": {
    "ExecuteTime": {
     "end_time": "2025-08-12T15:16:16.755718Z",
     "start_time": "2025-08-12T15:16:16.254226Z"
    }
   },
   "outputs": [],
   "source": [
    "# Convert your timestamp list to pandas datetime\n",
    "sequence_dates = pd.to_datetime(sequence_timestamps)\n",
    "print(f\"Converted {len(sequence_dates)} timestamps to dates\")\n",
    "print(f\"Date range: {sequence_dates.min()} to {sequence_dates.max()}\")\n",
    "\n",
    "# Now run your split function\n",
    "splits = create_chronological_splits_updated(\n",
    "    normalized_sequences, \n",
    "    sequence_dates,      # Now this is defined\n",
    "    sequence_symbols,\n",
    "    train_months=8,      # 8 months training\n",
    "    val_months=2         # 2 months validation, rest is test\n",
    ")"
   ]
  },
  {
   "cell_type": "markdown",
   "id": "7b54872e-e5e7-4c21-bd11-3df7a0ef4a30",
   "metadata": {},
   "source": [
    "### Data Distribution check"
   ]
  },
  {
   "cell_type": "code",
   "execution_count": null,
   "id": "59fad699-b688-4973-992a-e5a37d26c654",
   "metadata": {
    "ExecuteTime": {
     "end_time": "2025-08-12T15:16:16.790656Z",
     "start_time": "2025-08-12T15:16:16.783881Z"
    }
   },
   "outputs": [],
   "source": [
    "# Quick diagnostic\n",
    "print(f\"sequence_dates type: {type(sequence_dates)}\")\n",
    "print(f\"First few dates: {sequence_dates[:5]}\")\n",
    "print(f\"Total sequences: {len(sequence_dates)}\")"
   ]
  },
  {
   "cell_type": "code",
   "execution_count": null,
   "id": "1ad544ed-948c-4d0f-a8f2-b80f3682926a",
   "metadata": {},
   "outputs": [],
   "source": [
    "# Cell 1: Import all necessary libraries\n",
    "import torch\n",
    "import torch.nn as nn\n",
    "import torch.optim as optim\n",
    "from torch.utils.data import Dataset, DataLoader\n",
    "import numpy as np\n",
    "import pandas as pd\n",
    "from sklearn.metrics.pairwise import cosine_similarity\n",
    "from sklearn.preprocessing import StandardScaler\n",
    "import matplotlib.pyplot as plt\n",
    "import seaborn as sns\n",
    "from collections import defaultdict\n",
    "import warnings\n",
    "warnings.filterwarnings('ignore')\n",
    "\n",
    "# Check if CUDA is available\n",
    "device = 'cuda' if torch.cuda.is_available() else 'cpu'\n",
    "print(f\"Using device: {device}\")\n",
    "\n",
    "# Set random seeds for reproducibility\n",
    "torch.manual_seed(42)\n",
    "np.random.seed(42)\n",
    "\n",
    "print(\"✅ All libraries imported successfully!\")"
   ]
  },
  {
   "cell_type": "code",
   "execution_count": null,
   "id": "18908c07-d7f5-4029-b6d2-b0b888001823",
   "metadata": {},
   "outputs": [],
   "source": [
    "# Cell 2: Define the GRU embedding model\n",
    "class AssetEmbeddingGRU(nn.Module):\n",
    "    \"\"\"\n",
    "    GRU-based encoder for generating dynamic asset embeddings\n",
    "    \"\"\"\n",
    "    def __init__(self, input_dim, hidden_dim=64, embedding_dim=32, \n",
    "                 num_layers=2, dropout=0.2):\n",
    "        super(AssetEmbeddingGRU, self).__init__()\n",
    "        \n",
    "        self.hidden_dim = hidden_dim\n",
    "        self.embedding_dim = embedding_dim\n",
    "        self.num_layers = num_layers\n",
    "        \n",
    "        # Input normalization\n",
    "        self.input_norm = nn.LayerNorm(input_dim)\n",
    "        \n",
    "        # GRU layers\n",
    "        self.gru = nn.GRU(\n",
    "            input_size=input_dim,\n",
    "            hidden_size=hidden_dim,\n",
    "            num_layers=num_layers,\n",
    "            dropout=dropout if num_layers > 1 else 0,\n",
    "            batch_first=True,\n",
    "            bidirectional=False\n",
    "        )\n",
    "        \n",
    "        # Embedding projection layers\n",
    "        self.embedding_layers = nn.Sequential(\n",
    "            nn.Linear(hidden_dim, hidden_dim // 2),\n",
    "            nn.ReLU(),\n",
    "            nn.Dropout(dropout),\n",
    "            nn.Linear(hidden_dim // 2, embedding_dim),\n",
    "            nn.Tanh()  # Normalize embeddings to [-1, 1]\n",
    "        )\n",
    "        \n",
    "        # Reconstruction head (for self-supervised training)\n",
    "        self.reconstruction_head = nn.Sequential(\n",
    "            nn.Linear(embedding_dim, hidden_dim),\n",
    "            nn.ReLU(),\n",
    "            nn.Dropout(dropout),\n",
    "            nn.Linear(hidden_dim, input_dim)\n",
    "        )\n",
    "        \n",
    "    def forward(self, x):\n",
    "        batch_size, seq_len, _ = x.shape\n",
    "        \n",
    "        # Normalize input\n",
    "        x_norm = self.input_norm(x)\n",
    "        \n",
    "        # GRU forward pass\n",
    "        gru_out, hidden = self.gru(x_norm)\n",
    "        \n",
    "        # Use final hidden state for embedding\n",
    "        final_hidden = hidden[-1]  # (batch_size, hidden_dim)\n",
    "        \n",
    "        # Generate embedding\n",
    "        embeddings = self.embedding_layers(final_hidden)\n",
    "        \n",
    "        # Reconstruction (for training)\n",
    "        reconstruction = self.reconstruction_head(embeddings)\n",
    "        reconstruction = reconstruction.unsqueeze(1).repeat(1, seq_len, 1)\n",
    "        \n",
    "        return embeddings, reconstruction\n",
    "\n",
    "print(\"✅ GRU model architecture defined!\")"
   ]
  },
  {
   "cell_type": "code",
   "execution_count": null,
   "id": "f57da645-8018-4bc8-86bf-e248e642c64e",
   "metadata": {},
   "outputs": [],
   "source": [
    "# Cell 4: Initialize the DynamicPairSelector class\n",
    "\n",
    "# First, let's determine the input dimension from your data\n",
    "# Replace 'splits' with your actual splits variable\n",
    "print(\"Checking data dimensions...\")\n",
    "print(f\"Train sequences shape: {splits['train']['sequences'].shape}\")\n",
    "print(f\"Validation sequences shape: {splits['val']['sequences'].shape}\")\n",
    "print(f\"Test sequences shape: {splits['test']['sequences'].shape}\")\n",
    "\n",
    "# Get input dimension (number of features)\n",
    "input_dim = splits['train']['sequences'].shape[-1]\n",
    "print(f\"Input dimension (features): {input_dim}\")\n",
    "\n",
    "class DynamicPairSelector:\n",
    "    def __init__(self, input_dim, hidden_dim=64, embedding_dim=32, \n",
    "                 num_layers=2, dropout=0.2, device=None):\n",
    "        if device is None:\n",
    "            device = 'cuda' if torch.cuda.is_available() else 'cpu'\n",
    "            \n",
    "        self.device = device\n",
    "        self.input_dim = input_dim\n",
    "        self.model = AssetEmbeddingGRU(\n",
    "            input_dim=input_dim,\n",
    "            hidden_dim=hidden_dim,\n",
    "            embedding_dim=embedding_dim,\n",
    "            num_layers=num_layers,\n",
    "            dropout=dropout\n",
    "        ).to(device)\n",
    "        \n",
    "        self.scaler = StandardScaler()\n",
    "        self.is_trained = False\n",
    "        print(f\"✅ Model initialized with {sum(p.numel() for p in self.model.parameters())} parameters\")\n",
    "\n",
    "# Initialize the selector\n",
    "selector = DynamicPairSelector(\n",
    "    input_dim=input_dim,\n",
    "    hidden_dim=64,\n",
    "    embedding_dim=32,\n",
    "    num_layers=2,\n",
    "    dropout=0.2,\n",
    "    device=device\n",
    ")\n",
    "\n",
    "print(f\"✅ DynamicPairSelector initialized on {device}!\")"
   ]
  },
  {
   "cell_type": "code",
   "execution_count": null,
   "id": "821fd0dc-d21d-4b47-8dbf-c170c4eada13",
   "metadata": {},
   "outputs": [],
   "source": [
    "# QUICK FIX: Run this cell to replace the problematic Dataset class\n",
    "\n",
    "# Re-define the fixed Dataset class\n",
    "class AssetSequenceDataset(Dataset):\n",
    "    \"\"\"\n",
    "    Fixed Dataset for training the GRU embedding model\n",
    "    \"\"\"\n",
    "    def __init__(self, sequences, symbols, dates):\n",
    "        self.sequences = torch.FloatTensor(sequences)\n",
    "        self.symbols = symbols\n",
    "        # Convert dates to timestamps (numeric) for PyTorch compatibility\n",
    "        if hasattr(dates[0], 'timestamp'):  # pandas Timestamp\n",
    "            self.dates = [d.timestamp() for d in dates]\n",
    "        elif isinstance(dates[0], str):\n",
    "            self.dates = [pd.Timestamp(d).timestamp() for d in dates]\n",
    "        else:\n",
    "            self.dates = dates\n",
    "        \n",
    "    def __len__(self):\n",
    "        return len(self.sequences)\n",
    "    \n",
    "    def __getitem__(self, idx):\n",
    "        return {\n",
    "            'sequence': self.sequences[idx],\n",
    "            'symbol': self.symbols[idx],\n",
    "            'date': self.dates[idx]  # Now numeric timestamp\n",
    "        }\n",
    "\n",
    "# Update the generate_embeddings method to handle timestamp conversion\n",
    "def generate_embeddings_fixed(self, sequences, symbols, dates, batch_size=64):\n",
    "    \"\"\"\n",
    "    Generate embeddings for given sequences (fixed version)\n",
    "    \"\"\"\n",
    "    if not self.is_trained:\n",
    "        raise ValueError(\"Model must be trained before generating embeddings\")\n",
    "    \n",
    "    print(f\"Generating embeddings for {len(sequences)} sequences...\")\n",
    "    \n",
    "    # Scale sequences using fitted scaler\n",
    "    original_shape = sequences.shape\n",
    "    sequences_flat = sequences.reshape(-1, sequences.shape[-1])\n",
    "    sequences_scaled = self.scaler.transform(sequences_flat)\n",
    "    sequences_scaled = sequences_scaled.reshape(original_shape)\n",
    "    \n",
    "    # Create dataset and dataloader\n",
    "    dataset = AssetSequenceDataset(sequences_scaled, symbols, dates)\n",
    "    dataloader = DataLoader(dataset, batch_size=batch_size, shuffle=False)\n",
    "    \n",
    "    embeddings_list = []\n",
    "    symbols_list = []\n",
    "    dates_list = []\n",
    "    \n",
    "    self.model.eval()\n",
    "    with torch.no_grad():\n",
    "        for batch in dataloader:\n",
    "            sequences_batch = batch['sequence'].to(self.device)\n",
    "            embeddings, _ = self.model(sequences_batch)\n",
    "            \n",
    "            embeddings_list.append(embeddings.cpu().numpy())\n",
    "            symbols_list.extend(batch['symbol'])\n",
    "            # Convert timestamps back to datetime objects\n",
    "            batch_dates = batch['date']\n",
    "            if isinstance(batch_dates[0], (int, float)):\n",
    "                dates_list.extend([pd.Timestamp.fromtimestamp(ts) for ts in batch_dates])\n",
    "            else:\n",
    "                dates_list.extend(batch_dates)\n",
    "    \n",
    "    embeddings_array = np.vstack(embeddings_list)\n",
    "    print(f\"✅ Generated embeddings shape: {embeddings_array.shape}\")\n",
    "    \n",
    "    return embeddings_array, symbols_list, dates_list\n",
    "\n",
    "# Replace the method in the class\n",
    "DynamicPairSelector.generate_embeddings = generate_embeddings_fixed\n",
    "\n",
    "print(\"✅ Dataset class and generate_embeddings method fixed!\")\n",
    "print(\"Now you can run Cell 7 to train the model.\")"
   ]
  },
  {
   "cell_type": "code",
   "execution_count": null,
   "id": "5f400547-e1a0-42ee-9855-04e4cf485df1",
   "metadata": {},
   "outputs": [],
   "source": [
    "# Cell 5: Add data preparation method\n",
    "def prepare_data(self, splits):\n",
    "    \"\"\"\n",
    "    Prepare and scale data for training\n",
    "    \"\"\"\n",
    "    print(\"Preparing and scaling data...\")\n",
    "    \n",
    "    # Fit scaler on training data only\n",
    "    train_sequences_flat = splits['train']['sequences'].reshape(-1, \n",
    "                            splits['train']['sequences'].shape[-1])\n",
    "    self.scaler.fit(train_sequences_flat)\n",
    "    print(f\"Scaler fitted on {train_sequences_flat.shape[0]} training samples\")\n",
    "    \n",
    "    # Scale all splits\n",
    "    scaled_splits = {}\n",
    "    for split_name, split_data in splits.items():\n",
    "        sequences = split_data['sequences']\n",
    "        original_shape = sequences.shape\n",
    "        sequences_flat = sequences.reshape(-1, sequences.shape[-1])\n",
    "        sequences_scaled = self.scaler.transform(sequences_flat)\n",
    "        sequences_scaled = sequences_scaled.reshape(original_shape)\n",
    "        \n",
    "        scaled_splits[split_name] = {\n",
    "            'sequences': sequences_scaled,\n",
    "            'symbols': split_data['symbols'],\n",
    "            'dates': split_data['dates']\n",
    "        }\n",
    "        \n",
    "        print(f\"✅ {split_name}: {len(sequences_scaled)} sequences, shape: {sequences_scaled.shape}\")\n",
    "        \n",
    "    return scaled_splits\n",
    "\n",
    "# Add method to the class\n",
    "DynamicPairSelector.prepare_data = prepare_data\n",
    "\n",
    "print(\"✅ Data preparation method added!\")"
   ]
  },
  {
   "cell_type": "code",
   "execution_count": null,
   "id": "21a7cb01-48af-49fc-9f30-94bdc007ac08",
   "metadata": {},
   "outputs": [],
   "source": [
    "# Cell 6: Fixed training method (remove verbose from scheduler)\n",
    "def train_model_fixed(self, splits, epochs=100, batch_size=64, lr=0.001,\n",
    "                     early_stopping_patience=10, reconstruction_weight=1.0):\n",
    "    \"\"\"\n",
    "    Train the GRU embedding model (fixed scheduler)\n",
    "    \"\"\"\n",
    "    print(\"Starting training process...\")\n",
    "    scaled_splits = self.prepare_data(splits)\n",
    "    \n",
    "    # Create datasets\n",
    "    train_dataset = AssetSequenceDataset(\n",
    "        scaled_splits['train']['sequences'],\n",
    "        scaled_splits['train']['symbols'], \n",
    "        scaled_splits['train']['dates']\n",
    "    )\n",
    "    val_dataset = AssetSequenceDataset(\n",
    "        scaled_splits['val']['sequences'],\n",
    "        scaled_splits['val']['symbols'],\n",
    "        scaled_splits['val']['dates']\n",
    "    )\n",
    "    \n",
    "    # Create dataloaders\n",
    "    train_loader = DataLoader(train_dataset, batch_size=batch_size, shuffle=True)\n",
    "    val_loader = DataLoader(val_dataset, batch_size=batch_size, shuffle=False)\n",
    "    \n",
    "    print(f\"Training batches: {len(train_loader)}, Validation batches: {len(val_loader)}\")\n",
    "    \n",
    "    # Setup training (removed verbose parameter)\n",
    "    optimizer = optim.Adam(self.model.parameters(), lr=lr)\n",
    "    scheduler = optim.lr_scheduler.ReduceLROnPlateau(\n",
    "        optimizer, mode='min', patience=5, factor=0.5\n",
    "    )\n",
    "    \n",
    "    # Training tracking\n",
    "    train_losses = []\n",
    "    val_losses = []\n",
    "    best_val_loss = float('inf')\n",
    "    patience_counter = 0\n",
    "    \n",
    "    print(f\"🚀 Training for up to {epochs} epochs...\")\n",
    "    \n",
    "    for epoch in range(epochs):\n",
    "        # Training phase\n",
    "        self.model.train()\n",
    "        train_loss = 0.0\n",
    "        \n",
    "        for batch_idx, batch in enumerate(train_loader):\n",
    "            sequences = batch['sequence'].to(self.device)\n",
    "            \n",
    "            optimizer.zero_grad()\n",
    "            \n",
    "            # Forward pass\n",
    "            embeddings, reconstruction = self.model(sequences)\n",
    "            \n",
    "            # Reconstruction loss\n",
    "            recon_loss = nn.MSELoss()(reconstruction, sequences)\n",
    "            \n",
    "            # Embedding regularization (encourage diversity)\n",
    "            embedding_std = torch.std(embeddings, dim=0).mean()\n",
    "            regularization = -0.01 * embedding_std\n",
    "            \n",
    "            total_loss = reconstruction_weight * recon_loss + regularization\n",
    "            \n",
    "            total_loss.backward()\n",
    "            torch.nn.utils.clip_grad_norm_(self.model.parameters(), 1.0)\n",
    "            optimizer.step()\n",
    "            \n",
    "            train_loss += total_loss.item()\n",
    "        \n",
    "        # Validation phase\n",
    "        self.model.eval()\n",
    "        val_loss = 0.0\n",
    "        \n",
    "        with torch.no_grad():\n",
    "            for batch in val_loader:\n",
    "                sequences = batch['sequence'].to(self.device)\n",
    "                embeddings, reconstruction = self.model(sequences)\n",
    "                \n",
    "                recon_loss = nn.MSELoss()(reconstruction, sequences)\n",
    "                embedding_std = torch.std(embeddings, dim=0).mean()\n",
    "                regularization = -0.01 * embedding_std\n",
    "                \n",
    "                total_loss = reconstruction_weight * recon_loss + regularization\n",
    "                val_loss += total_loss.item()\n",
    "        \n",
    "        # Calculate average losses\n",
    "        train_loss /= len(train_loader)\n",
    "        val_loss /= len(val_loader)\n",
    "        \n",
    "        train_losses.append(train_loss)\n",
    "        val_losses.append(val_loss)\n",
    "        \n",
    "        # Learning rate scheduling\n",
    "        old_lr = optimizer.param_groups[0]['lr']\n",
    "        scheduler.step(val_loss)\n",
    "        new_lr = optimizer.param_groups[0]['lr']\n",
    "        \n",
    "        # Manual verbose output for learning rate changes\n",
    "        if new_lr != old_lr:\n",
    "            print(f\"    Learning rate reduced: {old_lr:.2e} → {new_lr:.2e}\")\n",
    "        \n",
    "        # Early stopping check\n",
    "        if val_loss < best_val_loss:\n",
    "            best_val_loss = val_loss\n",
    "            patience_counter = 0\n",
    "            # Save best model state\n",
    "            self.best_model_state = self.model.state_dict().copy()\n",
    "        else:\n",
    "            patience_counter += 1\n",
    "        \n",
    "        # Print progress\n",
    "        if epoch % 10 == 0 or epoch == epochs - 1:\n",
    "            print(f\"Epoch {epoch+1:3d}/{epochs} | \"\n",
    "                  f\"Train: {train_loss:.6f} | \"\n",
    "                  f\"Val: {val_loss:.6f} | \"\n",
    "                  f\"Best: {best_val_loss:.6f} | \"\n",
    "                  f\"LR: {optimizer.param_groups[0]['lr']:.2e}\")\n",
    "        \n",
    "        # Early stopping\n",
    "        if patience_counter >= early_stopping_patience:\n",
    "            print(f\"🛑 Early stopping at epoch {epoch+1}\")\n",
    "            break\n",
    "    \n",
    "    # Load best model\n",
    "    self.model.load_state_dict(self.best_model_state)\n",
    "    self.is_trained = True\n",
    "    \n",
    "    print(f\"✅ Training completed! Best validation loss: {best_val_loss:.6f}\")\n",
    "    \n",
    "    return train_losses, val_losses\n",
    "\n",
    "# Replace the training method\n",
    "DynamicPairSelector.train_model = train_model_fixed\n",
    "\n",
    "print(\"✅ Fixed training method added (removed verbose parameter)!\")\n",
    "print(\"Now you can run the training cell.\")"
   ]
  },
  {
   "cell_type": "code",
   "execution_count": null,
   "id": "c9ab0aff-9bfd-49a6-8479-a1aa2ecb2d5b",
   "metadata": {},
   "outputs": [],
   "source": [
    "# Cell 7: Train the model\n",
    "print(\"🎯 Starting model training...\")\n",
    "print(\"This may take several minutes depending on your data size and device\")\n",
    "\n",
    "# Train the model (adjust parameters as needed)\n",
    "train_losses, val_losses = selector.train_model(\n",
    "    splits=splits,\n",
    "    epochs=500,  # Start with fewer epochs for testing\n",
    "    batch_size=32,  # Adjust based on your GPU memory\n",
    "    lr=0.001,\n",
    "    early_stopping_patience=10,\n",
    "    reconstruction_weight=1.0\n",
    ")"
   ]
  },
  {
   "cell_type": "code",
   "execution_count": null,
   "id": "15a798aa-4578-4286-904e-b9fa95f1c420",
   "metadata": {},
   "outputs": [],
   "source": [
    "# Plot training history\n",
    "plt.figure(figsize=(12, 4))\n",
    "\n",
    "plt.subplot(1, 2, 1)\n",
    "plt.plot(train_losses, label='Train Loss', alpha=0.8)\n",
    "plt.plot(val_losses, label='Validation Loss', alpha=0.8)\n",
    "plt.xlabel('Epoch')\n",
    "plt.ylabel('Loss')\n",
    "plt.title('Training History')\n",
    "plt.legend()\n",
    "plt.grid(True, alpha=0.3)\n",
    "\n",
    "plt.subplot(1, 2, 2)\n",
    "# Plot last 30 epochs for detail\n",
    "last_n = min(30, len(train_losses))\n",
    "plt.plot(train_losses[-last_n:], label='Train Loss', alpha=0.8)\n",
    "plt.plot(val_losses[-last_n:], label='Val Loss', alpha=0.8)\n",
    "plt.xlabel('Epoch')\n",
    "plt.ylabel('Loss')\n",
    "plt.title(f'Last {last_n} Epochs')\n",
    "plt.legend()\n",
    "plt.grid(True, alpha=0.3)\n",
    "\n",
    "plt.tight_layout()\n",
    "plt.show()\n",
    "\n",
    "print(\"✅ Training completed and loss curves plotted!\")"
   ]
  },
  {
   "cell_type": "code",
   "execution_count": null,
   "id": "33dddce1-ed23-4b2d-a293-dedf4da6a8c6",
   "metadata": {},
   "outputs": [],
   "source": [
    "# Cell 8: Fixed generate embeddings method and execution\n",
    "def generate_embeddings(self, sequences, symbols, dates, batch_size=64):\n",
    "    \"\"\"\n",
    "    Generate embeddings for given sequences (fully fixed)\n",
    "    \"\"\"\n",
    "    if not self.is_trained:\n",
    "        raise ValueError(\"Model must be trained before generating embeddings\")\n",
    "    \n",
    "    print(f\"Generating embeddings for {len(sequences)} sequences...\")\n",
    "    \n",
    "    # Scale sequences using fitted scaler\n",
    "    original_shape = sequences.shape\n",
    "    sequences_flat = sequences.reshape(-1, sequences.shape[-1])\n",
    "    sequences_scaled = self.scaler.transform(sequences_flat)\n",
    "    sequences_scaled = sequences_scaled.reshape(original_shape)\n",
    "    \n",
    "    # Create dataset and dataloader\n",
    "    dataset = AssetSequenceDataset(sequences_scaled, symbols, dates)\n",
    "    dataloader = DataLoader(dataset, batch_size=batch_size, shuffle=False)\n",
    "    \n",
    "    embeddings_list = []\n",
    "    symbols_list = []\n",
    "    dates_list = []\n",
    "    \n",
    "    self.model.eval()\n",
    "    with torch.no_grad():\n",
    "        for batch in dataloader:\n",
    "            sequences_batch = batch['sequence'].to(self.device)\n",
    "            embeddings, _ = self.model(sequences_batch)  # Fixed: was sequences*batch\n",
    "            \n",
    "            embeddings_list.append(embeddings.cpu().numpy())\n",
    "            symbols_list.extend(batch['symbol'])\n",
    "            \n",
    "            # Convert timestamps back to datetime objects\n",
    "            batch_dates = batch['date']\n",
    "            if torch.is_tensor(batch_dates):\n",
    "                batch_dates = batch_dates.cpu().numpy()\n",
    "            \n",
    "            # Convert numeric timestamps back to pandas timestamps\n",
    "            for ts in batch_dates:\n",
    "                if isinstance(ts, (int, float)):\n",
    "                    dates_list.append(pd.Timestamp.fromtimestamp(ts))\n",
    "                else:\n",
    "                    dates_list.append(ts)\n",
    "    \n",
    "    embeddings_array = np.vstack(embeddings_list)\n",
    "    print(f\"✅ Generated embeddings shape: {embeddings_array.shape}\")\n",
    "    \n",
    "    return embeddings_array, symbols_list, dates_list\n",
    "\n",
    "# Add method to class\n",
    "DynamicPairSelector.generate_embeddings = generate_embeddings\n",
    "\n",
    "# Generate embeddings for test set\n",
    "print(\"🔮 Generating embeddings for test set...\")\n",
    "test_embeddings, test_symbols, test_dates = selector.generate_embeddings(\n",
    "    splits['test']['sequences'],\n",
    "    splits['test']['symbols'],\n",
    "    splits['test']['dates'],\n",
    "    batch_size=64\n",
    ")\n",
    "\n",
    "print(f\"Test embeddings generated:\")\n",
    "print(f\"  Shape: {test_embeddings.shape}\")\n",
    "print(f\"  Symbols: {len(set(test_symbols))} unique assets\")\n",
    "\n",
    "# Safe date range calculation\n",
    "try:\n",
    "    if hasattr(test_dates[0], 'date'):\n",
    "        print(f\"  Date range: {min(test_dates).date()} to {max(test_dates).date()}\")\n",
    "    else:\n",
    "        print(f\"  Date range: {min(test_dates)} to {max(test_dates)}\")\n",
    "except Exception as e:\n",
    "    print(f\"  Dates: {len(test_dates)} entries (type: {type(test_dates[0])})\")\n",
    "\n",
    "print(\"✅ Embeddings generation completed!\")"
   ]
  },
  {
   "cell_type": "code",
   "execution_count": null,
   "id": "003b9af7-c6e0-4760-a330-e8abd1577a1a",
   "metadata": {},
   "outputs": [],
   "source": [
    "# Cell 9: Dynamic pair selection method\n",
    "def find_dynamic_pairs(self, embeddings, symbols, dates, \n",
    "                      top_k_pairs=20, similarity_threshold=0.7):\n",
    "    \"\"\"\n",
    "    Find pairs based on embedding similarity\n",
    "    \"\"\"\n",
    "    print(f\"Finding dynamic pairs with similarity >= {similarity_threshold}\")\n",
    "    \n",
    "    # Create DataFrame for easier manipulation\n",
    "    embedding_df = pd.DataFrame({\n",
    "        'symbol': symbols,\n",
    "        'date': pd.to_datetime(dates),\n",
    "        **{f'emb_{i}': embeddings[:, i] for i in range(embeddings.shape[1])}\n",
    "    })\n",
    "    \n",
    "    # Group by date to find pairs for each time period\n",
    "    pairs_by_date = defaultdict(list)\n",
    "    unique_dates = sorted(embedding_df['date'].unique())\n",
    "    \n",
    "    print(f\"Processing {len(unique_dates)} unique dates...\")\n",
    "    \n",
    "    for date in unique_dates:\n",
    "        date_mask = embedding_df['date'] == date\n",
    "        date_embeddings = embeddings[embedding_df['date'] == date]\n",
    "        date_symbols = embedding_df[date_mask]['symbol'].values\n",
    "        \n",
    "        if len(date_embeddings) < 2:\n",
    "            continue\n",
    "        \n",
    "        # Calculate similarity for this date\n",
    "        date_similarity = cosine_similarity(date_embeddings)\n",
    "        \n",
    "        # Find pairs\n",
    "        pairs = []\n",
    "        n_assets = len(date_symbols)\n",
    "        \n",
    "        for i in range(n_assets):\n",
    "            for j in range(i + 1, n_assets):\n",
    "                similarity = date_similarity[i, j]\n",
    "                \n",
    "                if similarity >= similarity_threshold:\n",
    "                    pairs.append({\n",
    "                        'asset1': date_symbols[i],\n",
    "                        'asset2': date_symbols[j],\n",
    "                        'similarity': similarity,\n",
    "                        'date': date\n",
    "                    })\n",
    "        \n",
    "        # Sort by similarity and take top k\n",
    "        pairs.sort(key=lambda x: x['similarity'], reverse=True)\n",
    "        pairs_by_date[date] = pairs[:top_k_pairs]\n",
    "    \n",
    "    # Convert to DataFrame for analysis\n",
    "    all_pairs = []\n",
    "    for date, pairs in pairs_by_date.items():\n",
    "        for pair in pairs:\n",
    "            all_pairs.append(pair)\n",
    "    \n",
    "    pairs_df = pd.DataFrame(all_pairs)\n",
    "    \n",
    "    print(f\"✅ Found {len(all_pairs)} qualifying pairs across {len(pairs_by_date)} dates\")\n",
    "    if len(all_pairs) > 0:\n",
    "        print(f\"Similarity range: {pairs_df['similarity'].min():.3f} - {pairs_df['similarity'].max():.3f}\")\n",
    "        print(f\"Average pairs per date: {len(all_pairs) / len(pairs_by_date):.1f}\")\n",
    "    \n",
    "    return pairs_by_date, pairs_df\n",
    "\n",
    "# Add method to class\n",
    "DynamicPairSelector.find_dynamic_pairs = find_dynamic_pairs\n",
    "\n",
    "# Find pairs in test set\n",
    "print(\"🔍 Finding dynamic pairs...\")\n",
    "pairs_by_date, pairs_df = selector.find_dynamic_pairs(\n",
    "    test_embeddings, \n",
    "    test_symbols, \n",
    "    test_dates,\n",
    "    top_k_pairs=15,\n",
    "    similarity_threshold=0.6  # Lower threshold to find more pairs initially\n",
    ")\n",
    "\n",
    "# Display sample results\n",
    "if len(pairs_df) > 0:\n",
    "    print(\"\\n📊 Sample pairs found:\")\n",
    "    print(pairs_df.head(10)[['asset1', 'asset2', 'similarity', 'date']])\n",
    "    \n",
    "    # Show most frequent pairs\n",
    "    pair_counts = pairs_df.groupby(['asset1', 'asset2']).size().sort_values(ascending=False)\n",
    "    print(f\"\\n🔥 Most frequent pairs:\")\n",
    "    print(pair_counts.head())\n",
    "else:\n",
    "    print(\"No pairs found with current threshold. Try lowering similarity_threshold.\")"
   ]
  },
  {
   "cell_type": "code",
   "execution_count": null,
   "id": "f6304b0c-eed9-4120-8716-cf084481243e",
   "metadata": {},
   "outputs": [],
   "source": [
    "# Cell 10: Visualization methods\n",
    "def visualize_embeddings(self, embeddings, symbols, dates, method='tsne', sample_size=1000):\n",
    "    \"\"\"\n",
    "    Visualize embeddings in 2D space\n",
    "    \"\"\"\n",
    "    from sklearn.manifold import TSNE\n",
    "    from sklearn.decomposition import PCA\n",
    "    \n",
    "    # Sample data if too large\n",
    "    if len(embeddings) > sample_size:\n",
    "        indices = np.random.choice(len(embeddings), sample_size, replace=False)\n",
    "        embeddings = embeddings[indices]\n",
    "        symbols = np.array(symbols)[indices]\n",
    "        dates = np.array(dates)[indices]\n",
    "        print(f\"Sampled {sample_size} points for visualization\")\n",
    "    \n",
    "    print(f\"Reducing dimensionality using {method.upper()}...\")\n",
    "    \n",
    "    # Reduce dimensionality for visualization\n",
    "    if method == 'tsne':\n",
    "        reducer = TSNE(n_components=2, random_state=42, \n",
    "                      perplexity=min(30, len(embeddings)//4))\n",
    "    else:  # PCA\n",
    "        reducer = PCA(n_components=2, random_state=42)\n",
    "    \n",
    "    embeddings_2d = reducer.fit_transform(embeddings)\n",
    "    \n",
    "    # Create visualization\n",
    "    fig, axes = plt.subplots(1, 3, figsize=(18, 5))\n",
    "    \n",
    "    # Plot 1: Colored by symbol\n",
    "    unique_symbols = list(set(symbols))[:20]  # Limit to 20 symbols for readability\n",
    "    colors = plt.cm.tab20(np.linspace(0, 1, len(unique_symbols)))\n",
    "    \n",
    "    for i, symbol in enumerate(unique_symbols):\n",
    "        symbol_mask = np.array(symbols) == symbol\n",
    "        if symbol_mask.sum() > 0:\n",
    "            axes[0].scatter(embeddings_2d[symbol_mask, 0], embeddings_2d[symbol_mask, 1],\n",
    "                           c=[colors[i]], label=symbol, alpha=0.7, s=20)\n",
    "    \n",
    "    axes[0].set_xlabel(f'{method.upper()} Component 1')\n",
    "    axes[0].set_ylabel(f'{method.upper()} Component 2')\n",
    "    axes[0].set_title('Embeddings by Asset')\n",
    "    axes[0].legend(bbox_to_anchor=(1.05, 1), loc='upper left', fontsize=8)\n",
    "    \n",
    "    # Plot 2: Colored by time\n",
    "    dates_numeric = pd.to_datetime(dates).astype(int) / 10**9  # Convert to timestamp\n",
    "    scatter = axes[1].scatter(embeddings_2d[:, 0], embeddings_2d[:, 1],\n",
    "                            c=dates_numeric, cmap='viridis', alpha=0.7, s=20)\n",
    "    plt.colorbar(scatter, ax=axes[1], label='Time')\n",
    "    axes[1].set_xlabel(f'{method.upper()} Component 1')\n",
    "    axes[1].set_ylabel(f'{method.upper()} Component 2')\n",
    "    axes[1].set_title('Embeddings Over Time')\n",
    "    \n",
    "    # Plot 3: Density plot\n",
    "    axes[2].hexbin(embeddings_2d[:, 0], embeddings_2d[:, 1], gridsize=20, cmap='Blues')\n",
    "    axes[2].set_xlabel(f'{method.upper()} Component 1')\n",
    "    axes[2].set_ylabel(f'{method.upper()} Component 2')\n",
    "    axes[2].set_title('Embedding Density')\n",
    "    \n",
    "    plt.tight_layout()\n",
    "    plt.show()\n",
    "\n",
    "# Add method to class\n",
    "DynamicPairSelector.visualize_embeddings = visualize_embeddings\n",
    "\n",
    "# Visualize test embeddings\n",
    "print(\"🎨 Creating embedding visualizations...\")\n",
    "selector.visualize_embeddings(\n",
    "    test_embeddings, \n",
    "    test_symbols, \n",
    "    test_dates, \n",
    "    method='pca',  # Use PCA first (faster than t-SNE)\n",
    "    sample_size=800\n",
    ")"
   ]
  },
  {
   "cell_type": "code",
   "execution_count": null,
   "id": "db35278e-2b69-44c5-95a5-6f8b8409d11c",
   "metadata": {},
   "outputs": [],
   "source": [
    "# Cell 11: Analysis and summary methods\n",
    "def analyze_embedding_stability(self, embeddings, symbols, dates):\n",
    "    \"\"\"\n",
    "    Analyze how embeddings evolve over time for each asset\n",
    "    \"\"\"\n",
    "    # Create DataFrame\n",
    "    df = pd.DataFrame({\n",
    "        'symbol': symbols,\n",
    "        'date': pd.to_datetime(dates),\n",
    "        **{f'emb_{i}': embeddings[:, i] for i in range(embeddings.shape[1])}\n",
    "    })\n",
    "    \n",
    "    stability_metrics = {}\n",
    "    embedding_cols = [col for col in df.columns if col.startswith('emb_')]\n",
    "    \n",
    "    print(\"Analyzing embedding stability...\")\n",
    "    \n",
    "    for symbol in df['symbol'].unique():\n",
    "        symbol_df = df[df['symbol'] == symbol].sort_values('date')\n",
    "        if len(symbol_df) < 2:\n",
    "            continue\n",
    "        \n",
    "        # Calculate embedding changes over time\n",
    "        embeddings_ts = symbol_df[embedding_cols].values\n",
    "        \n",
    "        # Calculate consecutive differences\n",
    "        diffs = np.diff(embeddings_ts, axis=0)\n",
    "        embedding_velocity = np.linalg.norm(diffs, axis=1)\n",
    "        \n",
    "        if len(embedding_velocity) > 0:\n",
    "            stability_metrics[symbol] = {\n",
    "                'mean_velocity': np.mean(embedding_velocity),\n",
    "                'std_velocity': np.std(embedding_velocity),\n",
    "                'max_velocity': np.max(embedding_velocity),\n",
    "                'volatility': np.std(embedding_velocity) / (np.mean(embedding_velocity) + 1e-8)\n",
    "            }\n",
    "    \n",
    "    return stability_metrics\n",
    "\n",
    "def summary_report(self, pairs_df, stability_metrics):\n",
    "    \"\"\"\n",
    "    Generate a summary report\n",
    "    \"\"\"\n",
    "    print(\"=\"*60)\n",
    "    print(\"🎯 DYNAMIC PAIR SELECTION SUMMARY REPORT\")\n",
    "    print(\"=\"*60)\n",
    "    \n",
    "    if len(pairs_df) > 0:\n",
    "        print(f\"\\n📈 PAIR STATISTICS:\")\n",
    "        print(f\"  Total pairs found: {len(pairs_df)}\")\n",
    "        print(f\"  Unique asset pairs: {len(pairs_df.groupby(['asset1', 'asset2']))}\")\n",
    "        print(f\"  Date range: {pairs_df['date'].min().date()} to {pairs_df['date'].max().date()}\")\n",
    "        print(f\"  Similarity range: {pairs_df['similarity'].min():.3f} - {pairs_df['similarity'].max():.3f}\")\n",
    "        print(f\"  Average similarity: {pairs_df['similarity'].mean():.3f}\")\n",
    "        \n",
    "        # Most frequent pairs\n",
    "        pair_counts = pairs_df.groupby(['asset1', 'asset2']).size().sort_values(ascending=False)\n",
    "        print(f\"\\n🔥 TOP 5 MOST CONSISTENT PAIRS:\")\n",
    "        for (asset1, asset2), count in pair_counts.head().items():\n",
    "            avg_sim = pairs_df[(pairs_df['asset1'] == asset1)]"
   ]
  },
  {
   "cell_type": "code",
   "execution_count": null,
   "id": "664f1980-4964-4d82-869f-fec3f99486e1",
   "metadata": {},
   "outputs": [],
   "source": [
    "# Cell 12: Usage examples and next steps\n",
    "\n",
    "print(\"🚀 USAGE EXAMPLES FOR DYNAMIC PAIR TRADING\")\n",
    "print(\"=\"*50)\n",
    "\n",
    "# Example 1: Get pairs for a specific date\n",
    "if len(pairs_by_date) > 0:\n",
    "    sample_date = list(pairs_by_date.keys())[0]\n",
    "    sample_pairs = pairs_by_date[sample_date]\n",
    "    \n",
    "    print(f\"\\n📅 Example: Pairs for {sample_date.date()}:\")\n",
    "    for i, pair in enumerate(sample_pairs[:5]):\n",
    "        print(f\"  {i+1}. {pair['asset1']} ↔ {pair['asset2']}: {pair['similarity']:.3f}\")"
   ]
  },
  {
   "cell_type": "code",
   "execution_count": null,
   "id": "df18f19c-9761-42ec-9d08-96410e462f50",
   "metadata": {},
   "outputs": [],
   "source": [
    "# Example 2: Track a specific pair over time\n",
    "if len(pairs_df) > 0:\n",
    "    # Find a pair that appears multiple times\n",
    "    pair_counts = pairs_df.groupby(['asset1', 'asset2']).size()\n",
    "    if len(pair_counts) > 0:\n",
    "        most_frequent_pair = pair_counts.idxmax()\n",
    "        asset1, asset2 = most_frequent_pair\n",
    "        \n",
    "        pair_evolution = pairs_df[\n",
    "            (pairs_df['asset1'] == asset1) & (pairs_df['asset2'] == asset2)\n",
    "        ].sort_values('date')\n",
    "        \n",
    "        print(f\"\\n📈 Example: {asset1}-{asset2} similarity over time:\")\n",
    "        for _, row in pair_evolution.head().iterrows():\n",
    "            print(f\"  {row['date'].date()}: {row['similarity']:.3f}\")"
   ]
  },
  {
   "cell_type": "code",
   "execution_count": null,
   "id": "3db25a43-51bb-4006-bbd3-db0e7be20718",
   "metadata": {},
   "outputs": [],
   "source": [
    "# Example 3: Real-time pair selection function\n",
    "def get_current_pairs(selector, current_sequences, current_symbols, current_dates, \n",
    "                     top_k=10, min_similarity=0.7):\n",
    "    \"\"\"\n",
    "    Get current top pairs for trading\n",
    "    \"\"\"\n",
    "    # Generate embeddings for current data\n",
    "    embeddings, symbols, dates = selector.generate_embeddings(\n",
    "        current_sequences, current_symbols, current_dates\n",
    "    )\n",
    "    \n",
    "    # Find pairs\n",
    "    pairs_by_date, pairs_df = selector.find_dynamic_pairs(\n",
    "        embeddings, symbols, dates, \n",
    "        top_k_pairs=top_k, \n",
    "        similarity_threshold=min_similarity\n",
    "    )\n",
    "    \n",
    "    # Get most recent pairs\n",
    "    if len(pairs_df) > 0:\n",
    "        latest_date = pairs_df['date'].max()\n",
    "        latest_pairs = pairs_df[pairs_df['date'] == latest_date]\n",
    "        return latest_pairs.sort_values('similarity', ascending=False)\n",
    "    \n",
    "    return pd.DataFrame()"
   ]
  },
  {
   "cell_type": "code",
   "execution_count": null,
   "id": "2d42675a-70fd-4784-beb0-d80b1b437952",
   "metadata": {},
   "outputs": [],
   "source": [
    "status = 'WIP'\n",
    "\n",
    "if status == 'WIP':\n",
    "    print(\"stopping execution\")\n",
    "    sys.exit(1)"
   ]
  },
  {
   "cell_type": "code",
   "execution_count": null,
   "id": "7c91b88e-01cc-4a29-a8e8-7be01c08d753",
   "metadata": {
    "editable": true,
    "slideshow": {
     "slide_type": ""
    },
    "tags": []
   },
   "outputs": [],
   "source": [
    "status = 'WIP'\n",
    "\n",
    "if status == 'WIP':\n",
    "    print(\"stopping execution\")\n",
    "    sys.exit(1)"
   ]
  },
  {
   "cell_type": "code",
   "execution_count": null,
   "id": "3af2bae5-ac7c-42e0-860d-c5e6bcf00552",
   "metadata": {},
   "outputs": [],
   "source": [
    "%%script false\n",
    "print(\"This cell won't execute\")\n",
    "unfinished_work = True\n",
    "\n",
    "# Example usage:\n",
    "is_ready = validate_sequences_for_training(normalized_sequences)"
   ]
  }
 ],
 "metadata": {
  "kernelspec": {
   "display_name": "Python 3 (ipykernel)",
   "language": "python",
   "name": "python3"
  },
  "language_info": {
   "codemirror_mode": {
    "name": "ipython",
    "version": 3
   },
   "file_extension": ".py",
   "mimetype": "text/x-python",
   "name": "python",
   "nbconvert_exporter": "python",
   "pygments_lexer": "ipython3",
   "version": "3.12.9"
  }
 },
 "nbformat": 4,
 "nbformat_minor": 5
}
